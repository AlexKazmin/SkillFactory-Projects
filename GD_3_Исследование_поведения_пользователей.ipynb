{
  "nbformat": 4,
  "nbformat_minor": 0,
  "metadata": {
    "colab": {
      "name": "GD-3. Исследование поведения пользователей.ipynb",
      "provenance": [],
      "mount_file_id": "18Zfb3W7wgaLyXWUQZgBVUxaaKEpUiO5I",
      "authorship_tag": "ABX9TyO2Pc4zp8b/rN0HT5kBynxn",
      "include_colab_link": true
    },
    "kernelspec": {
      "name": "python3",
      "display_name": "Python 3"
    },
    "language_info": {
      "name": "python"
    }
  },
  "cells": [
    {
      "cell_type": "markdown",
      "metadata": {
        "id": "view-in-github",
        "colab_type": "text"
      },
      "source": [
        "<a href=\"https://colab.research.google.com/github/AlexKazmin/SkillFactory-Projects/blob/main/GD_3_%D0%98%D1%81%D1%81%D0%BB%D0%B5%D0%B4%D0%BE%D0%B2%D0%B0%D0%BD%D0%B8%D0%B5_%D0%BF%D0%BE%D0%B2%D0%B5%D0%B4%D0%B5%D0%BD%D0%B8%D1%8F_%D0%BF%D0%BE%D0%BB%D1%8C%D0%B7%D0%BE%D0%B2%D0%B0%D1%82%D0%B5%D0%BB%D0%B5%D0%B9.ipynb\" target=\"_parent\"><img src=\"https://colab.research.google.com/assets/colab-badge.svg\" alt=\"Open In Colab\"/></a>"
      ]
    },
    {
      "cell_type": "markdown",
      "source": [
        "# GD-3. Исследование поведения пользователей\n"
      ],
      "metadata": {
        "id": "MC1JrmcgeoLO"
      }
    },
    {
      "cell_type": "markdown",
      "source": [
        "# ЦЕЛЬ\n",
        "Исследовать поведение пользователей, зарегестрированных в 2018 году, в обновлённом приложении."
      ],
      "metadata": {
        "id": "qknQfuhReupx"
      }
    },
    {
      "cell_type": "markdown",
      "source": [
        "# ЗАДАЧИ\n",
        "1. Понять, как пользователи взаимодействуют с продуктом, и соотнести идеальный путь пользователей с фактическим.\n",
        "2. Выявить этапы, которые занимают больше всего времени, с тем чтобы поработать над их улучшением.\n",
        "3. Проанализировать зависимость оплат от прохождения обучения."
      ],
      "metadata": {
        "id": "208sr7_0exa4"
      }
    },
    {
      "cell_type": "markdown",
      "source": [
        "# КОНКРЕТНЫЕ ШАГИ \n",
        "\n",
        "1. Определить самые распространённые пути прохождения (последовательности) этапов \n",
        "в приложении.\n",
        "2. Посмотреть на среднее время между различными этапами и выделить самые большие временные промежутки.\n",
        "3. Определить, существует ли различие в частоте и средней величине оплат между тремя группами пользователей:\n",
        "  * пользователями, которые прошли обучение хотя бы раз;\n",
        "  * пользователями, которые начали обучение, но не прошли его ни разу;\n",
        "  * пользователями, которые не начинали обучение, а сразу же перешли к выбору уровня сложности."
      ],
      "metadata": {
        "id": "KyZjyUdEezzQ"
      }
    },
    {
      "cell_type": "markdown",
      "source": [
        "## Описание приложения\n",
        "Игра Quiz Freeze состоит из следующих этапов:\n",
        "* Регистрация (Registration) — это обязательный этап. Без регистрации пользователь не может пройти на следующие этапы работы с приложением.\n",
        "* Старт обучения (Tutorial Start) — опциональный этап. Пользователь после регистрации может перейти к обучению работе с приложением, а может и не перейти. При этом вернуться к обучению можно в любой момент. А ещё можно пройти обучение несколько раз.\n",
        "* Завершение обучения (Tutorial Finish) может произойти только в случае, если ранее произошло событие «Старт обучения», но при этом пользователь может не завершить обучение.\n",
        "* Выбор уровня сложности вопросов (Level Choice) — это обязательное событие, которое нужно для того, чтобы перейти к выбору пакетов вопросов. Таким образом, пользователь может не пройти обучение или даже не начинать его, но прежде чем начать отвечать, он обязан выбрать уровень сложности.\n",
        "* Выбор пакетов вопросов (Pack Choice, другое название Training Choice) — это этап, на котором пользователь выбирает себе бесплатный набор пакетов вопросов, на которые он будет отвечать.\n",
        "* Покупка платных пакетов вопросов (Purchase) — это факт совершения оплаты за вопросы, которые не доступны в списке бесплатных вопросов. \n",
        " "
      ],
      "metadata": {
        "id": "SVsYPpI2BST_"
      }
    },
    {
      "cell_type": "markdown",
      "source": [
        "Интересующие нас данные о действиях пользователей в игре Quiz Freeze хранятся в двух таблицах — event и purchase.\n",
        "\n",
        "Таблица event хранит данные о событиях, которые совершают пользователи. По сути, каждое событие — это факт прохождения пользователем какого-либо этапа игры.\n",
        "\n",
        "Таблица purchase хранит данные об оплатах, которые совершают пользователи."
      ],
      "metadata": {
        "id": "_ejbvCPMCDRo"
      }
    },
    {
      "cell_type": "markdown",
      "source": [
        "Получаем данные из файлов, фильтруем и преобразуем типы\n",
        "\n"
      ],
      "metadata": {
        "id": "M9PDfJLge4xQ"
      }
    },
    {
      "cell_type": "code",
      "source": [
        "import pandas as pd\n",
        "import warnings\n",
        "warnings.filterwarnings(\"ignore\")\n",
        "\n",
        "'Загружаем файл и оставляем только интересующий нас промежуток времени'\n",
        "\n",
        "event_df = pd.read_csv('/content/drive/MyDrive/PROJECT-3/7_4_Events (1).csv', sep=',')\n",
        "cond = (event_df['start_time'] >= '2018-01-01') & (event_df['start_time'] < '2019-01-01') & (event_df['event_type'] == 'registration')\n",
        "registered = event_df[cond]['user_id'].to_list()\n",
        "events = event_df[event_df['user_id'].isin(registered)]\n",
        "events['start_time'] = pd.to_datetime(events['start_time'], format='%Y-%m-%dT%H:%M:%S')"
      ],
      "metadata": {
        "id": "URTiH1IkepRP"
      },
      "execution_count": 3,
      "outputs": []
    },
    {
      "cell_type": "code",
      "source": [
        "'Пользователи совершившие оплату'\n",
        "\n",
        "purchase_df = pd.read_csv('/content/drive/MyDrive/PROJECT-3/purchase (1).csv')\n",
        "purchase_df['event_type'] = 'purchase'\n",
        "purchase = purchase_df[purchase_df['user_id'].isin(registered)]\n",
        "purchase['event_datetime'] = pd.to_datetime(purchase['event_datetime'], format='%Y-%m-%dT%H:%M:%S')"
      ],
      "metadata": {
        "id": "yqkSzOBNgB-5"
      },
      "execution_count": 4,
      "outputs": []
    },
    {
      "cell_type": "markdown",
      "source": [
        "Для того чтобы понимать, как пользователи переходят из этапа в этап и на каких из них возникают сложности, опреляем конверсию на каждом из этапов воронки. То есть нужно понять, какой процент пользователей переходит с предыдущего этапа на следующий."
      ],
      "metadata": {
        "id": "b6rLlOl8gIuJ"
      }
    },
    {
      "cell_type": "code",
      "source": [
        "'сколько пользователей совершают событие registration'\n",
        "\n",
        "events[events['event_type'] == 'registration']['user_id'].nunique()\n",
        "events['user_id'].nunique()"
      ],
      "metadata": {
        "colab": {
          "base_uri": "https://localhost:8080/"
        },
        "id": "yE1UkzhpgRhx",
        "outputId": "4003223d-c4c7-4db2-8f7b-3ad38abedc71"
      },
      "execution_count": 5,
      "outputs": [
        {
          "output_type": "execute_result",
          "data": {
            "text/plain": [
              "19926"
            ]
          },
          "metadata": {},
          "execution_count": 5
        }
      ]
    },
    {
      "cell_type": "code",
      "source": [
        "'всего уникальных пользователей'\n",
        "events['user_id'].nunique()"
      ],
      "metadata": {
        "colab": {
          "base_uri": "https://localhost:8080/"
        },
        "id": "V8WCn2AtAy6o",
        "outputId": "40b24ee2-55e9-4f7d-fc9b-3b66b4d2d620"
      },
      "execution_count": 9,
      "outputs": [
        {
          "output_type": "execute_result",
          "data": {
            "text/plain": [
              "19926"
            ]
          },
          "metadata": {},
          "execution_count": 9
        }
      ]
    },
    {
      "cell_type": "markdown",
      "source": [
        "Все пользователи совершают событие registration. Это обусловлено тем, что данный этап является обязательным для выполнения и без него пользователь не сможет перейти дальше.\n",
        "\n"
      ],
      "metadata": {
        "id": "u3y_-Xw9gUHZ"
      }
    },
    {
      "cell_type": "markdown",
      "source": [
        "Посмотрим на срез данных по событию tutorial_start."
      ],
      "metadata": {
        "id": "X-HvbVXVCdeI"
      }
    },
    {
      "cell_type": "code",
      "source": [
        "events[events['event_type'] == 'tutorial_start'].head(10)"
      ],
      "metadata": {
        "colab": {
          "base_uri": "https://localhost:8080/",
          "height": 363
        },
        "id": "SN1GRH3TCg7A",
        "outputId": "0b608195-aa54-4d09-c87f-642567306591"
      },
      "execution_count": 10,
      "outputs": [
        {
          "output_type": "execute_result",
          "data": {
            "text/plain": [
              "          id      event_type selected_level          start_time  tutorial_id  \\\n",
              "51412  80315  tutorial_start            NaN 2018-01-01 14:54:40      31505.0   \n",
              "51413  80316  tutorial_start            NaN 2018-01-01 15:00:51      31506.0   \n",
              "51415  80318  tutorial_start            NaN 2018-01-01 15:40:43      31507.0   \n",
              "51417  80320  tutorial_start            NaN 2018-01-01 17:47:40      31508.0   \n",
              "51420  80323  tutorial_start            NaN 2018-01-01 19:11:36      31509.0   \n",
              "51422  80325  tutorial_start            NaN 2018-01-01 19:46:11      31510.0   \n",
              "51434  80337  tutorial_start            NaN 2018-01-02 02:07:07      31511.0   \n",
              "51435  80338  tutorial_start            NaN 2018-01-02 03:03:44      31512.0   \n",
              "51437  80340  tutorial_start            NaN 2018-01-02 04:55:11      31513.0   \n",
              "51446  80349  tutorial_start            NaN 2018-01-02 07:08:00      31514.0   \n",
              "\n",
              "       user_id  \n",
              "51412    27836  \n",
              "51413    27835  \n",
              "51415    27836  \n",
              "51417    27833  \n",
              "51420    27839  \n",
              "51422    27834  \n",
              "51434    27840  \n",
              "51435    27845  \n",
              "51437    27842  \n",
              "51446    27845  "
            ],
            "text/html": [
              "\n",
              "  <div id=\"df-493492b6-bde4-48ee-9a1c-d34b7c2a1c8b\">\n",
              "    <div class=\"colab-df-container\">\n",
              "      <div>\n",
              "<style scoped>\n",
              "    .dataframe tbody tr th:only-of-type {\n",
              "        vertical-align: middle;\n",
              "    }\n",
              "\n",
              "    .dataframe tbody tr th {\n",
              "        vertical-align: top;\n",
              "    }\n",
              "\n",
              "    .dataframe thead th {\n",
              "        text-align: right;\n",
              "    }\n",
              "</style>\n",
              "<table border=\"1\" class=\"dataframe\">\n",
              "  <thead>\n",
              "    <tr style=\"text-align: right;\">\n",
              "      <th></th>\n",
              "      <th>id</th>\n",
              "      <th>event_type</th>\n",
              "      <th>selected_level</th>\n",
              "      <th>start_time</th>\n",
              "      <th>tutorial_id</th>\n",
              "      <th>user_id</th>\n",
              "    </tr>\n",
              "  </thead>\n",
              "  <tbody>\n",
              "    <tr>\n",
              "      <th>51412</th>\n",
              "      <td>80315</td>\n",
              "      <td>tutorial_start</td>\n",
              "      <td>NaN</td>\n",
              "      <td>2018-01-01 14:54:40</td>\n",
              "      <td>31505.0</td>\n",
              "      <td>27836</td>\n",
              "    </tr>\n",
              "    <tr>\n",
              "      <th>51413</th>\n",
              "      <td>80316</td>\n",
              "      <td>tutorial_start</td>\n",
              "      <td>NaN</td>\n",
              "      <td>2018-01-01 15:00:51</td>\n",
              "      <td>31506.0</td>\n",
              "      <td>27835</td>\n",
              "    </tr>\n",
              "    <tr>\n",
              "      <th>51415</th>\n",
              "      <td>80318</td>\n",
              "      <td>tutorial_start</td>\n",
              "      <td>NaN</td>\n",
              "      <td>2018-01-01 15:40:43</td>\n",
              "      <td>31507.0</td>\n",
              "      <td>27836</td>\n",
              "    </tr>\n",
              "    <tr>\n",
              "      <th>51417</th>\n",
              "      <td>80320</td>\n",
              "      <td>tutorial_start</td>\n",
              "      <td>NaN</td>\n",
              "      <td>2018-01-01 17:47:40</td>\n",
              "      <td>31508.0</td>\n",
              "      <td>27833</td>\n",
              "    </tr>\n",
              "    <tr>\n",
              "      <th>51420</th>\n",
              "      <td>80323</td>\n",
              "      <td>tutorial_start</td>\n",
              "      <td>NaN</td>\n",
              "      <td>2018-01-01 19:11:36</td>\n",
              "      <td>31509.0</td>\n",
              "      <td>27839</td>\n",
              "    </tr>\n",
              "    <tr>\n",
              "      <th>51422</th>\n",
              "      <td>80325</td>\n",
              "      <td>tutorial_start</td>\n",
              "      <td>NaN</td>\n",
              "      <td>2018-01-01 19:46:11</td>\n",
              "      <td>31510.0</td>\n",
              "      <td>27834</td>\n",
              "    </tr>\n",
              "    <tr>\n",
              "      <th>51434</th>\n",
              "      <td>80337</td>\n",
              "      <td>tutorial_start</td>\n",
              "      <td>NaN</td>\n",
              "      <td>2018-01-02 02:07:07</td>\n",
              "      <td>31511.0</td>\n",
              "      <td>27840</td>\n",
              "    </tr>\n",
              "    <tr>\n",
              "      <th>51435</th>\n",
              "      <td>80338</td>\n",
              "      <td>tutorial_start</td>\n",
              "      <td>NaN</td>\n",
              "      <td>2018-01-02 03:03:44</td>\n",
              "      <td>31512.0</td>\n",
              "      <td>27845</td>\n",
              "    </tr>\n",
              "    <tr>\n",
              "      <th>51437</th>\n",
              "      <td>80340</td>\n",
              "      <td>tutorial_start</td>\n",
              "      <td>NaN</td>\n",
              "      <td>2018-01-02 04:55:11</td>\n",
              "      <td>31513.0</td>\n",
              "      <td>27842</td>\n",
              "    </tr>\n",
              "    <tr>\n",
              "      <th>51446</th>\n",
              "      <td>80349</td>\n",
              "      <td>tutorial_start</td>\n",
              "      <td>NaN</td>\n",
              "      <td>2018-01-02 07:08:00</td>\n",
              "      <td>31514.0</td>\n",
              "      <td>27845</td>\n",
              "    </tr>\n",
              "  </tbody>\n",
              "</table>\n",
              "</div>\n",
              "      <button class=\"colab-df-convert\" onclick=\"convertToInteractive('df-493492b6-bde4-48ee-9a1c-d34b7c2a1c8b')\"\n",
              "              title=\"Convert this dataframe to an interactive table.\"\n",
              "              style=\"display:none;\">\n",
              "        \n",
              "  <svg xmlns=\"http://www.w3.org/2000/svg\" height=\"24px\"viewBox=\"0 0 24 24\"\n",
              "       width=\"24px\">\n",
              "    <path d=\"M0 0h24v24H0V0z\" fill=\"none\"/>\n",
              "    <path d=\"M18.56 5.44l.94 2.06.94-2.06 2.06-.94-2.06-.94-.94-2.06-.94 2.06-2.06.94zm-11 1L8.5 8.5l.94-2.06 2.06-.94-2.06-.94L8.5 2.5l-.94 2.06-2.06.94zm10 10l.94 2.06.94-2.06 2.06-.94-2.06-.94-.94-2.06-.94 2.06-2.06.94z\"/><path d=\"M17.41 7.96l-1.37-1.37c-.4-.4-.92-.59-1.43-.59-.52 0-1.04.2-1.43.59L10.3 9.45l-7.72 7.72c-.78.78-.78 2.05 0 2.83L4 21.41c.39.39.9.59 1.41.59.51 0 1.02-.2 1.41-.59l7.78-7.78 2.81-2.81c.8-.78.8-2.07 0-2.86zM5.41 20L4 18.59l7.72-7.72 1.47 1.35L5.41 20z\"/>\n",
              "  </svg>\n",
              "      </button>\n",
              "      \n",
              "  <style>\n",
              "    .colab-df-container {\n",
              "      display:flex;\n",
              "      flex-wrap:wrap;\n",
              "      gap: 12px;\n",
              "    }\n",
              "\n",
              "    .colab-df-convert {\n",
              "      background-color: #E8F0FE;\n",
              "      border: none;\n",
              "      border-radius: 50%;\n",
              "      cursor: pointer;\n",
              "      display: none;\n",
              "      fill: #1967D2;\n",
              "      height: 32px;\n",
              "      padding: 0 0 0 0;\n",
              "      width: 32px;\n",
              "    }\n",
              "\n",
              "    .colab-df-convert:hover {\n",
              "      background-color: #E2EBFA;\n",
              "      box-shadow: 0px 1px 2px rgba(60, 64, 67, 0.3), 0px 1px 3px 1px rgba(60, 64, 67, 0.15);\n",
              "      fill: #174EA6;\n",
              "    }\n",
              "\n",
              "    [theme=dark] .colab-df-convert {\n",
              "      background-color: #3B4455;\n",
              "      fill: #D2E3FC;\n",
              "    }\n",
              "\n",
              "    [theme=dark] .colab-df-convert:hover {\n",
              "      background-color: #434B5C;\n",
              "      box-shadow: 0px 1px 3px 1px rgba(0, 0, 0, 0.15);\n",
              "      filter: drop-shadow(0px 1px 2px rgba(0, 0, 0, 0.3));\n",
              "      fill: #FFFFFF;\n",
              "    }\n",
              "  </style>\n",
              "\n",
              "      <script>\n",
              "        const buttonEl =\n",
              "          document.querySelector('#df-493492b6-bde4-48ee-9a1c-d34b7c2a1c8b button.colab-df-convert');\n",
              "        buttonEl.style.display =\n",
              "          google.colab.kernel.accessAllowed ? 'block' : 'none';\n",
              "\n",
              "        async function convertToInteractive(key) {\n",
              "          const element = document.querySelector('#df-493492b6-bde4-48ee-9a1c-d34b7c2a1c8b');\n",
              "          const dataTable =\n",
              "            await google.colab.kernel.invokeFunction('convertToInteractive',\n",
              "                                                     [key], {});\n",
              "          if (!dataTable) return;\n",
              "\n",
              "          const docLinkHtml = 'Like what you see? Visit the ' +\n",
              "            '<a target=\"_blank\" href=https://colab.research.google.com/notebooks/data_table.ipynb>data table notebook</a>'\n",
              "            + ' to learn more about interactive tables.';\n",
              "          element.innerHTML = '';\n",
              "          dataTable['output_type'] = 'display_data';\n",
              "          await google.colab.output.renderOutput(dataTable, element);\n",
              "          const docLink = document.createElement('div');\n",
              "          docLink.innerHTML = docLinkHtml;\n",
              "          element.appendChild(docLink);\n",
              "        }\n",
              "      </script>\n",
              "    </div>\n",
              "  </div>\n",
              "  "
            ]
          },
          "metadata": {},
          "execution_count": 10
        }
      ]
    },
    {
      "cell_type": "markdown",
      "source": [
        "Посмотрим на количество пользователей, которые совершают событие tutorial_start:"
      ],
      "metadata": {
        "id": "6xnq8RrcClu4"
      }
    },
    {
      "cell_type": "code",
      "source": [
        "events[events['event_type'] == 'tutorial_start']['user_id'].nunique()"
      ],
      "metadata": {
        "colab": {
          "base_uri": "https://localhost:8080/"
        },
        "id": "FrXICUUogXG5",
        "outputId": "461296e8-4323-4e18-99d8-d372f227ef47"
      },
      "execution_count": 13,
      "outputs": [
        {
          "output_type": "execute_result",
          "data": {
            "text/plain": [
              "11858"
            ]
          },
          "metadata": {},
          "execution_count": 13
        }
      ]
    },
    {
      "cell_type": "markdown",
      "source": [
        "Число пользователей, которые перешли к выполнению обучения, меньше, чем число пользователей, прошедших регистрацию.\n",
        "\n",
        "Определим процент пользователей, которые перешли к выполнению обучения, и запишем его в переменную percent_tutorial_start_users."
      ],
      "metadata": {
        "id": "Uuq2jn77CrdY"
      }
    },
    {
      "cell_type": "code",
      "source": [
        "registered_users_count = events[events[\"event_type\"] == \"registration\"][\n",
        "    \"user_id\"\n",
        "].nunique()\n",
        "tutorial_start_users_count = events[events[\"event_type\"] == \"tutorial_start\"][\n",
        "    \"user_id\"\n",
        "].nunique()\n",
        "percent_tutorial_start_users = tutorial_start_users_count / registered_users_count\n",
        "print(\n",
        "    \"Процент пользователей, начавших обучение (от общего числа зарегистрировавшихся): {:.2%}\".format(\n",
        "        percent_tutorial_start_users\n",
        "    )\n",
        ")"
      ],
      "metadata": {
        "colab": {
          "base_uri": "https://localhost:8080/"
        },
        "id": "sXzajgRWgZNR",
        "outputId": "628acdd0-c0d1-4d28-c49a-b3617470bf39"
      },
      "execution_count": 14,
      "outputs": [
        {
          "output_type": "stream",
          "name": "stdout",
          "text": [
            "Процент пользователей, начавших обучение (от общего числа зарегистрировавшихся): 59.51%\n"
          ]
        }
      ]
    },
    {
      "cell_type": "markdown",
      "source": [
        "Посмотрим, какое количество пользователей проходит обучение до конца (событие tutorial_finish).\n",
        "\n"
      ],
      "metadata": {
        "id": "QhpsDD2TC30Y"
      }
    },
    {
      "cell_type": "code",
      "source": [
        "events[events['event_type'] == 'tutorial_finish']['user_id'].nunique()"
      ],
      "metadata": {
        "colab": {
          "base_uri": "https://localhost:8080/"
        },
        "id": "iLhBRE10gcNx",
        "outputId": "d8d925d9-f9d5-4840-a45b-e450779a9f22"
      },
      "execution_count": 15,
      "outputs": [
        {
          "output_type": "execute_result",
          "data": {
            "text/plain": [
              "10250"
            ]
          },
          "metadata": {},
          "execution_count": 15
        }
      ]
    },
    {
      "cell_type": "markdown",
      "source": [
        "Рассчитаем процент пользователей, завершивших обучение, среди пользователей, которые начали обучение. Это будет показатель tutorial_completion_rate (коэффициент «завершаемости» обучения)."
      ],
      "metadata": {
        "id": "0AfE8tSSDDAw"
      }
    },
    {
      "cell_type": "code",
      "source": [
        "tutorial_finish_users_count = events[events[\"event_type\"] == \"tutorial_finish\"][\n",
        "    \"user_id\"\n",
        "].nunique()\n",
        "tutorial_completion_rate = tutorial_finish_users_count / tutorial_start_users_count\n",
        "print(\n",
        "    \"Процент пользователей, завершивших обучение: {:.2%}\".format(\n",
        "        tutorial_completion_rate\n",
        "    )\n",
        ")"
      ],
      "metadata": {
        "colab": {
          "base_uri": "https://localhost:8080/"
        },
        "id": "axjgM5qEgesJ",
        "outputId": "7323446e-a71e-4cdd-f6fa-a3e608c78281"
      },
      "execution_count": 16,
      "outputs": [
        {
          "output_type": "stream",
          "name": "stdout",
          "text": [
            "Процент пользователей, завершивших обучение: 86.44%\n"
          ]
        }
      ]
    },
    {
      "cell_type": "markdown",
      "source": [
        "На данном этапе исследования можно сделать вывод, что в нашем приложении достаточно хороший процент прохождения обучения.\n",
        "\n"
      ],
      "metadata": {
        "id": "icw-b7fZgheo"
      }
    },
    {
      "cell_type": "markdown",
      "source": [
        "Изучаем level_choice (выбор уровня сложности)\n",
        "\n",
        "Посмотрим на процент тех, кто доходит до этого этапа."
      ],
      "metadata": {
        "id": "mRsnqAUqDYsw"
      }
    },
    {
      "cell_type": "code",
      "source": [
        "'количество пользователей, доходивщих до этапа level_choice'\n",
        "\n",
        "events[events['event_type'] == 'level_choice']['user_id'].nunique()"
      ],
      "metadata": {
        "colab": {
          "base_uri": "https://localhost:8080/"
        },
        "id": "EBiPrtA0gjah",
        "outputId": "a20050c4-8d3d-4415-9105-8dc5dff84e1e"
      },
      "execution_count": 17,
      "outputs": [
        {
          "output_type": "execute_result",
          "data": {
            "text/plain": [
              "8342"
            ]
          },
          "metadata": {},
          "execution_count": 17
        }
      ]
    },
    {
      "cell_type": "code",
      "source": [
        "'рассчитаем долю пользователей percent_level_choice_users, которые выбрали уровень сложности, от общего числа зарегистрировавшихся'\n",
        "\n",
        "level_choice_users_count = events[events[\"event_type\"] == \"level_choice\"][\n",
        "    \"user_id\"\n",
        "].nunique()\n",
        "percent_level_choice_users = level_choice_users_count / registered_users_count\n",
        "print(\n",
        "    \"Процент пользователей, выбравших уровень сложности тренировок (от общего числа зарегистрировавшихся): {:.2%}\".format(\n",
        "        percent_level_choice_users\n",
        "    )\n",
        ")"
      ],
      "metadata": {
        "colab": {
          "base_uri": "https://localhost:8080/"
        },
        "id": "RguAjDS6gl1K",
        "outputId": "13ec0547-437f-45af-e3b1-2c7aeb90cc79"
      },
      "execution_count": 18,
      "outputs": [
        {
          "output_type": "stream",
          "name": "stdout",
          "text": [
            "Процент пользователей, выбравших уровень сложности тренировок (от общего числа зарегистрировавшихся): 41.86%\n"
          ]
        }
      ]
    },
    {
      "cell_type": "markdown",
      "source": [
        "Меньше половины пользователей (41.86 %) доходят до этапа выбора уровня сложности вопросов. А ведь этот этап напрямую влияет на то, что пользователь будет пользоваться приложением через бесплатные возможности, которые в дальнейшем могут привести к оплате.\n",
        "\n",
        "Таким образом, для успешной монетизации приложения крайне важно оптимизировать прохождение до этапа выбора сложности."
      ],
      "metadata": {
        "id": "y59Z7dIfgqNI"
      }
    },
    {
      "cell_type": "markdown",
      "source": [
        "Изучаем pack_choice\n",
        "\n",
        "Определим число пользователей, которые совершили событие выбора бесплатного пакета вопросов pack_choice."
      ],
      "metadata": {
        "id": "DqM8-Ph1DtUi"
      }
    },
    {
      "cell_type": "code",
      "source": [
        "events[events['event_type'] == 'pack_choice']['user_id'].nunique()"
      ],
      "metadata": {
        "colab": {
          "base_uri": "https://localhost:8080/"
        },
        "id": "lxhhAi_Mgta4",
        "outputId": "1a65cc2e-7419-455d-b19d-956766aff693"
      },
      "execution_count": 19,
      "outputs": [
        {
          "output_type": "execute_result",
          "data": {
            "text/plain": [
              "5737"
            ]
          },
          "metadata": {},
          "execution_count": 19
        }
      ]
    },
    {
      "cell_type": "markdown",
      "source": [
        "Итак, 5737 пользователя доходят до этапа выбора бесплатных вопросов. \n",
        "Оценим процент таких пользователей от числа пользователей, которые выбрали уровень сложности."
      ],
      "metadata": {
        "id": "ERCuGAsxEJGw"
      }
    },
    {
      "cell_type": "code",
      "source": [
        "training_choice_users_count = events[events[\"event_type\"] == \"pack_choice\"][\n",
        "    \"user_id\"\n",
        "].nunique()\n",
        "percent_training_choice_users = training_choice_users_count / level_choice_users_count\n",
        "print(\n",
        "    \"Процент пользователей, выбравших набор бесплатных вопросов (от числа пользователей, которые выбрали уровень сложности): {:.2%}\".format(\n",
        "        percent_training_choice_users\n",
        "    )\n",
        ")"
      ],
      "metadata": {
        "colab": {
          "base_uri": "https://localhost:8080/"
        },
        "id": "BfSZb0OOgvnw",
        "outputId": "29cc2c07-79a3-4520-bbcc-f5cdf5375599"
      },
      "execution_count": 20,
      "outputs": [
        {
          "output_type": "stream",
          "name": "stdout",
          "text": [
            "Процент пользователей, выбравших набор бесплатных вопросов (от числа пользователей, которые выбрали уровень сложности): 68.77%\n"
          ]
        }
      ]
    },
    {
      "cell_type": "markdown",
      "source": [
        "Изучаем покупку платных пакетов\n",
        "\n",
        "Следующий этап после выбора бесплатного набора вопросов — это возможная покупка платных пакетов. Оценим число пользователей, которые совершили покупку. Для этого нам потребуется датафрейм purchase_df."
      ],
      "metadata": {
        "id": "IdXHcUEcEUHg"
      }
    },
    {
      "cell_type": "code",
      "source": [
        "purchase['user_id'].nunique()\n",
        "paying_users_count = purchase[\"user_id\"].nunique()\n",
        "paying_users_count"
      ],
      "metadata": {
        "colab": {
          "base_uri": "https://localhost:8080/"
        },
        "id": "fHDNUh-AgyEw",
        "outputId": "2a7c60c8-fc20-43c3-c4dd-44004c00bcd8"
      },
      "execution_count": 21,
      "outputs": [
        {
          "output_type": "execute_result",
          "data": {
            "text/plain": [
              "1600"
            ]
          },
          "metadata": {},
          "execution_count": 21
        }
      ]
    },
    {
      "cell_type": "markdown",
      "source": [
        "Рассчитаем процент пользователей percent_of_paying_users, которые оплатили вопросы, от числа пользователей, которые приобрели бесплатные вопросы:"
      ],
      "metadata": {
        "id": "OCASgkNpEh5j"
      }
    },
    {
      "cell_type": "code",
      "source": [
        "percent_of_paying_users = paying_users_count / training_choice_users_count\n",
        "print(\n",
        "    \"Процент пользователей, которые оплатили вопросы (от числа пользователей, которые выбрали тренировки): {:.2%}\".format(\n",
        "        percent_of_paying_users\n",
        "    )\n",
        ")"
      ],
      "metadata": {
        "colab": {
          "base_uri": "https://localhost:8080/"
        },
        "id": "KLngp12Sg0bI",
        "outputId": "17745550-c42a-4ac2-d381-e5f013ebedb7"
      },
      "execution_count": 22,
      "outputs": [
        {
          "output_type": "stream",
          "name": "stdout",
          "text": [
            "Процент пользователей, которые оплатили вопросы (от числа пользователей, которые выбрали тренировки): 27.89%\n"
          ]
        }
      ]
    },
    {
      "cell_type": "markdown",
      "source": [
        "Таким образом, чуть больше четверти пользователей, которые выбирают бесплатные вопросы, в дальнейшем покупают их.\n",
        "\n"
      ],
      "metadata": {
        "id": "Vn-JAemug26H"
      }
    },
    {
      "cell_type": "markdown",
      "source": [
        "Посмотрим, какой процент составляют покупатели от общего числа зарегистрировавшихся. Для этого создадим переменную purchase_rate."
      ],
      "metadata": {
        "id": "UVNtR4prEuCp"
      }
    },
    {
      "cell_type": "code",
      "source": [
        "purchase_rate = paying_users_count / registered_users_count\n",
        "print(\n",
        "    \"Процент пользователей, которые оплатили вопросы(от числа зарегистрировавшихся пользователей): {:.2%}\".format(\n",
        "        purchase_rate\n",
        "    )\n",
        ")"
      ],
      "metadata": {
        "colab": {
          "base_uri": "https://localhost:8080/"
        },
        "id": "QFQo6zzfg5OA",
        "outputId": "57e34f8d-cd67-4aa3-ff93-7176751eafa9"
      },
      "execution_count": 24,
      "outputs": [
        {
          "output_type": "stream",
          "name": "stdout",
          "text": [
            "Процент пользователей, которые оплатили вопросы(от числа зарегистрировавшихся пользователей): 8.03%\n"
          ]
        }
      ]
    },
    {
      "cell_type": "markdown",
      "source": [
        "Итак, 8% зарегистрировавшихся пользователей приобретают платный пакет.\n",
        "\n",
        "Само по себе это число нам ни о чём не говорит, поэтому в рамках одной из гипотез мы рассмотрим этот процент для пользователей разных групп. И эта информация укажет нам возможные пути оптимизации."
      ],
      "metadata": {
        "id": "nv29vP-jE4Mo"
      }
    },
    {
      "cell_type": "markdown",
      "source": [
        "# Анализ уникальных пользовательских путей\n",
        "\n",
        "Чтобы понимать, какие есть различные последовательности прохождения пользователей по воронке и насколько часто они встречаются, можно воспользоваться таким подходом:\n",
        "\n",
        "- отсортировать все события по возрастанию во времени\n",
        "- объединить для каждого пользователя все его события в один список\n",
        "- подсчитать частоту различных списков."
      ],
      "metadata": {
        "id": "msGCNDA9g9Ew"
      }
    },
    {
      "cell_type": "markdown",
      "source": [
        "Объединим датафрейм с событиями с датафреймом по оплатам. Это позволит анализировать все эти события в рамках одной структуры данных.\n",
        "\n",
        "Добавим в датафрейм purchase_df столбец event_type, который будет содержать одно значение purchase. Это нужно, чтобы в объединённом датафрейме однозначно выделить события оплаты."
      ],
      "metadata": {
        "id": "FZxYGhrqHuP4"
      }
    },
    {
      "cell_type": "code",
      "source": [
        "purchase['event_type'] = 'purchase'\n",
        "events = events.rename(columns={\"id\": \"event_id\"})\n",
        "purchase = purchase.rename(columns={\"id\": \"purchase_id\"})\n",
        "total_events_df = pd.concat([events,purchase],sort=False)\n",
        "total_events_df = total_events_df.reset_index(drop=True).sort_values('start_time')\n",
        "total_events_df"
      ],
      "metadata": {
        "colab": {
          "base_uri": "https://localhost:8080/",
          "height": 423
        },
        "id": "2elBwzpxhAAw",
        "outputId": "40d257e3-2bf5-4d5a-be23-82c76672e139"
      },
      "execution_count": 25,
      "outputs": [
        {
          "output_type": "execute_result",
          "data": {
            "text/plain": [
              "       event_id    event_type selected_level          start_time  tutorial_id  \\\n",
              "0       80308.0  registration            NaN 2018-01-01 03:48:40          NaN   \n",
              "1       80309.0  registration            NaN 2018-01-01 04:07:25          NaN   \n",
              "2       80310.0  registration            NaN 2018-01-01 08:35:10          NaN   \n",
              "3       80311.0  registration            NaN 2018-01-01 11:54:47          NaN   \n",
              "4       80312.0  registration            NaN 2018-01-01 13:28:07          NaN   \n",
              "...         ...           ...            ...                 ...          ...   \n",
              "68554       NaN      purchase            NaN                 NaT          NaN   \n",
              "68555       NaN      purchase            NaN                 NaT          NaN   \n",
              "68556       NaN      purchase            NaN                 NaT          NaN   \n",
              "68557       NaN      purchase            NaN                 NaT          NaN   \n",
              "68558       NaN      purchase            NaN                 NaT          NaN   \n",
              "\n",
              "       user_id  purchase_id      event_datetime  amount  \n",
              "0        27832          NaN                 NaT     NaN  \n",
              "1        27833          NaN                 NaT     NaN  \n",
              "2        27834          NaN                 NaT     NaN  \n",
              "3        27835          NaN                 NaT     NaN  \n",
              "4        27836          NaN                 NaT     NaN  \n",
              "...        ...          ...                 ...     ...  \n",
              "68554    47498      18441.0 2019-01-02 03:48:19   100.0  \n",
              "68555    47647      18442.0 2019-01-02 23:26:26   150.0  \n",
              "68556    47554      18443.0 2019-01-03 00:36:36    50.0  \n",
              "68557    47742      18448.0 2019-01-04 12:51:41    50.0  \n",
              "68558    47732      18452.0 2019-01-06 07:14:25   150.0  \n",
              "\n",
              "[68559 rows x 9 columns]"
            ],
            "text/html": [
              "\n",
              "  <div id=\"df-9731a954-a75b-426a-b480-88e7c1f8c64f\">\n",
              "    <div class=\"colab-df-container\">\n",
              "      <div>\n",
              "<style scoped>\n",
              "    .dataframe tbody tr th:only-of-type {\n",
              "        vertical-align: middle;\n",
              "    }\n",
              "\n",
              "    .dataframe tbody tr th {\n",
              "        vertical-align: top;\n",
              "    }\n",
              "\n",
              "    .dataframe thead th {\n",
              "        text-align: right;\n",
              "    }\n",
              "</style>\n",
              "<table border=\"1\" class=\"dataframe\">\n",
              "  <thead>\n",
              "    <tr style=\"text-align: right;\">\n",
              "      <th></th>\n",
              "      <th>event_id</th>\n",
              "      <th>event_type</th>\n",
              "      <th>selected_level</th>\n",
              "      <th>start_time</th>\n",
              "      <th>tutorial_id</th>\n",
              "      <th>user_id</th>\n",
              "      <th>purchase_id</th>\n",
              "      <th>event_datetime</th>\n",
              "      <th>amount</th>\n",
              "    </tr>\n",
              "  </thead>\n",
              "  <tbody>\n",
              "    <tr>\n",
              "      <th>0</th>\n",
              "      <td>80308.0</td>\n",
              "      <td>registration</td>\n",
              "      <td>NaN</td>\n",
              "      <td>2018-01-01 03:48:40</td>\n",
              "      <td>NaN</td>\n",
              "      <td>27832</td>\n",
              "      <td>NaN</td>\n",
              "      <td>NaT</td>\n",
              "      <td>NaN</td>\n",
              "    </tr>\n",
              "    <tr>\n",
              "      <th>1</th>\n",
              "      <td>80309.0</td>\n",
              "      <td>registration</td>\n",
              "      <td>NaN</td>\n",
              "      <td>2018-01-01 04:07:25</td>\n",
              "      <td>NaN</td>\n",
              "      <td>27833</td>\n",
              "      <td>NaN</td>\n",
              "      <td>NaT</td>\n",
              "      <td>NaN</td>\n",
              "    </tr>\n",
              "    <tr>\n",
              "      <th>2</th>\n",
              "      <td>80310.0</td>\n",
              "      <td>registration</td>\n",
              "      <td>NaN</td>\n",
              "      <td>2018-01-01 08:35:10</td>\n",
              "      <td>NaN</td>\n",
              "      <td>27834</td>\n",
              "      <td>NaN</td>\n",
              "      <td>NaT</td>\n",
              "      <td>NaN</td>\n",
              "    </tr>\n",
              "    <tr>\n",
              "      <th>3</th>\n",
              "      <td>80311.0</td>\n",
              "      <td>registration</td>\n",
              "      <td>NaN</td>\n",
              "      <td>2018-01-01 11:54:47</td>\n",
              "      <td>NaN</td>\n",
              "      <td>27835</td>\n",
              "      <td>NaN</td>\n",
              "      <td>NaT</td>\n",
              "      <td>NaN</td>\n",
              "    </tr>\n",
              "    <tr>\n",
              "      <th>4</th>\n",
              "      <td>80312.0</td>\n",
              "      <td>registration</td>\n",
              "      <td>NaN</td>\n",
              "      <td>2018-01-01 13:28:07</td>\n",
              "      <td>NaN</td>\n",
              "      <td>27836</td>\n",
              "      <td>NaN</td>\n",
              "      <td>NaT</td>\n",
              "      <td>NaN</td>\n",
              "    </tr>\n",
              "    <tr>\n",
              "      <th>...</th>\n",
              "      <td>...</td>\n",
              "      <td>...</td>\n",
              "      <td>...</td>\n",
              "      <td>...</td>\n",
              "      <td>...</td>\n",
              "      <td>...</td>\n",
              "      <td>...</td>\n",
              "      <td>...</td>\n",
              "      <td>...</td>\n",
              "    </tr>\n",
              "    <tr>\n",
              "      <th>68554</th>\n",
              "      <td>NaN</td>\n",
              "      <td>purchase</td>\n",
              "      <td>NaN</td>\n",
              "      <td>NaT</td>\n",
              "      <td>NaN</td>\n",
              "      <td>47498</td>\n",
              "      <td>18441.0</td>\n",
              "      <td>2019-01-02 03:48:19</td>\n",
              "      <td>100.0</td>\n",
              "    </tr>\n",
              "    <tr>\n",
              "      <th>68555</th>\n",
              "      <td>NaN</td>\n",
              "      <td>purchase</td>\n",
              "      <td>NaN</td>\n",
              "      <td>NaT</td>\n",
              "      <td>NaN</td>\n",
              "      <td>47647</td>\n",
              "      <td>18442.0</td>\n",
              "      <td>2019-01-02 23:26:26</td>\n",
              "      <td>150.0</td>\n",
              "    </tr>\n",
              "    <tr>\n",
              "      <th>68556</th>\n",
              "      <td>NaN</td>\n",
              "      <td>purchase</td>\n",
              "      <td>NaN</td>\n",
              "      <td>NaT</td>\n",
              "      <td>NaN</td>\n",
              "      <td>47554</td>\n",
              "      <td>18443.0</td>\n",
              "      <td>2019-01-03 00:36:36</td>\n",
              "      <td>50.0</td>\n",
              "    </tr>\n",
              "    <tr>\n",
              "      <th>68557</th>\n",
              "      <td>NaN</td>\n",
              "      <td>purchase</td>\n",
              "      <td>NaN</td>\n",
              "      <td>NaT</td>\n",
              "      <td>NaN</td>\n",
              "      <td>47742</td>\n",
              "      <td>18448.0</td>\n",
              "      <td>2019-01-04 12:51:41</td>\n",
              "      <td>50.0</td>\n",
              "    </tr>\n",
              "    <tr>\n",
              "      <th>68558</th>\n",
              "      <td>NaN</td>\n",
              "      <td>purchase</td>\n",
              "      <td>NaN</td>\n",
              "      <td>NaT</td>\n",
              "      <td>NaN</td>\n",
              "      <td>47732</td>\n",
              "      <td>18452.0</td>\n",
              "      <td>2019-01-06 07:14:25</td>\n",
              "      <td>150.0</td>\n",
              "    </tr>\n",
              "  </tbody>\n",
              "</table>\n",
              "<p>68559 rows × 9 columns</p>\n",
              "</div>\n",
              "      <button class=\"colab-df-convert\" onclick=\"convertToInteractive('df-9731a954-a75b-426a-b480-88e7c1f8c64f')\"\n",
              "              title=\"Convert this dataframe to an interactive table.\"\n",
              "              style=\"display:none;\">\n",
              "        \n",
              "  <svg xmlns=\"http://www.w3.org/2000/svg\" height=\"24px\"viewBox=\"0 0 24 24\"\n",
              "       width=\"24px\">\n",
              "    <path d=\"M0 0h24v24H0V0z\" fill=\"none\"/>\n",
              "    <path d=\"M18.56 5.44l.94 2.06.94-2.06 2.06-.94-2.06-.94-.94-2.06-.94 2.06-2.06.94zm-11 1L8.5 8.5l.94-2.06 2.06-.94-2.06-.94L8.5 2.5l-.94 2.06-2.06.94zm10 10l.94 2.06.94-2.06 2.06-.94-2.06-.94-.94-2.06-.94 2.06-2.06.94z\"/><path d=\"M17.41 7.96l-1.37-1.37c-.4-.4-.92-.59-1.43-.59-.52 0-1.04.2-1.43.59L10.3 9.45l-7.72 7.72c-.78.78-.78 2.05 0 2.83L4 21.41c.39.39.9.59 1.41.59.51 0 1.02-.2 1.41-.59l7.78-7.78 2.81-2.81c.8-.78.8-2.07 0-2.86zM5.41 20L4 18.59l7.72-7.72 1.47 1.35L5.41 20z\"/>\n",
              "  </svg>\n",
              "      </button>\n",
              "      \n",
              "  <style>\n",
              "    .colab-df-container {\n",
              "      display:flex;\n",
              "      flex-wrap:wrap;\n",
              "      gap: 12px;\n",
              "    }\n",
              "\n",
              "    .colab-df-convert {\n",
              "      background-color: #E8F0FE;\n",
              "      border: none;\n",
              "      border-radius: 50%;\n",
              "      cursor: pointer;\n",
              "      display: none;\n",
              "      fill: #1967D2;\n",
              "      height: 32px;\n",
              "      padding: 0 0 0 0;\n",
              "      width: 32px;\n",
              "    }\n",
              "\n",
              "    .colab-df-convert:hover {\n",
              "      background-color: #E2EBFA;\n",
              "      box-shadow: 0px 1px 2px rgba(60, 64, 67, 0.3), 0px 1px 3px 1px rgba(60, 64, 67, 0.15);\n",
              "      fill: #174EA6;\n",
              "    }\n",
              "\n",
              "    [theme=dark] .colab-df-convert {\n",
              "      background-color: #3B4455;\n",
              "      fill: #D2E3FC;\n",
              "    }\n",
              "\n",
              "    [theme=dark] .colab-df-convert:hover {\n",
              "      background-color: #434B5C;\n",
              "      box-shadow: 0px 1px 3px 1px rgba(0, 0, 0, 0.15);\n",
              "      filter: drop-shadow(0px 1px 2px rgba(0, 0, 0, 0.3));\n",
              "      fill: #FFFFFF;\n",
              "    }\n",
              "  </style>\n",
              "\n",
              "      <script>\n",
              "        const buttonEl =\n",
              "          document.querySelector('#df-9731a954-a75b-426a-b480-88e7c1f8c64f button.colab-df-convert');\n",
              "        buttonEl.style.display =\n",
              "          google.colab.kernel.accessAllowed ? 'block' : 'none';\n",
              "\n",
              "        async function convertToInteractive(key) {\n",
              "          const element = document.querySelector('#df-9731a954-a75b-426a-b480-88e7c1f8c64f');\n",
              "          const dataTable =\n",
              "            await google.colab.kernel.invokeFunction('convertToInteractive',\n",
              "                                                     [key], {});\n",
              "          if (!dataTable) return;\n",
              "\n",
              "          const docLinkHtml = 'Like what you see? Visit the ' +\n",
              "            '<a target=\"_blank\" href=https://colab.research.google.com/notebooks/data_table.ipynb>data table notebook</a>'\n",
              "            + ' to learn more about interactive tables.';\n",
              "          element.innerHTML = '';\n",
              "          dataTable['output_type'] = 'display_data';\n",
              "          await google.colab.output.renderOutput(dataTable, element);\n",
              "          const docLink = document.createElement('div');\n",
              "          docLink.innerHTML = docLinkHtml;\n",
              "          element.appendChild(docLink);\n",
              "        }\n",
              "      </script>\n",
              "    </div>\n",
              "  </div>\n",
              "  "
            ]
          },
          "metadata": {},
          "execution_count": 25
        }
      ]
    },
    {
      "cell_type": "markdown",
      "source": [
        "Для каждого пользователя создадим список, который будет содержать во временной последовательности все события, совершаемые данным пользователем.\n",
        "\n"
      ],
      "metadata": {
        "id": "d0IuxnJKIIaY"
      }
    },
    {
      "cell_type": "code",
      "source": [
        "user_path_df = (\n",
        "    total_events_df.groupby([\"user_id\"])[\"event_type\"].apply(list).reset_index()\n",
        ")\n",
        "user_path_df.head(10)"
      ],
      "metadata": {
        "colab": {
          "base_uri": "https://localhost:8080/",
          "height": 363
        },
        "id": "ObACjas7hFjY",
        "outputId": "f9a35db4-057c-4051-8188-79d5bc8a65b6"
      },
      "execution_count": 26,
      "outputs": [
        {
          "output_type": "execute_result",
          "data": {
            "text/plain": [
              "   user_id                                         event_type\n",
              "0    27832                                     [registration]\n",
              "1    27833    [registration, tutorial_start, tutorial_finish]\n",
              "2    27834    [registration, tutorial_start, tutorial_finish]\n",
              "3    27835  [registration, tutorial_start, tutorial_finish...\n",
              "4    27836  [registration, tutorial_start, tutorial_start,...\n",
              "5    27837                                     [registration]\n",
              "6    27838                                     [registration]\n",
              "7    27839  [registration, tutorial_start, tutorial_finish...\n",
              "8    27840       [registration, tutorial_start, level_choice]\n",
              "9    27841    [registration, tutorial_start, tutorial_finish]"
            ],
            "text/html": [
              "\n",
              "  <div id=\"df-6d182048-8a8b-4334-b003-a75d5b4b5c4c\">\n",
              "    <div class=\"colab-df-container\">\n",
              "      <div>\n",
              "<style scoped>\n",
              "    .dataframe tbody tr th:only-of-type {\n",
              "        vertical-align: middle;\n",
              "    }\n",
              "\n",
              "    .dataframe tbody tr th {\n",
              "        vertical-align: top;\n",
              "    }\n",
              "\n",
              "    .dataframe thead th {\n",
              "        text-align: right;\n",
              "    }\n",
              "</style>\n",
              "<table border=\"1\" class=\"dataframe\">\n",
              "  <thead>\n",
              "    <tr style=\"text-align: right;\">\n",
              "      <th></th>\n",
              "      <th>user_id</th>\n",
              "      <th>event_type</th>\n",
              "    </tr>\n",
              "  </thead>\n",
              "  <tbody>\n",
              "    <tr>\n",
              "      <th>0</th>\n",
              "      <td>27832</td>\n",
              "      <td>[registration]</td>\n",
              "    </tr>\n",
              "    <tr>\n",
              "      <th>1</th>\n",
              "      <td>27833</td>\n",
              "      <td>[registration, tutorial_start, tutorial_finish]</td>\n",
              "    </tr>\n",
              "    <tr>\n",
              "      <th>2</th>\n",
              "      <td>27834</td>\n",
              "      <td>[registration, tutorial_start, tutorial_finish]</td>\n",
              "    </tr>\n",
              "    <tr>\n",
              "      <th>3</th>\n",
              "      <td>27835</td>\n",
              "      <td>[registration, tutorial_start, tutorial_finish...</td>\n",
              "    </tr>\n",
              "    <tr>\n",
              "      <th>4</th>\n",
              "      <td>27836</td>\n",
              "      <td>[registration, tutorial_start, tutorial_start,...</td>\n",
              "    </tr>\n",
              "    <tr>\n",
              "      <th>5</th>\n",
              "      <td>27837</td>\n",
              "      <td>[registration]</td>\n",
              "    </tr>\n",
              "    <tr>\n",
              "      <th>6</th>\n",
              "      <td>27838</td>\n",
              "      <td>[registration]</td>\n",
              "    </tr>\n",
              "    <tr>\n",
              "      <th>7</th>\n",
              "      <td>27839</td>\n",
              "      <td>[registration, tutorial_start, tutorial_finish...</td>\n",
              "    </tr>\n",
              "    <tr>\n",
              "      <th>8</th>\n",
              "      <td>27840</td>\n",
              "      <td>[registration, tutorial_start, level_choice]</td>\n",
              "    </tr>\n",
              "    <tr>\n",
              "      <th>9</th>\n",
              "      <td>27841</td>\n",
              "      <td>[registration, tutorial_start, tutorial_finish]</td>\n",
              "    </tr>\n",
              "  </tbody>\n",
              "</table>\n",
              "</div>\n",
              "      <button class=\"colab-df-convert\" onclick=\"convertToInteractive('df-6d182048-8a8b-4334-b003-a75d5b4b5c4c')\"\n",
              "              title=\"Convert this dataframe to an interactive table.\"\n",
              "              style=\"display:none;\">\n",
              "        \n",
              "  <svg xmlns=\"http://www.w3.org/2000/svg\" height=\"24px\"viewBox=\"0 0 24 24\"\n",
              "       width=\"24px\">\n",
              "    <path d=\"M0 0h24v24H0V0z\" fill=\"none\"/>\n",
              "    <path d=\"M18.56 5.44l.94 2.06.94-2.06 2.06-.94-2.06-.94-.94-2.06-.94 2.06-2.06.94zm-11 1L8.5 8.5l.94-2.06 2.06-.94-2.06-.94L8.5 2.5l-.94 2.06-2.06.94zm10 10l.94 2.06.94-2.06 2.06-.94-2.06-.94-.94-2.06-.94 2.06-2.06.94z\"/><path d=\"M17.41 7.96l-1.37-1.37c-.4-.4-.92-.59-1.43-.59-.52 0-1.04.2-1.43.59L10.3 9.45l-7.72 7.72c-.78.78-.78 2.05 0 2.83L4 21.41c.39.39.9.59 1.41.59.51 0 1.02-.2 1.41-.59l7.78-7.78 2.81-2.81c.8-.78.8-2.07 0-2.86zM5.41 20L4 18.59l7.72-7.72 1.47 1.35L5.41 20z\"/>\n",
              "  </svg>\n",
              "      </button>\n",
              "      \n",
              "  <style>\n",
              "    .colab-df-container {\n",
              "      display:flex;\n",
              "      flex-wrap:wrap;\n",
              "      gap: 12px;\n",
              "    }\n",
              "\n",
              "    .colab-df-convert {\n",
              "      background-color: #E8F0FE;\n",
              "      border: none;\n",
              "      border-radius: 50%;\n",
              "      cursor: pointer;\n",
              "      display: none;\n",
              "      fill: #1967D2;\n",
              "      height: 32px;\n",
              "      padding: 0 0 0 0;\n",
              "      width: 32px;\n",
              "    }\n",
              "\n",
              "    .colab-df-convert:hover {\n",
              "      background-color: #E2EBFA;\n",
              "      box-shadow: 0px 1px 2px rgba(60, 64, 67, 0.3), 0px 1px 3px 1px rgba(60, 64, 67, 0.15);\n",
              "      fill: #174EA6;\n",
              "    }\n",
              "\n",
              "    [theme=dark] .colab-df-convert {\n",
              "      background-color: #3B4455;\n",
              "      fill: #D2E3FC;\n",
              "    }\n",
              "\n",
              "    [theme=dark] .colab-df-convert:hover {\n",
              "      background-color: #434B5C;\n",
              "      box-shadow: 0px 1px 3px 1px rgba(0, 0, 0, 0.15);\n",
              "      filter: drop-shadow(0px 1px 2px rgba(0, 0, 0, 0.3));\n",
              "      fill: #FFFFFF;\n",
              "    }\n",
              "  </style>\n",
              "\n",
              "      <script>\n",
              "        const buttonEl =\n",
              "          document.querySelector('#df-6d182048-8a8b-4334-b003-a75d5b4b5c4c button.colab-df-convert');\n",
              "        buttonEl.style.display =\n",
              "          google.colab.kernel.accessAllowed ? 'block' : 'none';\n",
              "\n",
              "        async function convertToInteractive(key) {\n",
              "          const element = document.querySelector('#df-6d182048-8a8b-4334-b003-a75d5b4b5c4c');\n",
              "          const dataTable =\n",
              "            await google.colab.kernel.invokeFunction('convertToInteractive',\n",
              "                                                     [key], {});\n",
              "          if (!dataTable) return;\n",
              "\n",
              "          const docLinkHtml = 'Like what you see? Visit the ' +\n",
              "            '<a target=\"_blank\" href=https://colab.research.google.com/notebooks/data_table.ipynb>data table notebook</a>'\n",
              "            + ' to learn more about interactive tables.';\n",
              "          element.innerHTML = '';\n",
              "          dataTable['output_type'] = 'display_data';\n",
              "          await google.colab.output.renderOutput(dataTable, element);\n",
              "          const docLink = document.createElement('div');\n",
              "          docLink.innerHTML = docLinkHtml;\n",
              "          element.appendChild(docLink);\n",
              "        }\n",
              "      </script>\n",
              "    </div>\n",
              "  </div>\n",
              "  "
            ]
          },
          "metadata": {},
          "execution_count": 26
        }
      ]
    },
    {
      "cell_type": "markdown",
      "source": [
        "Объединим данные по столбцу event_type и подсчитаем количество пользователей по каждому пути, и так получим наиболее популярные пути пользователей."
      ],
      "metadata": {
        "id": "xSy3cpasIbgH"
      }
    },
    {
      "cell_type": "code",
      "source": [
        "user_path_df[\"event_path\"] = user_path_df[\"event_type\"].apply(lambda x: \" > \".join(x))\n",
        "user_path_df[\"event_path\"].head()\n",
        "\n",
        "user_paths = (\n",
        "    user_path_df.groupby([\"event_path\"])[\"user_id\"]\n",
        "    .nunique()\n",
        "    .sort_values(ascending=False)\n",
        ")\n",
        "user_paths.head(10)"
      ],
      "metadata": {
        "colab": {
          "base_uri": "https://localhost:8080/"
        },
        "id": "48iTUeIIhIKQ",
        "outputId": "d62a971d-e137-424b-eb71-fb4083aa4e4a"
      },
      "execution_count": 27,
      "outputs": [
        {
          "output_type": "execute_result",
          "data": {
            "text/plain": [
              "event_path\n",
              "registration                                                                                                       7970\n",
              "registration > tutorial_start > tutorial_finish > level_choice > pack_choice                                       2796\n",
              "registration > tutorial_start > tutorial_finish                                                                    1956\n",
              "registration > tutorial_start > tutorial_finish > level_choice                                                     1713\n",
              "registration > tutorial_start > tutorial_finish > level_choice > pack_choice > purchase                            1083\n",
              "registration > tutorial_start                                                                                       842\n",
              "registration > tutorial_start > level_choice > pack_choice                                                          346\n",
              "registration > tutorial_start > tutorial_finish > tutorial_start > tutorial_finish                                  323\n",
              "registration > tutorial_start > level_choice                                                                        243\n",
              "registration > tutorial_start > tutorial_finish > level_choice > pack_choice > tutorial_start > tutorial_finish     236\n",
              "Name: user_id, dtype: int64"
            ]
          },
          "metadata": {},
          "execution_count": 27
        }
      ]
    },
    {
      "cell_type": "markdown",
      "source": [
        "Как мы видим, среди 10 самых популярных последовательностей только одна содержит этап оплаты. Это последовательность registration > tutorial_start > tutorial_finish > level_choice > pack_choice > purchase.\n",
        "\n"
      ],
      "metadata": {
        "id": "Iuh3YtOKhLeJ"
      }
    },
    {
      "cell_type": "markdown",
      "source": [
        "Посмотрим, какие ещё последовательности содержат в себе оплату."
      ],
      "metadata": {
        "id": "BDHLehm4I1C4"
      }
    },
    {
      "cell_type": "code",
      "source": [
        "user_paths[user_paths.index.str.contains('purchase')].head(10)"
      ],
      "metadata": {
        "colab": {
          "base_uri": "https://localhost:8080/"
        },
        "id": "m6edLFfvhQqR",
        "outputId": "f8f8a26a-f846-496f-ea6b-4af9c800a020"
      },
      "execution_count": 28,
      "outputs": [
        {
          "output_type": "execute_result",
          "data": {
            "text/plain": [
              "event_path\n",
              "registration > tutorial_start > tutorial_finish > level_choice > pack_choice > purchase                                                                                                             1083\n",
              "registration > tutorial_start > level_choice > pack_choice > purchase                                                                                                                                124\n",
              "registration > tutorial_start > tutorial_finish > level_choice > pack_choice > tutorial_start > tutorial_finish > purchase                                                                           101\n",
              "registration > tutorial_start > tutorial_finish > tutorial_start > tutorial_finish > level_choice > pack_choice > purchase                                                                            52\n",
              "registration > tutorial_start > tutorial_start > tutorial_finish > level_choice > pack_choice > purchase                                                                                              26\n",
              "registration > level_choice > pack_choice > purchase                                                                                                                                                  22\n",
              "registration > tutorial_start > tutorial_finish > level_choice > pack_choice > tutorial_start > purchase                                                                                              21\n",
              "registration > tutorial_start > tutorial_finish > level_choice > pack_choice > tutorial_start > tutorial_finish > tutorial_start > tutorial_finish > purchase                                         12\n",
              "registration > tutorial_start > tutorial_finish > tutorial_start > tutorial_finish > level_choice > pack_choice > tutorial_start > tutorial_finish > purchase                                          8\n",
              "registration > tutorial_start > tutorial_finish > level_choice > pack_choice > tutorial_start > tutorial_finish > tutorial_start > tutorial_finish > tutorial_start > tutorial_finish > purchase       7\n",
              "Name: user_id, dtype: int64"
            ]
          },
          "metadata": {},
          "execution_count": 28
        }
      ]
    },
    {
      "cell_type": "markdown",
      "source": [
        "Большинство последовательностей, которые содержат в себе оплату, также содержат старт обучения. Данное наблюдение позволяет выдвинуть гипотезу, что вероятность оплаты зависит от того, проходил ли пользователь обучение.\n",
        "\n",
        "Далее проверим эту гипотезу."
      ],
      "metadata": {
        "id": "bKaAu-RLI63o"
      }
    },
    {
      "cell_type": "markdown",
      "source": [
        "# Анализ временных промежутков.\n",
        "\n",
        "Время между этапами может сообщить нам о вовлечённости пользователей в приложение, а также о роли отдельных этапов на развитие этой вовлечённости. Если окажется, что у пользователей, которые проходят обучение, время до выбора вопросов меньше, чем у тех, кто его не проходит, то разработчикам нужно будет придумывать способы, как вовлекать пользователя в прохождение данного этапа."
      ],
      "metadata": {
        "id": "TTzhupKahUvA"
      }
    },
    {
      "cell_type": "markdown",
      "source": [
        "Определим, какое время проходит между регистрацией и началом обучения.\n",
        "\n",
        "Первым делом выделим отдельный датафрейм registration_df, который будет содержать только события с event_type = registration. Этот датафрейм будет вспомогательным для определения времени между регистрацией и началом обучения."
      ],
      "metadata": {
        "id": "7_e6y_0HJnlI"
      }
    },
    {
      "cell_type": "code",
      "source": [
        "registration_df = total_events_df[total_events_df['event_type'] == 'registration']\n",
        "registration_df['user_id'].value_counts().mean()\n",
        "registration_df = registration_df[[\"user_id\", \"start_time\"]].rename(\n",
        "    columns={\"start_time\": \"registration_time\"}\n",
        ")\n",
        "registration_df"
      ],
      "metadata": {
        "colab": {
          "base_uri": "https://localhost:8080/",
          "height": 423
        },
        "id": "ynEEske1hXkZ",
        "outputId": "5b6ce676-c6b0-4aa4-9762-55734f24ca16"
      },
      "execution_count": 29,
      "outputs": [
        {
          "output_type": "execute_result",
          "data": {
            "text/plain": [
              "       user_id   registration_time\n",
              "0        27832 2018-01-01 03:48:40\n",
              "1        27833 2018-01-01 04:07:25\n",
              "2        27834 2018-01-01 08:35:10\n",
              "3        27835 2018-01-01 11:54:47\n",
              "4        27836 2018-01-01 13:28:07\n",
              "...        ...                 ...\n",
              "66941    47753 2018-12-31 18:58:55\n",
              "66942    47754 2018-12-31 19:14:08\n",
              "66947    47755 2018-12-31 21:15:14\n",
              "66950    47756 2018-12-31 23:17:30\n",
              "66951    47757 2018-12-31 23:18:06\n",
              "\n",
              "[19926 rows x 2 columns]"
            ],
            "text/html": [
              "\n",
              "  <div id=\"df-316ccaa0-7b9b-40f6-8ae8-543c998e3639\">\n",
              "    <div class=\"colab-df-container\">\n",
              "      <div>\n",
              "<style scoped>\n",
              "    .dataframe tbody tr th:only-of-type {\n",
              "        vertical-align: middle;\n",
              "    }\n",
              "\n",
              "    .dataframe tbody tr th {\n",
              "        vertical-align: top;\n",
              "    }\n",
              "\n",
              "    .dataframe thead th {\n",
              "        text-align: right;\n",
              "    }\n",
              "</style>\n",
              "<table border=\"1\" class=\"dataframe\">\n",
              "  <thead>\n",
              "    <tr style=\"text-align: right;\">\n",
              "      <th></th>\n",
              "      <th>user_id</th>\n",
              "      <th>registration_time</th>\n",
              "    </tr>\n",
              "  </thead>\n",
              "  <tbody>\n",
              "    <tr>\n",
              "      <th>0</th>\n",
              "      <td>27832</td>\n",
              "      <td>2018-01-01 03:48:40</td>\n",
              "    </tr>\n",
              "    <tr>\n",
              "      <th>1</th>\n",
              "      <td>27833</td>\n",
              "      <td>2018-01-01 04:07:25</td>\n",
              "    </tr>\n",
              "    <tr>\n",
              "      <th>2</th>\n",
              "      <td>27834</td>\n",
              "      <td>2018-01-01 08:35:10</td>\n",
              "    </tr>\n",
              "    <tr>\n",
              "      <th>3</th>\n",
              "      <td>27835</td>\n",
              "      <td>2018-01-01 11:54:47</td>\n",
              "    </tr>\n",
              "    <tr>\n",
              "      <th>4</th>\n",
              "      <td>27836</td>\n",
              "      <td>2018-01-01 13:28:07</td>\n",
              "    </tr>\n",
              "    <tr>\n",
              "      <th>...</th>\n",
              "      <td>...</td>\n",
              "      <td>...</td>\n",
              "    </tr>\n",
              "    <tr>\n",
              "      <th>66941</th>\n",
              "      <td>47753</td>\n",
              "      <td>2018-12-31 18:58:55</td>\n",
              "    </tr>\n",
              "    <tr>\n",
              "      <th>66942</th>\n",
              "      <td>47754</td>\n",
              "      <td>2018-12-31 19:14:08</td>\n",
              "    </tr>\n",
              "    <tr>\n",
              "      <th>66947</th>\n",
              "      <td>47755</td>\n",
              "      <td>2018-12-31 21:15:14</td>\n",
              "    </tr>\n",
              "    <tr>\n",
              "      <th>66950</th>\n",
              "      <td>47756</td>\n",
              "      <td>2018-12-31 23:17:30</td>\n",
              "    </tr>\n",
              "    <tr>\n",
              "      <th>66951</th>\n",
              "      <td>47757</td>\n",
              "      <td>2018-12-31 23:18:06</td>\n",
              "    </tr>\n",
              "  </tbody>\n",
              "</table>\n",
              "<p>19926 rows × 2 columns</p>\n",
              "</div>\n",
              "      <button class=\"colab-df-convert\" onclick=\"convertToInteractive('df-316ccaa0-7b9b-40f6-8ae8-543c998e3639')\"\n",
              "              title=\"Convert this dataframe to an interactive table.\"\n",
              "              style=\"display:none;\">\n",
              "        \n",
              "  <svg xmlns=\"http://www.w3.org/2000/svg\" height=\"24px\"viewBox=\"0 0 24 24\"\n",
              "       width=\"24px\">\n",
              "    <path d=\"M0 0h24v24H0V0z\" fill=\"none\"/>\n",
              "    <path d=\"M18.56 5.44l.94 2.06.94-2.06 2.06-.94-2.06-.94-.94-2.06-.94 2.06-2.06.94zm-11 1L8.5 8.5l.94-2.06 2.06-.94-2.06-.94L8.5 2.5l-.94 2.06-2.06.94zm10 10l.94 2.06.94-2.06 2.06-.94-2.06-.94-.94-2.06-.94 2.06-2.06.94z\"/><path d=\"M17.41 7.96l-1.37-1.37c-.4-.4-.92-.59-1.43-.59-.52 0-1.04.2-1.43.59L10.3 9.45l-7.72 7.72c-.78.78-.78 2.05 0 2.83L4 21.41c.39.39.9.59 1.41.59.51 0 1.02-.2 1.41-.59l7.78-7.78 2.81-2.81c.8-.78.8-2.07 0-2.86zM5.41 20L4 18.59l7.72-7.72 1.47 1.35L5.41 20z\"/>\n",
              "  </svg>\n",
              "      </button>\n",
              "      \n",
              "  <style>\n",
              "    .colab-df-container {\n",
              "      display:flex;\n",
              "      flex-wrap:wrap;\n",
              "      gap: 12px;\n",
              "    }\n",
              "\n",
              "    .colab-df-convert {\n",
              "      background-color: #E8F0FE;\n",
              "      border: none;\n",
              "      border-radius: 50%;\n",
              "      cursor: pointer;\n",
              "      display: none;\n",
              "      fill: #1967D2;\n",
              "      height: 32px;\n",
              "      padding: 0 0 0 0;\n",
              "      width: 32px;\n",
              "    }\n",
              "\n",
              "    .colab-df-convert:hover {\n",
              "      background-color: #E2EBFA;\n",
              "      box-shadow: 0px 1px 2px rgba(60, 64, 67, 0.3), 0px 1px 3px 1px rgba(60, 64, 67, 0.15);\n",
              "      fill: #174EA6;\n",
              "    }\n",
              "\n",
              "    [theme=dark] .colab-df-convert {\n",
              "      background-color: #3B4455;\n",
              "      fill: #D2E3FC;\n",
              "    }\n",
              "\n",
              "    [theme=dark] .colab-df-convert:hover {\n",
              "      background-color: #434B5C;\n",
              "      box-shadow: 0px 1px 3px 1px rgba(0, 0, 0, 0.15);\n",
              "      filter: drop-shadow(0px 1px 2px rgba(0, 0, 0, 0.3));\n",
              "      fill: #FFFFFF;\n",
              "    }\n",
              "  </style>\n",
              "\n",
              "      <script>\n",
              "        const buttonEl =\n",
              "          document.querySelector('#df-316ccaa0-7b9b-40f6-8ae8-543c998e3639 button.colab-df-convert');\n",
              "        buttonEl.style.display =\n",
              "          google.colab.kernel.accessAllowed ? 'block' : 'none';\n",
              "\n",
              "        async function convertToInteractive(key) {\n",
              "          const element = document.querySelector('#df-316ccaa0-7b9b-40f6-8ae8-543c998e3639');\n",
              "          const dataTable =\n",
              "            await google.colab.kernel.invokeFunction('convertToInteractive',\n",
              "                                                     [key], {});\n",
              "          if (!dataTable) return;\n",
              "\n",
              "          const docLinkHtml = 'Like what you see? Visit the ' +\n",
              "            '<a target=\"_blank\" href=https://colab.research.google.com/notebooks/data_table.ipynb>data table notebook</a>'\n",
              "            + ' to learn more about interactive tables.';\n",
              "          element.innerHTML = '';\n",
              "          dataTable['output_type'] = 'display_data';\n",
              "          await google.colab.output.renderOutput(dataTable, element);\n",
              "          const docLink = document.createElement('div');\n",
              "          docLink.innerHTML = docLinkHtml;\n",
              "          element.appendChild(docLink);\n",
              "        }\n",
              "      </script>\n",
              "    </div>\n",
              "  </div>\n",
              "  "
            ]
          },
          "metadata": {},
          "execution_count": 29
        }
      ]
    },
    {
      "cell_type": "markdown",
      "source": [
        "Теперь выделим отдельный датафрейм tutorial_start_df, который будет содержать только события с event_type = tutorial_start (начало обучения)."
      ],
      "metadata": {
        "id": "aWtOrjo4KQ7P"
      }
    },
    {
      "cell_type": "code",
      "source": [
        "tutorial_start_df = total_events_df[total_events_df['event_type'] == 'tutorial_start']\n",
        "tutorial_start_df.head(10)"
      ],
      "metadata": {
        "colab": {
          "base_uri": "https://localhost:8080/",
          "height": 363
        },
        "id": "RcTX8hqpha8I",
        "outputId": "2f264f51-4af6-490a-caab-01cce59b0039"
      },
      "execution_count": 31,
      "outputs": [
        {
          "output_type": "execute_result",
          "data": {
            "text/plain": [
              "    event_id      event_type selected_level          start_time  tutorial_id  \\\n",
              "7    80315.0  tutorial_start            NaN 2018-01-01 14:54:40      31505.0   \n",
              "8    80316.0  tutorial_start            NaN 2018-01-01 15:00:51      31506.0   \n",
              "10   80318.0  tutorial_start            NaN 2018-01-01 15:40:43      31507.0   \n",
              "12   80320.0  tutorial_start            NaN 2018-01-01 17:47:40      31508.0   \n",
              "15   80323.0  tutorial_start            NaN 2018-01-01 19:11:36      31509.0   \n",
              "17   80325.0  tutorial_start            NaN 2018-01-01 19:46:11      31510.0   \n",
              "29   80337.0  tutorial_start            NaN 2018-01-02 02:07:07      31511.0   \n",
              "30   80338.0  tutorial_start            NaN 2018-01-02 03:03:44      31512.0   \n",
              "32   80340.0  tutorial_start            NaN 2018-01-02 04:55:11      31513.0   \n",
              "41   80349.0  tutorial_start            NaN 2018-01-02 07:08:00      31514.0   \n",
              "\n",
              "    user_id  purchase_id event_datetime  amount  \n",
              "7     27836          NaN            NaT     NaN  \n",
              "8     27835          NaN            NaT     NaN  \n",
              "10    27836          NaN            NaT     NaN  \n",
              "12    27833          NaN            NaT     NaN  \n",
              "15    27839          NaN            NaT     NaN  \n",
              "17    27834          NaN            NaT     NaN  \n",
              "29    27840          NaN            NaT     NaN  \n",
              "30    27845          NaN            NaT     NaN  \n",
              "32    27842          NaN            NaT     NaN  \n",
              "41    27845          NaN            NaT     NaN  "
            ],
            "text/html": [
              "\n",
              "  <div id=\"df-34de014f-868f-4c8c-b118-36be0bb751e8\">\n",
              "    <div class=\"colab-df-container\">\n",
              "      <div>\n",
              "<style scoped>\n",
              "    .dataframe tbody tr th:only-of-type {\n",
              "        vertical-align: middle;\n",
              "    }\n",
              "\n",
              "    .dataframe tbody tr th {\n",
              "        vertical-align: top;\n",
              "    }\n",
              "\n",
              "    .dataframe thead th {\n",
              "        text-align: right;\n",
              "    }\n",
              "</style>\n",
              "<table border=\"1\" class=\"dataframe\">\n",
              "  <thead>\n",
              "    <tr style=\"text-align: right;\">\n",
              "      <th></th>\n",
              "      <th>event_id</th>\n",
              "      <th>event_type</th>\n",
              "      <th>selected_level</th>\n",
              "      <th>start_time</th>\n",
              "      <th>tutorial_id</th>\n",
              "      <th>user_id</th>\n",
              "      <th>purchase_id</th>\n",
              "      <th>event_datetime</th>\n",
              "      <th>amount</th>\n",
              "    </tr>\n",
              "  </thead>\n",
              "  <tbody>\n",
              "    <tr>\n",
              "      <th>7</th>\n",
              "      <td>80315.0</td>\n",
              "      <td>tutorial_start</td>\n",
              "      <td>NaN</td>\n",
              "      <td>2018-01-01 14:54:40</td>\n",
              "      <td>31505.0</td>\n",
              "      <td>27836</td>\n",
              "      <td>NaN</td>\n",
              "      <td>NaT</td>\n",
              "      <td>NaN</td>\n",
              "    </tr>\n",
              "    <tr>\n",
              "      <th>8</th>\n",
              "      <td>80316.0</td>\n",
              "      <td>tutorial_start</td>\n",
              "      <td>NaN</td>\n",
              "      <td>2018-01-01 15:00:51</td>\n",
              "      <td>31506.0</td>\n",
              "      <td>27835</td>\n",
              "      <td>NaN</td>\n",
              "      <td>NaT</td>\n",
              "      <td>NaN</td>\n",
              "    </tr>\n",
              "    <tr>\n",
              "      <th>10</th>\n",
              "      <td>80318.0</td>\n",
              "      <td>tutorial_start</td>\n",
              "      <td>NaN</td>\n",
              "      <td>2018-01-01 15:40:43</td>\n",
              "      <td>31507.0</td>\n",
              "      <td>27836</td>\n",
              "      <td>NaN</td>\n",
              "      <td>NaT</td>\n",
              "      <td>NaN</td>\n",
              "    </tr>\n",
              "    <tr>\n",
              "      <th>12</th>\n",
              "      <td>80320.0</td>\n",
              "      <td>tutorial_start</td>\n",
              "      <td>NaN</td>\n",
              "      <td>2018-01-01 17:47:40</td>\n",
              "      <td>31508.0</td>\n",
              "      <td>27833</td>\n",
              "      <td>NaN</td>\n",
              "      <td>NaT</td>\n",
              "      <td>NaN</td>\n",
              "    </tr>\n",
              "    <tr>\n",
              "      <th>15</th>\n",
              "      <td>80323.0</td>\n",
              "      <td>tutorial_start</td>\n",
              "      <td>NaN</td>\n",
              "      <td>2018-01-01 19:11:36</td>\n",
              "      <td>31509.0</td>\n",
              "      <td>27839</td>\n",
              "      <td>NaN</td>\n",
              "      <td>NaT</td>\n",
              "      <td>NaN</td>\n",
              "    </tr>\n",
              "    <tr>\n",
              "      <th>17</th>\n",
              "      <td>80325.0</td>\n",
              "      <td>tutorial_start</td>\n",
              "      <td>NaN</td>\n",
              "      <td>2018-01-01 19:46:11</td>\n",
              "      <td>31510.0</td>\n",
              "      <td>27834</td>\n",
              "      <td>NaN</td>\n",
              "      <td>NaT</td>\n",
              "      <td>NaN</td>\n",
              "    </tr>\n",
              "    <tr>\n",
              "      <th>29</th>\n",
              "      <td>80337.0</td>\n",
              "      <td>tutorial_start</td>\n",
              "      <td>NaN</td>\n",
              "      <td>2018-01-02 02:07:07</td>\n",
              "      <td>31511.0</td>\n",
              "      <td>27840</td>\n",
              "      <td>NaN</td>\n",
              "      <td>NaT</td>\n",
              "      <td>NaN</td>\n",
              "    </tr>\n",
              "    <tr>\n",
              "      <th>30</th>\n",
              "      <td>80338.0</td>\n",
              "      <td>tutorial_start</td>\n",
              "      <td>NaN</td>\n",
              "      <td>2018-01-02 03:03:44</td>\n",
              "      <td>31512.0</td>\n",
              "      <td>27845</td>\n",
              "      <td>NaN</td>\n",
              "      <td>NaT</td>\n",
              "      <td>NaN</td>\n",
              "    </tr>\n",
              "    <tr>\n",
              "      <th>32</th>\n",
              "      <td>80340.0</td>\n",
              "      <td>tutorial_start</td>\n",
              "      <td>NaN</td>\n",
              "      <td>2018-01-02 04:55:11</td>\n",
              "      <td>31513.0</td>\n",
              "      <td>27842</td>\n",
              "      <td>NaN</td>\n",
              "      <td>NaT</td>\n",
              "      <td>NaN</td>\n",
              "    </tr>\n",
              "    <tr>\n",
              "      <th>41</th>\n",
              "      <td>80349.0</td>\n",
              "      <td>tutorial_start</td>\n",
              "      <td>NaN</td>\n",
              "      <td>2018-01-02 07:08:00</td>\n",
              "      <td>31514.0</td>\n",
              "      <td>27845</td>\n",
              "      <td>NaN</td>\n",
              "      <td>NaT</td>\n",
              "      <td>NaN</td>\n",
              "    </tr>\n",
              "  </tbody>\n",
              "</table>\n",
              "</div>\n",
              "      <button class=\"colab-df-convert\" onclick=\"convertToInteractive('df-34de014f-868f-4c8c-b118-36be0bb751e8')\"\n",
              "              title=\"Convert this dataframe to an interactive table.\"\n",
              "              style=\"display:none;\">\n",
              "        \n",
              "  <svg xmlns=\"http://www.w3.org/2000/svg\" height=\"24px\"viewBox=\"0 0 24 24\"\n",
              "       width=\"24px\">\n",
              "    <path d=\"M0 0h24v24H0V0z\" fill=\"none\"/>\n",
              "    <path d=\"M18.56 5.44l.94 2.06.94-2.06 2.06-.94-2.06-.94-.94-2.06-.94 2.06-2.06.94zm-11 1L8.5 8.5l.94-2.06 2.06-.94-2.06-.94L8.5 2.5l-.94 2.06-2.06.94zm10 10l.94 2.06.94-2.06 2.06-.94-2.06-.94-.94-2.06-.94 2.06-2.06.94z\"/><path d=\"M17.41 7.96l-1.37-1.37c-.4-.4-.92-.59-1.43-.59-.52 0-1.04.2-1.43.59L10.3 9.45l-7.72 7.72c-.78.78-.78 2.05 0 2.83L4 21.41c.39.39.9.59 1.41.59.51 0 1.02-.2 1.41-.59l7.78-7.78 2.81-2.81c.8-.78.8-2.07 0-2.86zM5.41 20L4 18.59l7.72-7.72 1.47 1.35L5.41 20z\"/>\n",
              "  </svg>\n",
              "      </button>\n",
              "      \n",
              "  <style>\n",
              "    .colab-df-container {\n",
              "      display:flex;\n",
              "      flex-wrap:wrap;\n",
              "      gap: 12px;\n",
              "    }\n",
              "\n",
              "    .colab-df-convert {\n",
              "      background-color: #E8F0FE;\n",
              "      border: none;\n",
              "      border-radius: 50%;\n",
              "      cursor: pointer;\n",
              "      display: none;\n",
              "      fill: #1967D2;\n",
              "      height: 32px;\n",
              "      padding: 0 0 0 0;\n",
              "      width: 32px;\n",
              "    }\n",
              "\n",
              "    .colab-df-convert:hover {\n",
              "      background-color: #E2EBFA;\n",
              "      box-shadow: 0px 1px 2px rgba(60, 64, 67, 0.3), 0px 1px 3px 1px rgba(60, 64, 67, 0.15);\n",
              "      fill: #174EA6;\n",
              "    }\n",
              "\n",
              "    [theme=dark] .colab-df-convert {\n",
              "      background-color: #3B4455;\n",
              "      fill: #D2E3FC;\n",
              "    }\n",
              "\n",
              "    [theme=dark] .colab-df-convert:hover {\n",
              "      background-color: #434B5C;\n",
              "      box-shadow: 0px 1px 3px 1px rgba(0, 0, 0, 0.15);\n",
              "      filter: drop-shadow(0px 1px 2px rgba(0, 0, 0, 0.3));\n",
              "      fill: #FFFFFF;\n",
              "    }\n",
              "  </style>\n",
              "\n",
              "      <script>\n",
              "        const buttonEl =\n",
              "          document.querySelector('#df-34de014f-868f-4c8c-b118-36be0bb751e8 button.colab-df-convert');\n",
              "        buttonEl.style.display =\n",
              "          google.colab.kernel.accessAllowed ? 'block' : 'none';\n",
              "\n",
              "        async function convertToInteractive(key) {\n",
              "          const element = document.querySelector('#df-34de014f-868f-4c8c-b118-36be0bb751e8');\n",
              "          const dataTable =\n",
              "            await google.colab.kernel.invokeFunction('convertToInteractive',\n",
              "                                                     [key], {});\n",
              "          if (!dataTable) return;\n",
              "\n",
              "          const docLinkHtml = 'Like what you see? Visit the ' +\n",
              "            '<a target=\"_blank\" href=https://colab.research.google.com/notebooks/data_table.ipynb>data table notebook</a>'\n",
              "            + ' to learn more about interactive tables.';\n",
              "          element.innerHTML = '';\n",
              "          dataTable['output_type'] = 'display_data';\n",
              "          await google.colab.output.renderOutput(dataTable, element);\n",
              "          const docLink = document.createElement('div');\n",
              "          docLink.innerHTML = docLinkHtml;\n",
              "          element.appendChild(docLink);\n",
              "        }\n",
              "      </script>\n",
              "    </div>\n",
              "  </div>\n",
              "  "
            ]
          },
          "metadata": {},
          "execution_count": 31
        }
      ]
    },
    {
      "cell_type": "markdown",
      "source": [
        "Определим среднее количество событий tutorial_start на пользователя"
      ],
      "metadata": {
        "id": "zGPRk7JEKuR4"
      }
    },
    {
      "cell_type": "code",
      "source": [
        "tutorial_start_df['user_id'].value_counts().mean()"
      ],
      "metadata": {
        "colab": {
          "base_uri": "https://localhost:8080/"
        },
        "id": "rJRonNx9K7gA",
        "outputId": "6ef9782d-2d07-473e-9acf-b6d45abca75f"
      },
      "execution_count": 32,
      "outputs": [
        {
          "output_type": "execute_result",
          "data": {
            "text/plain": [
              "1.522179119581717"
            ]
          },
          "metadata": {},
          "execution_count": 32
        }
      ]
    },
    {
      "cell_type": "markdown",
      "source": [
        "Видим, что за время пользования приложением, пользователи несколько раз начинают обучение, в среднем, 1.5 раза. \n",
        "\n",
        "Оставим только первое обучение. Таким образом мы будем искать время между регистрацией и началом первого обучения пользователя.\n"
      ],
      "metadata": {
        "id": "qJqpruuyLHKA"
      }
    },
    {
      "cell_type": "markdown",
      "source": [
        "Создадим датафрейм tutorial_start_df_wo_duplicates, где будет присутствовать только первое обучение. Для этого отсортируем датафрейм по start_time, чтобы сначала шли более ранние события начала обучения, а затем удалим дубликаты по столбцу user_id. Таким образом, для каждого user_id останется только первое событие типа tutorial_start."
      ],
      "metadata": {
        "id": "y_P4WMJYhdk5"
      }
    },
    {
      "cell_type": "code",
      "source": [
        "tutorial_start_df_wo_duplicates = tutorial_start_df.sort_values(\n",
        "    \"start_time\"\n",
        ").drop_duplicates(\"user_id\")\n",
        "\n",
        "tutorial_start_df_wo_duplicates = tutorial_start_df_wo_duplicates[\n",
        "    [\"user_id\", \"tutorial_id\", \"start_time\"]\n",
        "].rename(columns={\"start_time\": \"tutorial_start_time\"})\n",
        "tutorial_start_df_wo_duplicates"
      ],
      "metadata": {
        "colab": {
          "base_uri": "https://localhost:8080/",
          "height": 423
        },
        "id": "Oy7rCMH6hfFo",
        "outputId": "23c01056-9a96-4b0a-8a18-dd48280959fe"
      },
      "execution_count": 35,
      "outputs": [
        {
          "output_type": "execute_result",
          "data": {
            "text/plain": [
              "       user_id  tutorial_id tutorial_start_time\n",
              "7        27836      31505.0 2018-01-01 14:54:40\n",
              "8        27835      31506.0 2018-01-01 15:00:51\n",
              "12       27833      31508.0 2018-01-01 17:47:40\n",
              "15       27839      31509.0 2018-01-01 19:11:36\n",
              "17       27834      31510.0 2018-01-01 19:46:11\n",
              "...        ...          ...                 ...\n",
              "66934    47747      49550.0 2018-12-31 10:21:11\n",
              "66943    47751      49551.0 2018-12-31 19:38:14\n",
              "66945    47753      49552.0 2018-12-31 20:54:56\n",
              "66952    47755      49553.0 2019-01-01 00:08:14\n",
              "66954    47756      49554.0 2019-01-01 03:26:18\n",
              "\n",
              "[11858 rows x 3 columns]"
            ],
            "text/html": [
              "\n",
              "  <div id=\"df-386d7886-d901-4c59-941b-2e8b2f0fc106\">\n",
              "    <div class=\"colab-df-container\">\n",
              "      <div>\n",
              "<style scoped>\n",
              "    .dataframe tbody tr th:only-of-type {\n",
              "        vertical-align: middle;\n",
              "    }\n",
              "\n",
              "    .dataframe tbody tr th {\n",
              "        vertical-align: top;\n",
              "    }\n",
              "\n",
              "    .dataframe thead th {\n",
              "        text-align: right;\n",
              "    }\n",
              "</style>\n",
              "<table border=\"1\" class=\"dataframe\">\n",
              "  <thead>\n",
              "    <tr style=\"text-align: right;\">\n",
              "      <th></th>\n",
              "      <th>user_id</th>\n",
              "      <th>tutorial_id</th>\n",
              "      <th>tutorial_start_time</th>\n",
              "    </tr>\n",
              "  </thead>\n",
              "  <tbody>\n",
              "    <tr>\n",
              "      <th>7</th>\n",
              "      <td>27836</td>\n",
              "      <td>31505.0</td>\n",
              "      <td>2018-01-01 14:54:40</td>\n",
              "    </tr>\n",
              "    <tr>\n",
              "      <th>8</th>\n",
              "      <td>27835</td>\n",
              "      <td>31506.0</td>\n",
              "      <td>2018-01-01 15:00:51</td>\n",
              "    </tr>\n",
              "    <tr>\n",
              "      <th>12</th>\n",
              "      <td>27833</td>\n",
              "      <td>31508.0</td>\n",
              "      <td>2018-01-01 17:47:40</td>\n",
              "    </tr>\n",
              "    <tr>\n",
              "      <th>15</th>\n",
              "      <td>27839</td>\n",
              "      <td>31509.0</td>\n",
              "      <td>2018-01-01 19:11:36</td>\n",
              "    </tr>\n",
              "    <tr>\n",
              "      <th>17</th>\n",
              "      <td>27834</td>\n",
              "      <td>31510.0</td>\n",
              "      <td>2018-01-01 19:46:11</td>\n",
              "    </tr>\n",
              "    <tr>\n",
              "      <th>...</th>\n",
              "      <td>...</td>\n",
              "      <td>...</td>\n",
              "      <td>...</td>\n",
              "    </tr>\n",
              "    <tr>\n",
              "      <th>66934</th>\n",
              "      <td>47747</td>\n",
              "      <td>49550.0</td>\n",
              "      <td>2018-12-31 10:21:11</td>\n",
              "    </tr>\n",
              "    <tr>\n",
              "      <th>66943</th>\n",
              "      <td>47751</td>\n",
              "      <td>49551.0</td>\n",
              "      <td>2018-12-31 19:38:14</td>\n",
              "    </tr>\n",
              "    <tr>\n",
              "      <th>66945</th>\n",
              "      <td>47753</td>\n",
              "      <td>49552.0</td>\n",
              "      <td>2018-12-31 20:54:56</td>\n",
              "    </tr>\n",
              "    <tr>\n",
              "      <th>66952</th>\n",
              "      <td>47755</td>\n",
              "      <td>49553.0</td>\n",
              "      <td>2019-01-01 00:08:14</td>\n",
              "    </tr>\n",
              "    <tr>\n",
              "      <th>66954</th>\n",
              "      <td>47756</td>\n",
              "      <td>49554.0</td>\n",
              "      <td>2019-01-01 03:26:18</td>\n",
              "    </tr>\n",
              "  </tbody>\n",
              "</table>\n",
              "<p>11858 rows × 3 columns</p>\n",
              "</div>\n",
              "      <button class=\"colab-df-convert\" onclick=\"convertToInteractive('df-386d7886-d901-4c59-941b-2e8b2f0fc106')\"\n",
              "              title=\"Convert this dataframe to an interactive table.\"\n",
              "              style=\"display:none;\">\n",
              "        \n",
              "  <svg xmlns=\"http://www.w3.org/2000/svg\" height=\"24px\"viewBox=\"0 0 24 24\"\n",
              "       width=\"24px\">\n",
              "    <path d=\"M0 0h24v24H0V0z\" fill=\"none\"/>\n",
              "    <path d=\"M18.56 5.44l.94 2.06.94-2.06 2.06-.94-2.06-.94-.94-2.06-.94 2.06-2.06.94zm-11 1L8.5 8.5l.94-2.06 2.06-.94-2.06-.94L8.5 2.5l-.94 2.06-2.06.94zm10 10l.94 2.06.94-2.06 2.06-.94-2.06-.94-.94-2.06-.94 2.06-2.06.94z\"/><path d=\"M17.41 7.96l-1.37-1.37c-.4-.4-.92-.59-1.43-.59-.52 0-1.04.2-1.43.59L10.3 9.45l-7.72 7.72c-.78.78-.78 2.05 0 2.83L4 21.41c.39.39.9.59 1.41.59.51 0 1.02-.2 1.41-.59l7.78-7.78 2.81-2.81c.8-.78.8-2.07 0-2.86zM5.41 20L4 18.59l7.72-7.72 1.47 1.35L5.41 20z\"/>\n",
              "  </svg>\n",
              "      </button>\n",
              "      \n",
              "  <style>\n",
              "    .colab-df-container {\n",
              "      display:flex;\n",
              "      flex-wrap:wrap;\n",
              "      gap: 12px;\n",
              "    }\n",
              "\n",
              "    .colab-df-convert {\n",
              "      background-color: #E8F0FE;\n",
              "      border: none;\n",
              "      border-radius: 50%;\n",
              "      cursor: pointer;\n",
              "      display: none;\n",
              "      fill: #1967D2;\n",
              "      height: 32px;\n",
              "      padding: 0 0 0 0;\n",
              "      width: 32px;\n",
              "    }\n",
              "\n",
              "    .colab-df-convert:hover {\n",
              "      background-color: #E2EBFA;\n",
              "      box-shadow: 0px 1px 2px rgba(60, 64, 67, 0.3), 0px 1px 3px 1px rgba(60, 64, 67, 0.15);\n",
              "      fill: #174EA6;\n",
              "    }\n",
              "\n",
              "    [theme=dark] .colab-df-convert {\n",
              "      background-color: #3B4455;\n",
              "      fill: #D2E3FC;\n",
              "    }\n",
              "\n",
              "    [theme=dark] .colab-df-convert:hover {\n",
              "      background-color: #434B5C;\n",
              "      box-shadow: 0px 1px 3px 1px rgba(0, 0, 0, 0.15);\n",
              "      filter: drop-shadow(0px 1px 2px rgba(0, 0, 0, 0.3));\n",
              "      fill: #FFFFFF;\n",
              "    }\n",
              "  </style>\n",
              "\n",
              "      <script>\n",
              "        const buttonEl =\n",
              "          document.querySelector('#df-386d7886-d901-4c59-941b-2e8b2f0fc106 button.colab-df-convert');\n",
              "        buttonEl.style.display =\n",
              "          google.colab.kernel.accessAllowed ? 'block' : 'none';\n",
              "\n",
              "        async function convertToInteractive(key) {\n",
              "          const element = document.querySelector('#df-386d7886-d901-4c59-941b-2e8b2f0fc106');\n",
              "          const dataTable =\n",
              "            await google.colab.kernel.invokeFunction('convertToInteractive',\n",
              "                                                     [key], {});\n",
              "          if (!dataTable) return;\n",
              "\n",
              "          const docLinkHtml = 'Like what you see? Visit the ' +\n",
              "            '<a target=\"_blank\" href=https://colab.research.google.com/notebooks/data_table.ipynb>data table notebook</a>'\n",
              "            + ' to learn more about interactive tables.';\n",
              "          element.innerHTML = '';\n",
              "          dataTable['output_type'] = 'display_data';\n",
              "          await google.colab.output.renderOutput(dataTable, element);\n",
              "          const docLink = document.createElement('div');\n",
              "          docLink.innerHTML = docLinkHtml;\n",
              "          element.appendChild(docLink);\n",
              "        }\n",
              "      </script>\n",
              "    </div>\n",
              "  </div>\n",
              "  "
            ]
          },
          "metadata": {},
          "execution_count": 35
        }
      ]
    },
    {
      "cell_type": "markdown",
      "source": [
        "Объединяем датафреймы. Объединение позволит для каждого пользователя в рамках одного датафрейма указать и время регистрации, и время начала первого обучения в приложении."
      ],
      "metadata": {
        "id": "qvRbQ_alhiCr"
      }
    },
    {
      "cell_type": "code",
      "source": [
        "merged_df = registration_df.merge(\n",
        "    tutorial_start_df_wo_duplicates, on=\"user_id\", how=\"inner\"\n",
        ")\n",
        "merged_df[\"timedelta\"] = (\n",
        "    merged_df[\"tutorial_start_time\"] - merged_df[\"registration_time\"]\n",
        ")\n",
        "merged_df.head()\n",
        "merged_df[\"timedelta\"].mean()\n",
        "merged_df['timedelta'].describe()"
      ],
      "metadata": {
        "colab": {
          "base_uri": "https://localhost:8080/"
        },
        "id": "F2-ws8BohkIB",
        "outputId": "acc406a3-a04c-47c9-9a50-2e6e8c2590ff"
      },
      "execution_count": 36,
      "outputs": [
        {
          "output_type": "execute_result",
          "data": {
            "text/plain": [
              "count                        11858\n",
              "mean     0 days 04:38:24.019817844\n",
              "std      0 days 04:15:09.650705034\n",
              "min                0 days 00:00:34\n",
              "25%         0 days 01:21:37.500000\n",
              "50%         0 days 03:22:08.500000\n",
              "75%         0 days 06:47:42.750000\n",
              "max                1 days 16:03:46\n",
              "Name: timedelta, dtype: object"
            ]
          },
          "metadata": {},
          "execution_count": 36
        }
      ]
    },
    {
      "cell_type": "markdown",
      "source": [
        "Таким образом:\n",
        "\n",
        "четверть пользователей тратит меньше 1 часа 21 минуту на переход от регистрации к началу обучения; половина всех пользователей тратит между регистрацией и началом обучения менее 3 часов 22 минут.\n",
        "\n",
        "Такая сегментация пользователей может дать нам важные опорные точки для оптимизации времени. Мы можем сосредоточится не на оптимизации среднего времени (поскольку среднее будет увеличено за счёт пользователей, которые долго проходят этап), а на том, чтобы оптимизировать медианное время.\n",
        "\n",
        "Также мы можем отдельно выделить тех пользователей, у которых время больше медианного, чтобы исследовать их детально и понять, что мешает им быстрее дойти до этапа обучения."
      ],
      "metadata": {
        "id": "5eCA743YhnEZ"
      }
    },
    {
      "cell_type": "markdown",
      "source": [
        "Измеряем время обучения\n",
        "\n",
        "Перейдём к определению времени, которое нужно для прохождения обучения.\n",
        "\n",
        "Сначала сформируем датафрейм tutorial_finish_df, который содержит события окончания обучения."
      ],
      "metadata": {
        "id": "GA4qxSyhL_z4"
      }
    },
    {
      "cell_type": "code",
      "source": [
        "tutorial_finish_df = total_events_df[total_events_df[\"event_type\"] == \"tutorial_finish\"]\n",
        "first_tutorial_ids = tutorial_start_df_wo_duplicates[\"tutorial_id\"].unique()\n",
        "tutorial_finish_df = tutorial_finish_df[\n",
        "    tutorial_finish_df[\"tutorial_id\"].isin(first_tutorial_ids)\n",
        "]\n",
        "tutorial_finish_df['user_id'].value_counts().mean()\n",
        "tutorial_finish_df = tutorial_finish_df[[\"user_id\", \"start_time\"]].rename(\n",
        "    columns={\"start_time\": \"tutorial_finish_time\"}\n",
        ")\n",
        "merged_df_2 = tutorial_start_df_wo_duplicates.merge(\n",
        "    tutorial_finish_df, on=\"user_id\", how=\"inner\"\n",
        ")\n",
        "merged_df_2[\"timedelta\"] = (\n",
        "    merged_df_2[\"tutorial_finish_time\"] - merged_df_2[\"tutorial_start_time\"]\n",
        ")\n",
        "merged_df_2.head()\n",
        "print(merged_df_2[\"timedelta\"].mean())\n",
        "print(merged_df_2[\"timedelta\"].describe())"
      ],
      "metadata": {
        "colab": {
          "base_uri": "https://localhost:8080/"
        },
        "id": "NXoHV6dIhpLg",
        "outputId": "1926d167-115b-4668-df74-f2f6b8735c3e"
      },
      "execution_count": 37,
      "outputs": [
        {
          "output_type": "stream",
          "name": "stdout",
          "text": [
            "0 days 00:03:53.174160732\n",
            "count                         9830\n",
            "mean     0 days 00:03:53.174160732\n",
            "std      0 days 00:01:44.803217992\n",
            "min                0 days 00:00:16\n",
            "25%                0 days 00:02:28\n",
            "50%                0 days 00:03:42\n",
            "75%                0 days 00:05:08\n",
            "max                0 days 00:10:06\n",
            "Name: timedelta, dtype: object\n"
          ]
        }
      ]
    },
    {
      "cell_type": "markdown",
      "source": [
        "Таким образом, 75 % пользователей проходят обучение менее чем за 5 минут 8 секунд.\n",
        "\n",
        "Определяем время между registration и level_choice\n"
      ],
      "metadata": {
        "id": "aQLmiLz2htVZ"
      }
    },
    {
      "cell_type": "code",
      "source": [
        "level_choice_df = total_events_df[total_events_df[\"event_type\"] == \"level_choice\"]\n",
        "print(level_choice_df[\"user_id\"].value_counts().mean())\n",
        "level_choice_df = level_choice_df[[\"user_id\", \"start_time\"]].rename(\n",
        "    columns={\"start_time\": \"level_choice_time\"}\n",
        ")\n",
        "merged_df_3 = registration_df.merge(level_choice_df, on=\"user_id\", how=\"inner\")\n",
        "merged_df_3[\"timedelta\"] = (\n",
        "    merged_df_3[\"level_choice_time\"] - merged_df_3[\"registration_time\"]\n",
        ")\n",
        "print(merged_df_3[\"timedelta\"].mean())\n",
        "print(merged_df_3[\"timedelta\"].describe())"
      ],
      "metadata": {
        "colab": {
          "base_uri": "https://localhost:8080/"
        },
        "id": "aUEwqnv9hvUI",
        "outputId": "a0d3c293-1158-4c43-9d2c-48713e944813"
      },
      "execution_count": 38,
      "outputs": [
        {
          "output_type": "stream",
          "name": "stdout",
          "text": [
            "1.0\n",
            "0 days 07:10:19.169863342\n",
            "count                         8342\n",
            "mean     0 days 07:10:19.169863342\n",
            "std      0 days 04:33:51.164488800\n",
            "min                0 days 00:08:15\n",
            "25%         0 days 03:53:16.500000\n",
            "50%                0 days 06:03:28\n",
            "75%         0 days 09:34:58.500000\n",
            "max                1 days 18:48:25\n",
            "Name: timedelta, dtype: object\n"
          ]
        }
      ]
    },
    {
      "cell_type": "markdown",
      "source": [
        "Определяем время между событием выбора уровня сложности тренировки до события выбора набора бесплатных вопросов"
      ],
      "metadata": {
        "id": "hWBRbF71MieA"
      }
    },
    {
      "cell_type": "code",
      "source": [
        "pack_choice_df = total_events_df[total_events_df[\"event_type\"] == \"pack_choice\"]\n",
        "print(pack_choice_df[\"user_id\"].value_counts().mean())\n",
        "pack_choice_df = pack_choice_df[[\"user_id\", \"start_time\"]].rename(\n",
        "    columns={\"start_time\": \"pack_choice_time\"}\n",
        ")\n",
        "merged_df_4 = level_choice_df.merge(pack_choice_df, on=\"user_id\", how=\"inner\")\n",
        "merged_df_4[\"timedelta\"] = (\n",
        "    merged_df_4[\"pack_choice_time\"] - merged_df_4[\"level_choice_time\"]\n",
        ")\n",
        "print(merged_df_4[\"timedelta\"].mean())\n",
        "print(merged_df_4[\"timedelta\"].describe())"
      ],
      "metadata": {
        "colab": {
          "base_uri": "https://localhost:8080/"
        },
        "id": "UD-6zc2Lh0mZ",
        "outputId": "c525f59a-a60c-4eeb-bb99-48c7da0abe29"
      },
      "execution_count": 39,
      "outputs": [
        {
          "output_type": "stream",
          "name": "stdout",
          "text": [
            "1.0\n",
            "0 days 00:05:17.128464354\n",
            "count                         5737\n",
            "mean     0 days 00:05:17.128464354\n",
            "std      0 days 00:02:43.923107804\n",
            "min                0 days 00:00:19\n",
            "25%                0 days 00:03:05\n",
            "50%                0 days 00:04:57\n",
            "75%                0 days 00:07:08\n",
            "max                0 days 00:15:48\n",
            "Name: timedelta, dtype: object\n"
          ]
        }
      ]
    },
    {
      "cell_type": "markdown",
      "source": [
        "Определяем время между событием выбора бесплатных вопросов и первой оплатой"
      ],
      "metadata": {
        "id": "EOfrtpcjMsDA"
      }
    },
    {
      "cell_type": "code",
      "source": [
        "purchase_df = total_events_df[total_events_df[\"event_type\"] == \"purchase\"]\n",
        "print(purchase_df[\"user_id\"].value_counts().mean())\n",
        "purchase_df = purchase_df[[\"user_id\", \"event_datetime\"]].rename(\n",
        "    columns={\"event_datetime\": \"purchase_time\"}\n",
        ")\n",
        "merged_df_5 = pack_choice_df.merge(purchase_df, on=\"user_id\", how=\"inner\")\n",
        "merged_df_5[\"timedelta\"] = (\n",
        "    merged_df_5[\"purchase_time\"] - merged_df_5[\"pack_choice_time\"]\n",
        ")\n",
        "print(merged_df_5[\"timedelta\"].mean())\n",
        "print(merged_df_5[\"timedelta\"].describe())"
      ],
      "metadata": {
        "colab": {
          "base_uri": "https://localhost:8080/"
        },
        "id": "Q8_baRk2h4KZ",
        "outputId": "802870b5-c1be-4a16-ed29-410cd6468458"
      },
      "execution_count": 40,
      "outputs": [
        {
          "output_type": "stream",
          "name": "stdout",
          "text": [
            "1.0\n",
            "3 days 17:46:53.403125\n",
            "count                         1600\n",
            "mean        3 days 17:46:53.403125\n",
            "std      2 days 04:37:20.225124289\n",
            "min                0 days 00:44:50\n",
            "25%         1 days 21:24:13.250000\n",
            "50%         3 days 12:51:25.500000\n",
            "75%         5 days 09:42:13.750000\n",
            "max               10 days 18:33:59\n",
            "Name: timedelta, dtype: object\n"
          ]
        }
      ]
    },
    {
      "cell_type": "markdown",
      "source": [
        "# Проверка аналитической гипотезы\n",
        "Ранее мы видвинули гипотезу:\n",
        "\n",
        "вероятность оплаты зависит от того, проходил ли пользователь обучение.\n",
        "\n",
        "Определим, существует ли различие в частоте и средней величине оплат между тремя группами пользователей:\n",
        "\n",
        "* пользователи, которые прошли обучение хотя бы раз;\n",
        "* пользователи, которые начали обучение, но не прошли его ни разу;\n",
        "* пользователи, которые не начинали обучение, а сразу же перешли к выбору уровня сложности."
      ],
      "metadata": {
        "id": "R4_bqJYeM5IP"
      }
    },
    {
      "cell_type": "markdown",
      "source": [
        "Ищем пользователей, прошедших обучение хотя бы раз"
      ],
      "metadata": {
        "id": "7u5PE29fNjAv"
      }
    },
    {
      "cell_type": "code",
      "source": [
        "users_with_finished_tutorial = total_events_df[\n",
        "    total_events_df[\"event_type\"] == \"tutorial_finish\"\n",
        "][\"user_id\"].unique()\n",
        "print(len(users_with_finished_tutorial))"
      ],
      "metadata": {
        "colab": {
          "base_uri": "https://localhost:8080/"
        },
        "id": "vcUntNbFh64g",
        "outputId": "4c2925a2-e405-4e3e-b227-55d47c49c2ab"
      },
      "execution_count": 41,
      "outputs": [
        {
          "output_type": "stream",
          "name": "stdout",
          "text": [
            "10250\n"
          ]
        }
      ]
    },
    {
      "cell_type": "markdown",
      "source": [
        "Ищем пользователей, которые начали, но не закончили обучение"
      ],
      "metadata": {
        "id": "9M4zDQO-NnHP"
      }
    },
    {
      "cell_type": "code",
      "source": [
        "users_with_started_tutorial = total_events_df[\n",
        "    total_events_df[\"event_type\"] == \"tutorial_start\"\n",
        "][\"user_id\"].unique()\n",
        "set_users_with_started_tutorial = set(users_with_started_tutorial)\n",
        "set_users_not_finished_but_started_tutorial = (\n",
        "    set_users_with_started_tutorial.difference(set(users_with_finished_tutorial))\n",
        ")\n",
        "\n",
        "print(len(set_users_with_started_tutorial))\n",
        "print(len(set_users_not_finished_but_started_tutorial))\n",
        "print(\n",
        "    len(set_users_with_started_tutorial) - len(set(users_with_finished_tutorial))\n",
        "    == len(set_users_not_finished_but_started_tutorial)\n",
        ")"
      ],
      "metadata": {
        "colab": {
          "base_uri": "https://localhost:8080/"
        },
        "id": "eeqWVYm-h9Kp",
        "outputId": "5699101d-a7ba-4bb6-afb5-7faeaa7cfe36"
      },
      "execution_count": 42,
      "outputs": [
        {
          "output_type": "stream",
          "name": "stdout",
          "text": [
            "11858\n",
            "1608\n",
            "True\n"
          ]
        }
      ]
    },
    {
      "cell_type": "markdown",
      "source": [
        "Ищем пользователей, сразу выбравших уровень сложности"
      ],
      "metadata": {
        "id": "j1xOdnRoN-JI"
      }
    },
    {
      "cell_type": "code",
      "source": [
        "all_users = total_events_df[\"user_id\"].unique()\n",
        "set_all_users = set(all_users)\n",
        "set_users_not_started_tutorial = set_all_users.difference(\n",
        "    set_users_with_started_tutorial\n",
        ")\n",
        "print(len(set_users_not_started_tutorial))\n",
        "print(\n",
        "    len(set_all_users) - len(set_users_with_started_tutorial)\n",
        "    == len(set_users_not_started_tutorial)\n",
        ")"
      ],
      "metadata": {
        "colab": {
          "base_uri": "https://localhost:8080/"
        },
        "id": "5iHkMZBziARY",
        "outputId": "9c16f814-70fb-4595-c0ed-75b986c70ba7"
      },
      "execution_count": 43,
      "outputs": [
        {
          "output_type": "stream",
          "name": "stdout",
          "text": [
            "8068\n",
            "True\n"
          ]
        }
      ]
    },
    {
      "cell_type": "markdown",
      "source": [
        "Проверим, что мы правильно разбили пользователей на группы.\n",
        "\n",
        "Просуммировав длину всех множеств пользователей, мы должны получить исходное количество всех пользователей:"
      ],
      "metadata": {
        "id": "pZ8vhNeLOE3n"
      }
    },
    {
      "cell_type": "code",
      "source": [
        "len(set_users_not_finished_but_started_tutorial) + len(set_users_not_started_tutorial) + len(users_with_finished_tutorial) == len(set_all_users)"
      ],
      "metadata": {
        "colab": {
          "base_uri": "https://localhost:8080/"
        },
        "id": "XK3XmhZ6iDaY",
        "outputId": "1828818f-5058-4971-f01e-56189a9f5161"
      },
      "execution_count": 44,
      "outputs": [
        {
          "output_type": "execute_result",
          "data": {
            "text/plain": [
              "True"
            ]
          },
          "metadata": {},
          "execution_count": 44
        }
      ]
    },
    {
      "cell_type": "markdown",
      "source": [
        "Считаем пользователей, которые завершили обучение и совершили оплату"
      ],
      "metadata": {
        "id": "NBg9nGPSOMAv"
      }
    },
    {
      "cell_type": "code",
      "source": [
        "purchase_df_1 = purchase_df[purchase_df[\"user_id\"].isin(users_with_finished_tutorial)]\n",
        "print(purchase_df_1['user_id'].nunique())\n",
        "percent_of_purchase_1 = purchase_df_1[\"user_id\"].nunique() / len(\n",
        "    users_with_finished_tutorial\n",
        ")\n",
        "print(\n",
        "    \"Процент пользователей, которые оплатили тренировки (от числа пользователей, завершивших обучение): {:.2%}\".format(\n",
        "        percent_of_purchase_1\n",
        "    )\n",
        ")\n"
      ],
      "metadata": {
        "colab": {
          "base_uri": "https://localhost:8080/"
        },
        "id": "217akqS_iFeQ",
        "outputId": "fc6ee6b9-6962-4df0-fa40-6bf337ba97a1"
      },
      "execution_count": 45,
      "outputs": [
        {
          "output_type": "stream",
          "name": "stdout",
          "text": [
            "1447\n",
            "Процент пользователей, которые оплатили тренировки (от числа пользователей, завершивших обучение): 14.12%\n"
          ]
        }
      ]
    },
    {
      "cell_type": "markdown",
      "source": [
        "Посмотрим на оплаты пользователей, начавших, но не закончивших обучение"
      ],
      "metadata": {
        "id": "pK9IkUR-PFYY"
      }
    },
    {
      "cell_type": "code",
      "source": [
        "purchase_df_2 = purchase_df[\n",
        "    purchase_df[\"user_id\"].isin(set_users_not_finished_but_started_tutorial)\n",
        "]\n",
        "print(purchase_df_2[\"user_id\"].nunique())\n",
        "percent_of_purchase_2 = purchase_df_2[\"user_id\"].nunique() / len(\n",
        "    set_users_not_finished_but_started_tutorial\n",
        ")\n",
        "print(\n",
        "    \"Процент пользователей, которые оплатили тренировки (от числа пользователей, начавших обучение, но не завершивших): {:.2%}\".format(\n",
        "        percent_of_purchase_2\n",
        "    )\n",
        ")"
      ],
      "metadata": {
        "colab": {
          "base_uri": "https://localhost:8080/"
        },
        "id": "40QK1B4wiusy",
        "outputId": "7c114bba-6a96-4c99-baf1-12e38057d921"
      },
      "execution_count": 47,
      "outputs": [
        {
          "output_type": "stream",
          "name": "stdout",
          "text": [
            "131\n",
            "Процент пользователей, которые оплатили тренировки (от числа пользователей, начавших обучение, но не завершивших): 8.15%\n"
          ]
        }
      ]
    },
    {
      "cell_type": "markdown",
      "source": [
        "Рассчитаем процент пользователей, ни разу не начинавших обучение, но совершивших оплаты\n"
      ],
      "metadata": {
        "id": "K0TMGNO4PPCH"
      }
    },
    {
      "cell_type": "code",
      "source": [
        "purchase_df_3 = purchase_df[purchase_df[\"user_id\"].isin(set_users_not_started_tutorial)]\n",
        "print(purchase_df_3['user_id'].nunique())\n",
        "percent_of_purchase_3 = purchase_df_3[\"user_id\"].nunique() / len(\n",
        "    set_users_not_started_tutorial\n",
        ")\n",
        "print(\n",
        "    \"Процент пользователей, которые оплатили тренировки (от числа пользователей, не начавших обучение): {:.2%}\".format(\n",
        "        percent_of_purchase_3\n",
        "    )\n",
        ")"
      ],
      "metadata": {
        "colab": {
          "base_uri": "https://localhost:8080/"
        },
        "id": "arcCw2qDixqZ",
        "outputId": "bd815459-8cfc-46f6-ce90-45bc3757e0ae"
      },
      "execution_count": 48,
      "outputs": [
        {
          "output_type": "stream",
          "name": "stdout",
          "text": [
            "22\n",
            "Процент пользователей, которые оплатили тренировки (от числа пользователей, не начавших обучение): 0.27%\n"
          ]
        }
      ]
    },
    {
      "cell_type": "markdown",
      "source": [
        "# Выводы\n",
        "\n",
        "Как мы видим, процент пользователей, которые завершили обучение и совершили оплату, выше, чем процент пользователей, которые не начали обучение или не закончили его.\n",
        "\n",
        "Это говорит о том, что факт прохождения обучения влияет на дальнейшую мотивацию использовать приложение. Существенной разницы в среднем чеке при этом не наблюдается, то есть обучение увеличивает вовлечённость, но выбор количества платных пакетов зависит индивидуально от пользователя."
      ],
      "metadata": {
        "id": "VODZzorci06X"
      }
    }
  ]
}