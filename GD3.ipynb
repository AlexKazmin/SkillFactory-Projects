{
  "cells": [
    {
      "cell_type": "markdown",
      "metadata": {
        "id": "view-in-github",
        "colab_type": "text"
      },
      "source": [
        "<a href=\"https://colab.research.google.com/github/AlexKazmin/SkillFactory-Projects/blob/main/GD3.ipynb\" target=\"_parent\"><img src=\"https://colab.research.google.com/assets/colab-badge.svg\" alt=\"Open In Colab\"/></a>"
      ]
    },
    {
      "cell_type": "markdown",
      "metadata": {
        "id": "_N_smLzOPQES"
      },
      "source": [
        "# GD-3. Исследование поведения пользователей, зарегестрированных в 2018 году"
      ]
    },
    {
      "cell_type": "markdown",
      "metadata": {
        "id": "HKxJV9MPPQEW"
      },
      "source": [
        "1. Получаем данные из файлов"
      ]
    },
    {
      "cell_type": "code",
      "execution_count": null,
      "metadata": {
        "id": "IQ4oXb7zPQEX"
      },
      "outputs": [],
      "source": [
        "import pandas as pd\n",
        "import numpy as np\n",
        "\n",
        "purchase = pd.read_csv('data/GD-3/purchase.csv', sep=',')\n",
        "events = pd.read_csv('data/GD-3/7_4_Events.csv', sep=',')\n"
      ]
    },
    {
      "cell_type": "markdown",
      "metadata": {
        "id": "gVyXPENCPQEZ"
      },
      "source": [
        "2. Производим преобразование и фильтрацию"
      ]
    },
    {
      "cell_type": "code",
      "execution_count": null,
      "metadata": {
        "id": "NBP0GPOQPQEa",
        "outputId": "7dd45644-6f30-4e51-9527-fedc715fa7b3"
      },
      "outputs": [
        {
          "name": "stdout",
          "output_type": "stream",
          "text": [
            "<class 'pandas.core.frame.DataFrame'>\n",
            "Int64Index: 68559 entries, 51405 to 2778\n",
            "Data columns (total 9 columns):\n",
            " #   Column          Non-Null Count  Dtype         \n",
            "---  ------          --------------  -----         \n",
            " 0   event_id        66959 non-null  float64       \n",
            " 1   event_type      68559 non-null  object        \n",
            " 2   selected_level  8342 non-null   object        \n",
            " 3   start_time      66959 non-null  datetime64[ns]\n",
            " 4   tutorial_id     32954 non-null  float64       \n",
            " 5   user_id         68559 non-null  int64         \n",
            " 6   purchase_id     1600 non-null   float64       \n",
            " 7   event_datetime  1600 non-null   datetime64[ns]\n",
            " 8   amount          1600 non-null   float64       \n",
            "dtypes: datetime64[ns](2), float64(4), int64(1), object(2)\n",
            "memory usage: 5.2+ MB\n"
          ]
        }
      ],
      "source": [
        "# создать фильтр 2018\n",
        "cond2018 = (events.start_time>='2018-01-01') & (events.start_time<'2019-01-01') & (events.event_type=='registration')\n",
        "registered = events[cond2018]  \n",
        "# список пользователей, зарег. в 2018\n",
        "lst_reg = registered['user_id'].to_list() \n",
        "# отфильтровать пользователей зарег в 2018\n",
        "events_df = events[events.user_id.isin(lst_reg)].copy() \n",
        "purchase_df = purchase[purchase.user_id.isin(lst_reg)].copy() \n",
        "# добавить ивент тип покупка\n",
        "purchase_df['event_type'] = 'purchase' \n",
        "# изменить тип \n",
        "purchase_df['event_datetime'] = pd.to_datetime(purchase_df['event_datetime'])\n",
        "# переименовать айди\n",
        "events_df = events_df.rename(columns={\"id\": \"event_id\"}) \n",
        "purchase_df = purchase_df.rename(columns={\"id\": \"purchase_id\"})\n",
        "# объединить датафреймы\n",
        "total_events_df = pd.concat([events_df,purchase_df],sort=False) \n",
        "# изменить тип \n",
        "total_events_df['start_time'] = pd.to_datetime(total_events_df['start_time'])\n",
        "total_events_df.info()"
      ]
    },
    {
      "cell_type": "markdown",
      "metadata": {
        "id": "Qa4QeplaPQEc"
      },
      "source": [
        "3. Выделяем группы пользователей"
      ]
    },
    {
      "cell_type": "code",
      "execution_count": null,
      "metadata": {
        "id": "h284CPYTPQEd"
      },
      "outputs": [],
      "source": [
        "user_levels = total_events_df[~total_events_df['selected_level'].isnull()].copy()\n",
        "user_levels_df = user_levels[['selected_level', 'user_id', 'start_time']]\n",
        "group_easy = user_levels_df[(user_levels_df['selected_level'] == 'easy')][\"user_id\"].unique()\n",
        "group_medium = user_levels_df[(user_levels_df['selected_level'] == 'medium')][\"user_id\"].unique()\n",
        "group_hard = user_levels_df[(user_levels_df['selected_level'] == 'hard')][\"user_id\"].unique()\n",
        "set_easy = set(group_easy) #список выбравших низкий уровень сложности\n",
        "set_medium = set(group_medium) #список выбравших средний уровень сложности\n",
        "set_hard = set(group_hard) #список выбравших высокий уровень сложности"
      ]
    },
    {
      "cell_type": "markdown",
      "metadata": {
        "id": "6h6KPJZjPQEe"
      },
      "source": [
        "4. Рассчитываем для каждой группы процент оплат"
      ]
    },
    {
      "cell_type": "code",
      "execution_count": null,
      "metadata": {
        "id": "QEKItk5lPQEf",
        "outputId": "32ecfa31-49da-4999-feb2-d8df3be186d1"
      },
      "outputs": [
        {
          "name": "stdout",
          "output_type": "stream",
          "text": [
            "  selected_level  users_count  purchase_count  purchase_percent\n",
            "0         medium         4645             969             20.86\n",
            "1           easy         2448             189              7.72\n",
            "2           hard         1249             442             35.39\n"
          ]
        }
      ],
      "source": [
        "# сколько пользователей в каждой группе по уровню сложности\n",
        "groups_df = user_levels_df['selected_level'].value_counts().to_frame().reset_index()\n",
        "groups_df = groups_df.rename(columns={\"selected_level\": \"users_count\"})\n",
        "groups_df = groups_df.rename(columns={\"index\": \"selected_level\"})\n",
        "# добавить покупки к тем, кто выбрал уровень\n",
        "merged_df_1 = user_levels_df.merge(purchase_df, on='user_id', how='outer')\n",
        "# расчет количества тех, кто совершил покупку по группам уровней\n",
        "bought_groups_df = merged_df_1.groupby('selected_level')['purchase_id'].count().to_frame().reset_index()\n",
        "bought_groups_df = bought_groups_df.rename(columns={\"purchase_id\": \"purchase_count\"})\n",
        "# процент оплат для каждой группы\n",
        "level_stats_df = groups_df.merge(bought_groups_df, on='selected_level', how='outer')\n",
        "level_stats_df['purchase_percent'] = (level_stats_df['purchase_count'] / level_stats_df['users_count']*100).round(decimals=2)\n",
        "# вывод получившейся таблицы\n",
        "print(level_stats_df)"
      ]
    },
    {
      "cell_type": "markdown",
      "metadata": {
        "id": "1V9jCWliPQEh"
      },
      "source": [
        "### Вывод: чем выше уровень трудности выбрал пользователь, тем выше вероятность, что он совершит покупку."
      ]
    },
    {
      "cell_type": "markdown",
      "metadata": {
        "id": "U5XMHpnRPQEi"
      },
      "source": [
        "5. Рассчитываем временной промежуток между событиями регистрации и оплаты"
      ]
    },
    {
      "cell_type": "code",
      "execution_count": null,
      "metadata": {
        "id": "F24JW2CVPQEi",
        "outputId": "33268431-9ef0-4b8b-c567-9cc813195347"
      },
      "outputs": [
        {
          "name": "stdout",
          "output_type": "stream",
          "text": [
            "Временной промежуток между регистрацией и оплатой у групп пользователей с:\n",
            "1) низким уровнем сложности: 3 days 22:10:23.211640211,\n",
            "2) средним уровнем сложности: 4 days 06:12:06.576883384,\n",
            "3) высоким уровнем сложности: 3 days 14:55:19.257918552\n"
          ]
        }
      ],
      "source": [
        "# переименовать колонку event_datetime на start_time в таблице purchase_df чтобы подготовить к объединению \n",
        "purchase_df_2 = purchase_df.copy().rename(columns={\"event_datetime\": \"start_time\"})\n",
        "total_events_2 = pd.concat([events_df,purchase_df_2],sort=False) # объединить датафреймы\n",
        "\n",
        "# здесь можем суммировать даты потому что для всех событый кроме прохождения туториала есть только ОДНА дата\n",
        "a = total_events_2.pivot_table(\n",
        "    values='start_time',\n",
        "    index= ['user_id'],\n",
        "    columns= 'event_type',\n",
        "    aggfunc='sum')\n",
        "\n",
        "# вытаскиваем user_id из индекса в колонку\n",
        "a.reset_index(level=0, inplace=True)\n",
        "# убираем лишние колонки\n",
        "del a[\"tutorial_finish\"]\n",
        "del a[\"tutorial_start\"]\n",
        "del a[\"pack_choice\"] \n",
        "# убираем все строки где нет покупок\n",
        "a = a[~a['purchase'].isnull()].copy()\n",
        "# меняем тип на дату\n",
        "a['registration'] = pd.to_datetime(a['registration'])\n",
        "a['level_choice'] = pd.to_datetime(a['level_choice'])\n",
        "\n",
        "# расчет времени между событиями для пользователей выбравших низкий уровень сложности\n",
        "easy_df = a[a[\"user_id\"].isin(set_easy)].copy()\n",
        "easy_df['timedelta'] = easy_df['purchase'] - easy_df['registration'] \n",
        "easy_df['timedelta2'] = easy_df['level_choice'] - easy_df['registration'] \n",
        "easy_time = easy_df['timedelta'].mean()\n",
        "\n",
        "# расчет времени между событиями для пользователей выбравших средний уровень сложности\n",
        "medium_df = a[a[\"user_id\"].isin(set_medium)].copy()\n",
        "medium_df['timedelta'] = medium_df['purchase'] - medium_df['registration'] \n",
        "medium_df['timedelta2'] = medium_df['level_choice'] - medium_df['registration'] \n",
        "medium_time = medium_df['timedelta'].mean()\n",
        "\n",
        "# расчет времени между событиями для пользователей выбравших высокий уровень сложности\n",
        "hard_df = a[a[\"user_id\"].isin(set_hard)].copy()\n",
        "hard_df['timedelta'] = hard_df['purchase'] - hard_df['registration'] \n",
        "hard_df['timedelta2'] = hard_df['level_choice'] - hard_df['registration'] \n",
        "hard_time = hard_df['timedelta'].mean()\n",
        "\n",
        "# вывод данных\n",
        "print(f'''Временной промежуток между регистрацией и оплатой у групп пользователей с:\n",
        "1) низким уровнем сложности: {easy_time},\n",
        "2) средним уровнем сложности: {medium_time},\n",
        "3) высоким уровнем сложности: {hard_time}''')"
      ]
    },
    {
      "cell_type": "markdown",
      "metadata": {
        "id": "llpMNS81PQEj"
      },
      "source": [
        "### Выоды: Нет существенной разницы во временных промежутках между регистрацией и оплатой, в зависимости от уровня сложности. Все временные интервалы находятся в диапазоне +-3 дня.\n",
        "### Быстрее всех совершают покупку пользователи, выбравшие высокий уровень сложности (за 3 дня и 15 часов).\n"
      ]
    }
  ],
  "metadata": {
    "interpreter": {
      "hash": "48dd1ab9c4965530ea12f5d2ef50ed104d19fa86fa5a9a3f8977d1a2a82ef688"
    },
    "kernelspec": {
      "display_name": "Python 3.10.1 64-bit",
      "language": "python",
      "name": "python3"
    },
    "language_info": {
      "codemirror_mode": {
        "name": "ipython",
        "version": 3
      },
      "file_extension": ".py",
      "mimetype": "text/x-python",
      "name": "python",
      "nbconvert_exporter": "python",
      "pygments_lexer": "ipython3",
      "version": "3.10.1"
    },
    "orig_nbformat": 4,
    "colab": {
      "name": "GD3.ipynb",
      "provenance": [],
      "include_colab_link": true
    }
  },
  "nbformat": 4,
  "nbformat_minor": 0
}