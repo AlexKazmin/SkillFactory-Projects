{
  "nbformat": 4,
  "nbformat_minor": 5,
  "metadata": {
    "kernelspec": {
      "display_name": "Python 3",
      "language": "python",
      "name": "python3"
    },
    "language_info": {
      "codemirror_mode": {
        "name": "ipython",
        "version": 3
      },
      "file_extension": ".py",
      "mimetype": "text/x-python",
      "name": "python",
      "nbconvert_exporter": "python",
      "pygments_lexer": "ipython3",
      "version": "3.9.1"
    },
    "colab": {
      "name": "OD-3_Анализ результатов А/Б теста.ipynb",
      "provenance": [],
      "collapsed_sections": [
        "tamil-moscow"
      ],
      "include_colab_link": true
    }
  },
  "cells": [
    {
      "cell_type": "markdown",
      "metadata": {
        "id": "view-in-github",
        "colab_type": "text"
      },
      "source": [
        "<a href=\"https://colab.research.google.com/github/AlexKazmin/SkillFactory-Projects/blob/main/OD_3_%D0%90%D0%BD%D0%B0%D0%BB%D0%B8%D0%B7_%D1%80%D0%B5%D0%B7%D1%83%D0%BB%D1%8C%D1%82%D0%B0%D1%82%D0%BE%D0%B2_%D0%90_%D0%91_%D1%82%D0%B5%D1%81%D1%82%D0%B0.ipynb\" target=\"_parent\"><img src=\"https://colab.research.google.com/assets/colab-badge.svg\" alt=\"Open In Colab\"/></a>"
      ]
    },
    {
      "cell_type": "markdown",
      "metadata": {
        "id": "literary-fusion"
      },
      "source": [
        "# ЦЕЛЬ\n",
        "\n",
        "Туристическая фирма запустила новую акцию, чтобы продать как можно больше туров и разработали два варианта посадочной страницы. \n",
        "\n",
        "Необходимо проверить, какая из страниц приносит больше покупок.\n",
        "\n",
        "\n",
        "# Задачи:\n",
        "1. Провести первичный анализ датасета.\n",
        "  - привести столбцы к корректным типам данных;\n",
        "  - убедиться, что данные по обеим группам представлены за одинаковый период (визуализировать);\n",
        "  - проверить корректность распределения участников теста;\n",
        "  - проверить различие в группах;\n",
        "  - проверить пересечение аудитории в группах;\n",
        "  - определить по группам ряд показателей (количество пользователей, количество покупок, выручку, конверсию, средний чек);\n",
        "  - посмотреть, как распределяются суммы покупок (визуализировать);\n",
        "  - сделать первичные выводы.\n",
        "2. Рассчитате кумулятивные метрики:\n",
        "  - построить график конверсии в группах по дням;\n",
        "  - построить график среднего чека в группах по дням;\n",
        "  - построить график кумулятивных метрик по конверсии и по среднему чеку;\n",
        "  - сделать выводы выводы.\n",
        "3. Провести статистическую проверку гипотез:\n",
        "  - о равенстве конверсии;\n",
        "  - о равенстве выручки;\n",
        "  - о равенстве средних чеков по дням.\n",
        "4. Сформулировать вывод."
      ],
      "id": "literary-fusion"
    },
    {
      "cell_type": "code",
      "metadata": {
        "id": "consistent-voltage"
      },
      "source": [
        "import pandas as pd\n",
        "import matplotlib.pyplot as plt\n",
        "import scipy.stats as st\n",
        "import random\n",
        "import numpy as np\n",
        "import math as mth"
      ],
      "id": "consistent-voltage",
      "execution_count": 1,
      "outputs": []
    },
    {
      "cell_type": "code",
      "source": [
        "from google.colab import drive\n",
        "drive.mount('/content/drive')"
      ],
      "metadata": {
        "colab": {
          "base_uri": "https://localhost:8080/"
        },
        "id": "1egGiVhaUfRf",
        "outputId": "b0027b39-f442-4e37-d4c3-0ecd7da13d87"
      },
      "id": "1egGiVhaUfRf",
      "execution_count": 3,
      "outputs": [
        {
          "output_type": "stream",
          "name": "stdout",
          "text": [
            "Drive already mounted at /content/drive; to attempt to forcibly remount, call drive.mount(\"/content/drive\", force_remount=True).\n"
          ]
        }
      ]
    },
    {
      "cell_type": "code",
      "metadata": {
        "id": "indie-render"
      },
      "source": [
        "# Прочитаем файл:\n",
        "df = pd.read_csv('/content/drive/MyDrive/SF/ab_data (1).csv')"
      ],
      "id": "indie-render",
      "execution_count": 5,
      "outputs": []
    },
    {
      "cell_type": "code",
      "metadata": {
        "id": "entire-charity",
        "outputId": "dccd2e66-4ed3-4de4-af48-d1f56648a198",
        "colab": {
          "base_uri": "https://localhost:8080/",
          "height": 206
        }
      },
      "source": [
        "# Выведем первые пять строк файла\n",
        "df.head()"
      ],
      "id": "entire-charity",
      "execution_count": 6,
      "outputs": [
        {
          "output_type": "execute_result",
          "data": {
            "text/plain": [
              "   Unnamed: 0  user_id        date group  purchase   price\n",
              "0           0   851104  2021-01-21     A         0       0\n",
              "1           1   804228  2021-01-12     A         0       0\n",
              "2           2   661590  2021-01-11     B         0       0\n",
              "3           3   853541  2021-01-08     B         0       0\n",
              "4           4   864975  2021-01-21     A         1  150000"
            ],
            "text/html": [
              "\n",
              "  <div id=\"df-0dab1728-5dbc-478a-a1d1-c6b1e162944c\">\n",
              "    <div class=\"colab-df-container\">\n",
              "      <div>\n",
              "<style scoped>\n",
              "    .dataframe tbody tr th:only-of-type {\n",
              "        vertical-align: middle;\n",
              "    }\n",
              "\n",
              "    .dataframe tbody tr th {\n",
              "        vertical-align: top;\n",
              "    }\n",
              "\n",
              "    .dataframe thead th {\n",
              "        text-align: right;\n",
              "    }\n",
              "</style>\n",
              "<table border=\"1\" class=\"dataframe\">\n",
              "  <thead>\n",
              "    <tr style=\"text-align: right;\">\n",
              "      <th></th>\n",
              "      <th>Unnamed: 0</th>\n",
              "      <th>user_id</th>\n",
              "      <th>date</th>\n",
              "      <th>group</th>\n",
              "      <th>purchase</th>\n",
              "      <th>price</th>\n",
              "    </tr>\n",
              "  </thead>\n",
              "  <tbody>\n",
              "    <tr>\n",
              "      <th>0</th>\n",
              "      <td>0</td>\n",
              "      <td>851104</td>\n",
              "      <td>2021-01-21</td>\n",
              "      <td>A</td>\n",
              "      <td>0</td>\n",
              "      <td>0</td>\n",
              "    </tr>\n",
              "    <tr>\n",
              "      <th>1</th>\n",
              "      <td>1</td>\n",
              "      <td>804228</td>\n",
              "      <td>2021-01-12</td>\n",
              "      <td>A</td>\n",
              "      <td>0</td>\n",
              "      <td>0</td>\n",
              "    </tr>\n",
              "    <tr>\n",
              "      <th>2</th>\n",
              "      <td>2</td>\n",
              "      <td>661590</td>\n",
              "      <td>2021-01-11</td>\n",
              "      <td>B</td>\n",
              "      <td>0</td>\n",
              "      <td>0</td>\n",
              "    </tr>\n",
              "    <tr>\n",
              "      <th>3</th>\n",
              "      <td>3</td>\n",
              "      <td>853541</td>\n",
              "      <td>2021-01-08</td>\n",
              "      <td>B</td>\n",
              "      <td>0</td>\n",
              "      <td>0</td>\n",
              "    </tr>\n",
              "    <tr>\n",
              "      <th>4</th>\n",
              "      <td>4</td>\n",
              "      <td>864975</td>\n",
              "      <td>2021-01-21</td>\n",
              "      <td>A</td>\n",
              "      <td>1</td>\n",
              "      <td>150000</td>\n",
              "    </tr>\n",
              "  </tbody>\n",
              "</table>\n",
              "</div>\n",
              "      <button class=\"colab-df-convert\" onclick=\"convertToInteractive('df-0dab1728-5dbc-478a-a1d1-c6b1e162944c')\"\n",
              "              title=\"Convert this dataframe to an interactive table.\"\n",
              "              style=\"display:none;\">\n",
              "        \n",
              "  <svg xmlns=\"http://www.w3.org/2000/svg\" height=\"24px\"viewBox=\"0 0 24 24\"\n",
              "       width=\"24px\">\n",
              "    <path d=\"M0 0h24v24H0V0z\" fill=\"none\"/>\n",
              "    <path d=\"M18.56 5.44l.94 2.06.94-2.06 2.06-.94-2.06-.94-.94-2.06-.94 2.06-2.06.94zm-11 1L8.5 8.5l.94-2.06 2.06-.94-2.06-.94L8.5 2.5l-.94 2.06-2.06.94zm10 10l.94 2.06.94-2.06 2.06-.94-2.06-.94-.94-2.06-.94 2.06-2.06.94z\"/><path d=\"M17.41 7.96l-1.37-1.37c-.4-.4-.92-.59-1.43-.59-.52 0-1.04.2-1.43.59L10.3 9.45l-7.72 7.72c-.78.78-.78 2.05 0 2.83L4 21.41c.39.39.9.59 1.41.59.51 0 1.02-.2 1.41-.59l7.78-7.78 2.81-2.81c.8-.78.8-2.07 0-2.86zM5.41 20L4 18.59l7.72-7.72 1.47 1.35L5.41 20z\"/>\n",
              "  </svg>\n",
              "      </button>\n",
              "      \n",
              "  <style>\n",
              "    .colab-df-container {\n",
              "      display:flex;\n",
              "      flex-wrap:wrap;\n",
              "      gap: 12px;\n",
              "    }\n",
              "\n",
              "    .colab-df-convert {\n",
              "      background-color: #E8F0FE;\n",
              "      border: none;\n",
              "      border-radius: 50%;\n",
              "      cursor: pointer;\n",
              "      display: none;\n",
              "      fill: #1967D2;\n",
              "      height: 32px;\n",
              "      padding: 0 0 0 0;\n",
              "      width: 32px;\n",
              "    }\n",
              "\n",
              "    .colab-df-convert:hover {\n",
              "      background-color: #E2EBFA;\n",
              "      box-shadow: 0px 1px 2px rgba(60, 64, 67, 0.3), 0px 1px 3px 1px rgba(60, 64, 67, 0.15);\n",
              "      fill: #174EA6;\n",
              "    }\n",
              "\n",
              "    [theme=dark] .colab-df-convert {\n",
              "      background-color: #3B4455;\n",
              "      fill: #D2E3FC;\n",
              "    }\n",
              "\n",
              "    [theme=dark] .colab-df-convert:hover {\n",
              "      background-color: #434B5C;\n",
              "      box-shadow: 0px 1px 3px 1px rgba(0, 0, 0, 0.15);\n",
              "      filter: drop-shadow(0px 1px 2px rgba(0, 0, 0, 0.3));\n",
              "      fill: #FFFFFF;\n",
              "    }\n",
              "  </style>\n",
              "\n",
              "      <script>\n",
              "        const buttonEl =\n",
              "          document.querySelector('#df-0dab1728-5dbc-478a-a1d1-c6b1e162944c button.colab-df-convert');\n",
              "        buttonEl.style.display =\n",
              "          google.colab.kernel.accessAllowed ? 'block' : 'none';\n",
              "\n",
              "        async function convertToInteractive(key) {\n",
              "          const element = document.querySelector('#df-0dab1728-5dbc-478a-a1d1-c6b1e162944c');\n",
              "          const dataTable =\n",
              "            await google.colab.kernel.invokeFunction('convertToInteractive',\n",
              "                                                     [key], {});\n",
              "          if (!dataTable) return;\n",
              "\n",
              "          const docLinkHtml = 'Like what you see? Visit the ' +\n",
              "            '<a target=\"_blank\" href=https://colab.research.google.com/notebooks/data_table.ipynb>data table notebook</a>'\n",
              "            + ' to learn more about interactive tables.';\n",
              "          element.innerHTML = '';\n",
              "          dataTable['output_type'] = 'display_data';\n",
              "          await google.colab.output.renderOutput(dataTable, element);\n",
              "          const docLink = document.createElement('div');\n",
              "          docLink.innerHTML = docLinkHtml;\n",
              "          element.appendChild(docLink);\n",
              "        }\n",
              "      </script>\n",
              "    </div>\n",
              "  </div>\n",
              "  "
            ]
          },
          "metadata": {},
          "execution_count": 6
        }
      ]
    },
    {
      "cell_type": "code",
      "metadata": {
        "id": "varying-edition",
        "outputId": "24420c8d-3949-4fa1-c744-a9293c1bd813",
        "colab": {
          "base_uri": "https://localhost:8080/"
        }
      },
      "source": [
        "# Воспользуемся методом info и выведем информацию о датасете\n",
        "df.info()"
      ],
      "id": "varying-edition",
      "execution_count": 7,
      "outputs": [
        {
          "output_type": "stream",
          "name": "stdout",
          "text": [
            "<class 'pandas.core.frame.DataFrame'>\n",
            "RangeIndex: 294478 entries, 0 to 294477\n",
            "Data columns (total 6 columns):\n",
            " #   Column      Non-Null Count   Dtype \n",
            "---  ------      --------------   ----- \n",
            " 0   Unnamed: 0  294478 non-null  int64 \n",
            " 1   user_id     294478 non-null  int64 \n",
            " 2   date        294478 non-null  object\n",
            " 3   group       294478 non-null  object\n",
            " 4   purchase    294478 non-null  int64 \n",
            " 5   price       294478 non-null  int64 \n",
            "dtypes: int64(4), object(2)\n",
            "memory usage: 13.5+ MB\n"
          ]
        }
      ]
    },
    {
      "cell_type": "markdown",
      "metadata": {
        "id": "invalid-mattress"
      },
      "source": [
        "В Датасете всего 293 478 строк. Пропущенные значения отсутствуют. \n",
        "Столбец 'date' имеет типа данных object , необходимо привести его к типу данных datetime для дальнейшей корректной работы с ним."
      ],
      "id": "invalid-mattress"
    },
    {
      "cell_type": "code",
      "metadata": {
        "id": "demographic-metabolism"
      },
      "source": [
        "df['date'] = pd.to_datetime(df['date'], format='%Y-%m-%d')"
      ],
      "id": "demographic-metabolism",
      "execution_count": 8,
      "outputs": []
    },
    {
      "cell_type": "code",
      "metadata": {
        "scrolled": false,
        "id": "loved-navigator",
        "outputId": "207c2fb1-a0ba-42a8-cdb6-7495df880967",
        "colab": {
          "base_uri": "https://localhost:8080/",
          "height": 508
        }
      },
      "source": [
        "# Построим гистограмму по столбцу date для каждой из групп;\n",
        "\n",
        "ax = df[df['group'] == 'A'].hist('date', alpha=0.9)\n",
        "\n",
        "df[df['group'] == 'B'].hist('date', ax=ax, alpha=0.3)\n",
        "plt.xticks(rotation=50)\n",
        "plt.show()\n",
        "\n",
        "df['date'].describe()"
      ],
      "id": "loved-navigator",
      "execution_count": 9,
      "outputs": [
        {
          "output_type": "display_data",
          "data": {
            "text/plain": [
              "<Figure size 432x288 with 1 Axes>"
            ],
            "image/png": "[encoded data removed]"
          },
          "metadata": {
            "needs_background": "light"
          }
        },
        {
          "output_type": "stream",
          "name": "stderr",
          "text": [
            "/usr/local/lib/python3.7/dist-packages/ipykernel_launcher.py:9: FutureWarning: Treating datetime data as categorical rather than numeric in `.describe` is deprecated and will be removed in a future version of pandas. Specify `datetime_is_numeric=True` to silence this warning and adopt the future behavior now.\n",
            "  if __name__ == '__main__':\n"
          ]
        },
        {
          "output_type": "execute_result",
          "data": {
            "text/plain": [
              "count                  294478\n",
              "unique                     23\n",
              "top       2021-01-08 00:00:00\n",
              "freq                    13564\n",
              "first     2021-01-02 00:00:00\n",
              "last      2021-01-24 00:00:00\n",
              "Name: date, dtype: object"
            ]
          },
          "metadata": {},
          "execution_count": 9
        }
      ]
    },
    {
      "cell_type": "markdown",
      "metadata": {
        "id": "becoming-copyright"
      },
      "source": [
        "На гистограмме видно, что тест проводился co 2 по 24 января. "
      ],
      "id": "becoming-copyright"
    },
    {
      "cell_type": "code",
      "metadata": {
        "id": "stone-participant",
        "outputId": "8a89c9e8-6cd3-48e1-eb7b-7c9164988dfb",
        "colab": {
          "base_uri": "https://localhost:8080/"
        }
      },
      "source": [
        "# проверим корректность распределения трафика по группам\n",
        "df['group'].value_counts()"
      ],
      "id": "stone-participant",
      "execution_count": 10,
      "outputs": [
        {
          "output_type": "execute_result",
          "data": {
            "text/plain": [
              "B    147276\n",
              "A    147202\n",
              "Name: group, dtype: int64"
            ]
          },
          "metadata": {},
          "execution_count": 10
        }
      ]
    },
    {
      "cell_type": "markdown",
      "metadata": {
        "id": "desperate-aggregate"
      },
      "source": [
        "Трафик распределен практически равномерно. "
      ],
      "id": "desperate-aggregate"
    },
    {
      "cell_type": "code",
      "metadata": {
        "id": "smooth-tuition",
        "outputId": "d36d448a-0f73-4df9-e4d6-a12d803504d0",
        "colab": {
          "base_uri": "https://localhost:8080/"
        }
      },
      "source": [
        "#Проверим разницу в различии\n",
        "print('Разница между группами составляет {:.2%}'.format((df['group'].value_counts().B - df['group'].value_counts().A) / df['group'].value_counts().A))"
      ],
      "id": "smooth-tuition",
      "execution_count": 11,
      "outputs": [
        {
          "output_type": "stream",
          "name": "stdout",
          "text": [
            "Разница между группами составляет 0.05%\n"
          ]
        }
      ]
    },
    {
      "cell_type": "markdown",
      "metadata": {
        "id": "significant-anger"
      },
      "source": [
        "Трафик отличается менее чем на 1 процент. Можно считать распределение корректным."
      ],
      "id": "significant-anger"
    },
    {
      "cell_type": "code",
      "metadata": {
        "id": "protective-objective"
      },
      "source": [
        "# Проверить пересечение аудитории в группах\n",
        "# Создадим сводную таблицу\n",
        "cross = df.pivot_table(index='user_id',\n",
        "              columns='group',\n",
        "              values='date',\n",
        "              aggfunc='max')"
      ],
      "id": "protective-objective",
      "execution_count": 12,
      "outputs": []
    },
    {
      "cell_type": "code",
      "metadata": {
        "id": "opened-decrease",
        "outputId": "502c15be-e269-458e-e9fa-f177d32fdc7c",
        "colab": {
          "base_uri": "https://localhost:8080/",
          "height": 455
        }
      },
      "source": [
        "# Из получившейся выше сводной таблицы выведем столбцы, где А и Б заполнены\n",
        "cross[(~cross['A'].isna()) & (~cross['B'].isna())]"
      ],
      "id": "opened-decrease",
      "execution_count": 13,
      "outputs": [
        {
          "output_type": "execute_result",
          "data": {
            "text/plain": [
              "group            A          B\n",
              "user_id                      \n",
              "630320  2021-01-07 2021-01-12\n",
              "630805  2021-01-22 2021-01-12\n",
              "630871  2021-01-08 2021-01-03\n",
              "630887  2021-01-07 2021-01-22\n",
              "631008  2021-01-21 2021-01-22\n",
              "...            ...        ...\n",
              "945272  2021-01-14 2021-01-18\n",
              "945308  2021-01-20 2021-01-03\n",
              "945369  2021-01-15 2021-01-24\n",
              "945387  2021-01-20 2021-01-03\n",
              "945627  2021-01-06 2021-01-17\n",
              "\n",
              "[1895 rows x 2 columns]"
            ],
            "text/html": [
              "\n",
              "  <div id=\"df-e0661542-f611-4989-9b11-55008ac1b1fc\">\n",
              "    <div class=\"colab-df-container\">\n",
              "      <div>\n",
              "<style scoped>\n",
              "    .dataframe tbody tr th:only-of-type {\n",
              "        vertical-align: middle;\n",
              "    }\n",
              "\n",
              "    .dataframe tbody tr th {\n",
              "        vertical-align: top;\n",
              "    }\n",
              "\n",
              "    .dataframe thead th {\n",
              "        text-align: right;\n",
              "    }\n",
              "</style>\n",
              "<table border=\"1\" class=\"dataframe\">\n",
              "  <thead>\n",
              "    <tr style=\"text-align: right;\">\n",
              "      <th>group</th>\n",
              "      <th>A</th>\n",
              "      <th>B</th>\n",
              "    </tr>\n",
              "    <tr>\n",
              "      <th>user_id</th>\n",
              "      <th></th>\n",
              "      <th></th>\n",
              "    </tr>\n",
              "  </thead>\n",
              "  <tbody>\n",
              "    <tr>\n",
              "      <th>630320</th>\n",
              "      <td>2021-01-07</td>\n",
              "      <td>2021-01-12</td>\n",
              "    </tr>\n",
              "    <tr>\n",
              "      <th>630805</th>\n",
              "      <td>2021-01-22</td>\n",
              "      <td>2021-01-12</td>\n",
              "    </tr>\n",
              "    <tr>\n",
              "      <th>630871</th>\n",
              "      <td>2021-01-08</td>\n",
              "      <td>2021-01-03</td>\n",
              "    </tr>\n",
              "    <tr>\n",
              "      <th>630887</th>\n",
              "      <td>2021-01-07</td>\n",
              "      <td>2021-01-22</td>\n",
              "    </tr>\n",
              "    <tr>\n",
              "      <th>631008</th>\n",
              "      <td>2021-01-21</td>\n",
              "      <td>2021-01-22</td>\n",
              "    </tr>\n",
              "    <tr>\n",
              "      <th>...</th>\n",
              "      <td>...</td>\n",
              "      <td>...</td>\n",
              "    </tr>\n",
              "    <tr>\n",
              "      <th>945272</th>\n",
              "      <td>2021-01-14</td>\n",
              "      <td>2021-01-18</td>\n",
              "    </tr>\n",
              "    <tr>\n",
              "      <th>945308</th>\n",
              "      <td>2021-01-20</td>\n",
              "      <td>2021-01-03</td>\n",
              "    </tr>\n",
              "    <tr>\n",
              "      <th>945369</th>\n",
              "      <td>2021-01-15</td>\n",
              "      <td>2021-01-24</td>\n",
              "    </tr>\n",
              "    <tr>\n",
              "      <th>945387</th>\n",
              "      <td>2021-01-20</td>\n",
              "      <td>2021-01-03</td>\n",
              "    </tr>\n",
              "    <tr>\n",
              "      <th>945627</th>\n",
              "      <td>2021-01-06</td>\n",
              "      <td>2021-01-17</td>\n",
              "    </tr>\n",
              "  </tbody>\n",
              "</table>\n",
              "<p>1895 rows × 2 columns</p>\n",
              "</div>\n",
              "      <button class=\"colab-df-convert\" onclick=\"convertToInteractive('df-e0661542-f611-4989-9b11-55008ac1b1fc')\"\n",
              "              title=\"Convert this dataframe to an interactive table.\"\n",
              "              style=\"display:none;\">\n",
              "        \n",
              "  <svg xmlns=\"http://www.w3.org/2000/svg\" height=\"24px\"viewBox=\"0 0 24 24\"\n",
              "       width=\"24px\">\n",
              "    <path d=\"M0 0h24v24H0V0z\" fill=\"none\"/>\n",
              "    <path d=\"M18.56 5.44l.94 2.06.94-2.06 2.06-.94-2.06-.94-.94-2.06-.94 2.06-2.06.94zm-11 1L8.5 8.5l.94-2.06 2.06-.94-2.06-.94L8.5 2.5l-.94 2.06-2.06.94zm10 10l.94 2.06.94-2.06 2.06-.94-2.06-.94-.94-2.06-.94 2.06-2.06.94z\"/><path d=\"M17.41 7.96l-1.37-1.37c-.4-.4-.92-.59-1.43-.59-.52 0-1.04.2-1.43.59L10.3 9.45l-7.72 7.72c-.78.78-.78 2.05 0 2.83L4 21.41c.39.39.9.59 1.41.59.51 0 1.02-.2 1.41-.59l7.78-7.78 2.81-2.81c.8-.78.8-2.07 0-2.86zM5.41 20L4 18.59l7.72-7.72 1.47 1.35L5.41 20z\"/>\n",
              "  </svg>\n",
              "      </button>\n",
              "      \n",
              "  <style>\n",
              "    .colab-df-container {\n",
              "      display:flex;\n",
              "      flex-wrap:wrap;\n",
              "      gap: 12px;\n",
              "    }\n",
              "\n",
              "    .colab-df-convert {\n",
              "      background-color: #E8F0FE;\n",
              "      border: none;\n",
              "      border-radius: 50%;\n",
              "      cursor: pointer;\n",
              "      display: none;\n",
              "      fill: #1967D2;\n",
              "      height: 32px;\n",
              "      padding: 0 0 0 0;\n",
              "      width: 32px;\n",
              "    }\n",
              "\n",
              "    .colab-df-convert:hover {\n",
              "      background-color: #E2EBFA;\n",
              "      box-shadow: 0px 1px 2px rgba(60, 64, 67, 0.3), 0px 1px 3px 1px rgba(60, 64, 67, 0.15);\n",
              "      fill: #174EA6;\n",
              "    }\n",
              "\n",
              "    [theme=dark] .colab-df-convert {\n",
              "      background-color: #3B4455;\n",
              "      fill: #D2E3FC;\n",
              "    }\n",
              "\n",
              "    [theme=dark] .colab-df-convert:hover {\n",
              "      background-color: #434B5C;\n",
              "      box-shadow: 0px 1px 3px 1px rgba(0, 0, 0, 0.15);\n",
              "      filter: drop-shadow(0px 1px 2px rgba(0, 0, 0, 0.3));\n",
              "      fill: #FFFFFF;\n",
              "    }\n",
              "  </style>\n",
              "\n",
              "      <script>\n",
              "        const buttonEl =\n",
              "          document.querySelector('#df-e0661542-f611-4989-9b11-55008ac1b1fc button.colab-df-convert');\n",
              "        buttonEl.style.display =\n",
              "          google.colab.kernel.accessAllowed ? 'block' : 'none';\n",
              "\n",
              "        async function convertToInteractive(key) {\n",
              "          const element = document.querySelector('#df-e0661542-f611-4989-9b11-55008ac1b1fc');\n",
              "          const dataTable =\n",
              "            await google.colab.kernel.invokeFunction('convertToInteractive',\n",
              "                                                     [key], {});\n",
              "          if (!dataTable) return;\n",
              "\n",
              "          const docLinkHtml = 'Like what you see? Visit the ' +\n",
              "            '<a target=\"_blank\" href=https://colab.research.google.com/notebooks/data_table.ipynb>data table notebook</a>'\n",
              "            + ' to learn more about interactive tables.';\n",
              "          element.innerHTML = '';\n",
              "          dataTable['output_type'] = 'display_data';\n",
              "          await google.colab.output.renderOutput(dataTable, element);\n",
              "          const docLink = document.createElement('div');\n",
              "          docLink.innerHTML = docLinkHtml;\n",
              "          element.appendChild(docLink);\n",
              "        }\n",
              "      </script>\n",
              "    </div>\n",
              "  </div>\n",
              "  "
            ]
          },
          "metadata": {},
          "execution_count": 13
        }
      ]
    },
    {
      "cell_type": "markdown",
      "metadata": {
        "id": "future-administrator"
      },
      "source": [
        " Мы получили 1 895 идентификаторов пользователей, которые видели оба варианта теста; Так как мы не можем определить какая из версий сайта повлияла на принятие ими решения, исключим этих пользователей;"
      ],
      "id": "future-administrator"
    },
    {
      "cell_type": "code",
      "metadata": {
        "id": "exciting-radar"
      },
      "source": [
        "df1 = df[~df['user_id'].isin(cross[(~cross['A'].isna()) & (~cross['B'].isna())].index)]"
      ],
      "id": "exciting-radar",
      "execution_count": 14,
      "outputs": []
    },
    {
      "cell_type": "code",
      "metadata": {
        "id": "matched-nebraska",
        "outputId": "f9df8745-2d19-4eb1-a320-05a60f8500b6",
        "colab": {
          "base_uri": "https://localhost:8080/"
        }
      },
      "source": [
        "# Проверим как изменилось соотношение пользователей в группах после очистки:\n",
        "df1['group'].value_counts()"
      ],
      "id": "matched-nebraska",
      "execution_count": 15,
      "outputs": [
        {
          "output_type": "execute_result",
          "data": {
            "text/plain": [
              "B    145381\n",
              "A    145307\n",
              "Name: group, dtype: int64"
            ]
          },
          "metadata": {},
          "execution_count": 15
        }
      ]
    },
    {
      "cell_type": "code",
      "metadata": {
        "id": "offensive-trial",
        "outputId": "d53e204f-9ff0-462a-fa28-6c322f06665b",
        "colab": {
          "base_uri": "https://localhost:8080/"
        }
      },
      "source": [
        "(df1['group'].value_counts()[0] - df1['group'].value_counts()[1]) / df1['group'].value_counts()[0] * 100"
      ],
      "id": "offensive-trial",
      "execution_count": 16,
      "outputs": [
        {
          "output_type": "execute_result",
          "data": {
            "text/plain": [
              "0.05090073668498634"
            ]
          },
          "metadata": {},
          "execution_count": 16
        }
      ]
    },
    {
      "cell_type": "markdown",
      "metadata": {
        "id": "international-atlantic"
      },
      "source": [
        "Группы по-прежнему отличаются не более чем на 1 процент. Можем продолжать исследование."
      ],
      "id": "international-atlantic"
    },
    {
      "cell_type": "code",
      "metadata": {
        "id": "minor-passport"
      },
      "source": [
        "# Определить количество покупок, выручку и средний чек по группам;\n",
        "total_data = df1.groupby('group').agg({'user_id':'count', 'purchase':'sum', 'price':'sum'}).reset_index()"
      ],
      "id": "minor-passport",
      "execution_count": 17,
      "outputs": []
    },
    {
      "cell_type": "code",
      "metadata": {
        "id": "partial-offense",
        "outputId": "b6f74502-5a67-43e4-9bb0-c5626937f4c7",
        "colab": {
          "base_uri": "https://localhost:8080/",
          "height": 112
        }
      },
      "source": [
        "total_data"
      ],
      "id": "partial-offense",
      "execution_count": 18,
      "outputs": [
        {
          "output_type": "execute_result",
          "data": {
            "text/plain": [
              "  group  user_id  purchase       price\n",
              "0     A   145307     17487  1417780000\n",
              "1     B   145381     17290  1533010000"
            ],
            "text/html": [
              "\n",
              "  <div id=\"df-e14f0505-5ee8-4352-bb9f-5b680c2c5f3c\">\n",
              "    <div class=\"colab-df-container\">\n",
              "      <div>\n",
              "<style scoped>\n",
              "    .dataframe tbody tr th:only-of-type {\n",
              "        vertical-align: middle;\n",
              "    }\n",
              "\n",
              "    .dataframe tbody tr th {\n",
              "        vertical-align: top;\n",
              "    }\n",
              "\n",
              "    .dataframe thead th {\n",
              "        text-align: right;\n",
              "    }\n",
              "</style>\n",
              "<table border=\"1\" class=\"dataframe\">\n",
              "  <thead>\n",
              "    <tr style=\"text-align: right;\">\n",
              "      <th></th>\n",
              "      <th>group</th>\n",
              "      <th>user_id</th>\n",
              "      <th>purchase</th>\n",
              "      <th>price</th>\n",
              "    </tr>\n",
              "  </thead>\n",
              "  <tbody>\n",
              "    <tr>\n",
              "      <th>0</th>\n",
              "      <td>A</td>\n",
              "      <td>145307</td>\n",
              "      <td>17487</td>\n",
              "      <td>1417780000</td>\n",
              "    </tr>\n",
              "    <tr>\n",
              "      <th>1</th>\n",
              "      <td>B</td>\n",
              "      <td>145381</td>\n",
              "      <td>17290</td>\n",
              "      <td>1533010000</td>\n",
              "    </tr>\n",
              "  </tbody>\n",
              "</table>\n",
              "</div>\n",
              "      <button class=\"colab-df-convert\" onclick=\"convertToInteractive('df-e14f0505-5ee8-4352-bb9f-5b680c2c5f3c')\"\n",
              "              title=\"Convert this dataframe to an interactive table.\"\n",
              "              style=\"display:none;\">\n",
              "        \n",
              "  <svg xmlns=\"http://www.w3.org/2000/svg\" height=\"24px\"viewBox=\"0 0 24 24\"\n",
              "       width=\"24px\">\n",
              "    <path d=\"M0 0h24v24H0V0z\" fill=\"none\"/>\n",
              "    <path d=\"M18.56 5.44l.94 2.06.94-2.06 2.06-.94-2.06-.94-.94-2.06-.94 2.06-2.06.94zm-11 1L8.5 8.5l.94-2.06 2.06-.94-2.06-.94L8.5 2.5l-.94 2.06-2.06.94zm10 10l.94 2.06.94-2.06 2.06-.94-2.06-.94-.94-2.06-.94 2.06-2.06.94z\"/><path d=\"M17.41 7.96l-1.37-1.37c-.4-.4-.92-.59-1.43-.59-.52 0-1.04.2-1.43.59L10.3 9.45l-7.72 7.72c-.78.78-.78 2.05 0 2.83L4 21.41c.39.39.9.59 1.41.59.51 0 1.02-.2 1.41-.59l7.78-7.78 2.81-2.81c.8-.78.8-2.07 0-2.86zM5.41 20L4 18.59l7.72-7.72 1.47 1.35L5.41 20z\"/>\n",
              "  </svg>\n",
              "      </button>\n",
              "      \n",
              "  <style>\n",
              "    .colab-df-container {\n",
              "      display:flex;\n",
              "      flex-wrap:wrap;\n",
              "      gap: 12px;\n",
              "    }\n",
              "\n",
              "    .colab-df-convert {\n",
              "      background-color: #E8F0FE;\n",
              "      border: none;\n",
              "      border-radius: 50%;\n",
              "      cursor: pointer;\n",
              "      display: none;\n",
              "      fill: #1967D2;\n",
              "      height: 32px;\n",
              "      padding: 0 0 0 0;\n",
              "      width: 32px;\n",
              "    }\n",
              "\n",
              "    .colab-df-convert:hover {\n",
              "      background-color: #E2EBFA;\n",
              "      box-shadow: 0px 1px 2px rgba(60, 64, 67, 0.3), 0px 1px 3px 1px rgba(60, 64, 67, 0.15);\n",
              "      fill: #174EA6;\n",
              "    }\n",
              "\n",
              "    [theme=dark] .colab-df-convert {\n",
              "      background-color: #3B4455;\n",
              "      fill: #D2E3FC;\n",
              "    }\n",
              "\n",
              "    [theme=dark] .colab-df-convert:hover {\n",
              "      background-color: #434B5C;\n",
              "      box-shadow: 0px 1px 3px 1px rgba(0, 0, 0, 0.15);\n",
              "      filter: drop-shadow(0px 1px 2px rgba(0, 0, 0, 0.3));\n",
              "      fill: #FFFFFF;\n",
              "    }\n",
              "  </style>\n",
              "\n",
              "      <script>\n",
              "        const buttonEl =\n",
              "          document.querySelector('#df-e14f0505-5ee8-4352-bb9f-5b680c2c5f3c button.colab-df-convert');\n",
              "        buttonEl.style.display =\n",
              "          google.colab.kernel.accessAllowed ? 'block' : 'none';\n",
              "\n",
              "        async function convertToInteractive(key) {\n",
              "          const element = document.querySelector('#df-e14f0505-5ee8-4352-bb9f-5b680c2c5f3c');\n",
              "          const dataTable =\n",
              "            await google.colab.kernel.invokeFunction('convertToInteractive',\n",
              "                                                     [key], {});\n",
              "          if (!dataTable) return;\n",
              "\n",
              "          const docLinkHtml = 'Like what you see? Visit the ' +\n",
              "            '<a target=\"_blank\" href=https://colab.research.google.com/notebooks/data_table.ipynb>data table notebook</a>'\n",
              "            + ' to learn more about interactive tables.';\n",
              "          element.innerHTML = '';\n",
              "          dataTable['output_type'] = 'display_data';\n",
              "          await google.colab.output.renderOutput(dataTable, element);\n",
              "          const docLink = document.createElement('div');\n",
              "          docLink.innerHTML = docLinkHtml;\n",
              "          element.appendChild(docLink);\n",
              "        }\n",
              "      </script>\n",
              "    </div>\n",
              "  </div>\n",
              "  "
            ]
          },
          "metadata": {},
          "execution_count": 18
        }
      ]
    },
    {
      "cell_type": "code",
      "metadata": {
        "id": "pursuant-touch"
      },
      "source": [
        "# Посчитаем конверсию по группам\n",
        "total_data['conversion'] = round(total_data['purchase'] / total_data['user_id'] * 100, 2)"
      ],
      "id": "pursuant-touch",
      "execution_count": 19,
      "outputs": []
    },
    {
      "cell_type": "code",
      "metadata": {
        "id": "partial-jewel"
      },
      "source": [
        "# Посчитаем средний чек\n",
        "total_data['ave_price'] = round(total_data['price'] / total_data['purchase'], 2)"
      ],
      "id": "partial-jewel",
      "execution_count": 20,
      "outputs": []
    },
    {
      "cell_type": "code",
      "metadata": {
        "id": "played-bracelet",
        "outputId": "6e95d838-415d-4c15-db3a-7fa199a50492",
        "colab": {
          "base_uri": "https://localhost:8080/",
          "height": 112
        }
      },
      "source": [
        "total_data"
      ],
      "id": "played-bracelet",
      "execution_count": 21,
      "outputs": [
        {
          "output_type": "execute_result",
          "data": {
            "text/plain": [
              "  group  user_id  purchase       price  conversion  ave_price\n",
              "0     A   145307     17487  1417780000       12.03   81076.23\n",
              "1     B   145381     17290  1533010000       11.89   88664.55"
            ],
            "text/html": [
              "\n",
              "  <div id=\"df-c79c83b8-15b2-4566-bd97-af5ef3015d04\">\n",
              "    <div class=\"colab-df-container\">\n",
              "      <div>\n",
              "<style scoped>\n",
              "    .dataframe tbody tr th:only-of-type {\n",
              "        vertical-align: middle;\n",
              "    }\n",
              "\n",
              "    .dataframe tbody tr th {\n",
              "        vertical-align: top;\n",
              "    }\n",
              "\n",
              "    .dataframe thead th {\n",
              "        text-align: right;\n",
              "    }\n",
              "</style>\n",
              "<table border=\"1\" class=\"dataframe\">\n",
              "  <thead>\n",
              "    <tr style=\"text-align: right;\">\n",
              "      <th></th>\n",
              "      <th>group</th>\n",
              "      <th>user_id</th>\n",
              "      <th>purchase</th>\n",
              "      <th>price</th>\n",
              "      <th>conversion</th>\n",
              "      <th>ave_price</th>\n",
              "    </tr>\n",
              "  </thead>\n",
              "  <tbody>\n",
              "    <tr>\n",
              "      <th>0</th>\n",
              "      <td>A</td>\n",
              "      <td>145307</td>\n",
              "      <td>17487</td>\n",
              "      <td>1417780000</td>\n",
              "      <td>12.03</td>\n",
              "      <td>81076.23</td>\n",
              "    </tr>\n",
              "    <tr>\n",
              "      <th>1</th>\n",
              "      <td>B</td>\n",
              "      <td>145381</td>\n",
              "      <td>17290</td>\n",
              "      <td>1533010000</td>\n",
              "      <td>11.89</td>\n",
              "      <td>88664.55</td>\n",
              "    </tr>\n",
              "  </tbody>\n",
              "</table>\n",
              "</div>\n",
              "      <button class=\"colab-df-convert\" onclick=\"convertToInteractive('df-c79c83b8-15b2-4566-bd97-af5ef3015d04')\"\n",
              "              title=\"Convert this dataframe to an interactive table.\"\n",
              "              style=\"display:none;\">\n",
              "        \n",
              "  <svg xmlns=\"http://www.w3.org/2000/svg\" height=\"24px\"viewBox=\"0 0 24 24\"\n",
              "       width=\"24px\">\n",
              "    <path d=\"M0 0h24v24H0V0z\" fill=\"none\"/>\n",
              "    <path d=\"M18.56 5.44l.94 2.06.94-2.06 2.06-.94-2.06-.94-.94-2.06-.94 2.06-2.06.94zm-11 1L8.5 8.5l.94-2.06 2.06-.94-2.06-.94L8.5 2.5l-.94 2.06-2.06.94zm10 10l.94 2.06.94-2.06 2.06-.94-2.06-.94-.94-2.06-.94 2.06-2.06.94z\"/><path d=\"M17.41 7.96l-1.37-1.37c-.4-.4-.92-.59-1.43-.59-.52 0-1.04.2-1.43.59L10.3 9.45l-7.72 7.72c-.78.78-.78 2.05 0 2.83L4 21.41c.39.39.9.59 1.41.59.51 0 1.02-.2 1.41-.59l7.78-7.78 2.81-2.81c.8-.78.8-2.07 0-2.86zM5.41 20L4 18.59l7.72-7.72 1.47 1.35L5.41 20z\"/>\n",
              "  </svg>\n",
              "      </button>\n",
              "      \n",
              "  <style>\n",
              "    .colab-df-container {\n",
              "      display:flex;\n",
              "      flex-wrap:wrap;\n",
              "      gap: 12px;\n",
              "    }\n",
              "\n",
              "    .colab-df-convert {\n",
              "      background-color: #E8F0FE;\n",
              "      border: none;\n",
              "      border-radius: 50%;\n",
              "      cursor: pointer;\n",
              "      display: none;\n",
              "      fill: #1967D2;\n",
              "      height: 32px;\n",
              "      padding: 0 0 0 0;\n",
              "      width: 32px;\n",
              "    }\n",
              "\n",
              "    .colab-df-convert:hover {\n",
              "      background-color: #E2EBFA;\n",
              "      box-shadow: 0px 1px 2px rgba(60, 64, 67, 0.3), 0px 1px 3px 1px rgba(60, 64, 67, 0.15);\n",
              "      fill: #174EA6;\n",
              "    }\n",
              "\n",
              "    [theme=dark] .colab-df-convert {\n",
              "      background-color: #3B4455;\n",
              "      fill: #D2E3FC;\n",
              "    }\n",
              "\n",
              "    [theme=dark] .colab-df-convert:hover {\n",
              "      background-color: #434B5C;\n",
              "      box-shadow: 0px 1px 3px 1px rgba(0, 0, 0, 0.15);\n",
              "      filter: drop-shadow(0px 1px 2px rgba(0, 0, 0, 0.3));\n",
              "      fill: #FFFFFF;\n",
              "    }\n",
              "  </style>\n",
              "\n",
              "      <script>\n",
              "        const buttonEl =\n",
              "          document.querySelector('#df-c79c83b8-15b2-4566-bd97-af5ef3015d04 button.colab-df-convert');\n",
              "        buttonEl.style.display =\n",
              "          google.colab.kernel.accessAllowed ? 'block' : 'none';\n",
              "\n",
              "        async function convertToInteractive(key) {\n",
              "          const element = document.querySelector('#df-c79c83b8-15b2-4566-bd97-af5ef3015d04');\n",
              "          const dataTable =\n",
              "            await google.colab.kernel.invokeFunction('convertToInteractive',\n",
              "                                                     [key], {});\n",
              "          if (!dataTable) return;\n",
              "\n",
              "          const docLinkHtml = 'Like what you see? Visit the ' +\n",
              "            '<a target=\"_blank\" href=https://colab.research.google.com/notebooks/data_table.ipynb>data table notebook</a>'\n",
              "            + ' to learn more about interactive tables.';\n",
              "          element.innerHTML = '';\n",
              "          dataTable['output_type'] = 'display_data';\n",
              "          await google.colab.output.renderOutput(dataTable, element);\n",
              "          const docLink = document.createElement('div');\n",
              "          docLink.innerHTML = docLinkHtml;\n",
              "          element.appendChild(docLink);\n",
              "        }\n",
              "      </script>\n",
              "    </div>\n",
              "  </div>\n",
              "  "
            ]
          },
          "metadata": {},
          "execution_count": 21
        }
      ]
    },
    {
      "cell_type": "code",
      "metadata": {
        "id": "expanded-small",
        "outputId": "7bfe629c-347a-4361-9cff-091198c6870c",
        "colab": {
          "base_uri": "https://localhost:8080/",
          "height": 283
        }
      },
      "source": [
        "# Гистограмма для группы А\n",
        "df1[(df1['purchase'] == 1) & (df1['group'] == 'A')]['price'].hist()\n",
        "\n"
      ],
      "id": "expanded-small",
      "execution_count": 22,
      "outputs": [
        {
          "output_type": "execute_result",
          "data": {
            "text/plain": [
              "<matplotlib.axes._subplots.AxesSubplot at 0x7ff22517f610>"
            ]
          },
          "metadata": {},
          "execution_count": 22
        },
        {
          "output_type": "display_data",
          "data": {
            "text/plain": [
              "<Figure size 432x288 with 1 Axes>"
            ],
            "image/png": "[encoded data removed]"
          },
          "metadata": {
            "needs_background": "light"
          }
        }
      ]
    },
    {
      "cell_type": "code",
      "metadata": {
        "id": "nonprofit-curve",
        "outputId": "ca963b2f-abb5-4f00-e491-f7e63dfb0b5b",
        "colab": {
          "base_uri": "https://localhost:8080/",
          "height": 283
        }
      },
      "source": [
        "# Гистограмма для группы Б\n",
        "df1[(df1['purchase'] == 1) & (df1['group'] == 'B')]['price'].hist()"
      ],
      "id": "nonprofit-curve",
      "execution_count": 23,
      "outputs": [
        {
          "output_type": "execute_result",
          "data": {
            "text/plain": [
              "<matplotlib.axes._subplots.AxesSubplot at 0x7ff225172c90>"
            ]
          },
          "metadata": {},
          "execution_count": 23
        },
        {
          "output_type": "display_data",
          "data": {
            "text/plain": [
              "<Figure size 432x288 with 1 Axes>"
            ],
            "image/png": "[encoded data removed]"
          },
          "metadata": {
            "needs_background": "light"
          }
        }
      ]
    },
    {
      "cell_type": "markdown",
      "metadata": {
        "id": "tamil-moscow"
      },
      "source": [
        "### Сделайте первичные выводы:\n",
        "Не смотря на то, что в группе Б было больше посетителей, конверсия в группе Б меньше на 1.16% (относительная). За счет меньшей конверсии в группе Б было меньше покупок, однако выручка группы Б больше выручки группы А на 115 230 000 единиц  или 7,5%. Большая выручка в группе Б складывается за счет того, что средний чек группы Б, выше чека группы А.\n",
        "\n",
        "Участники группы А чаще покупают туры за 50 000 рублей, при этом реже покупают туры за 100 000 рублей. В остальном покупательская способность обоих групп похожа."
      ],
      "id": "tamil-moscow"
    },
    {
      "cell_type": "markdown",
      "metadata": {
        "id": "animal-fitness"
      },
      "source": [
        "# Куммулятивные метрики:"
      ],
      "id": "animal-fitness"
    },
    {
      "cell_type": "code",
      "metadata": {
        "id": "female-numbers"
      },
      "source": [
        "# Для начала сгруппируем имеющуюся таблицу по дням и группам:\n",
        "df_daily = df1.groupby(['date', 'group']).agg({'user_id':'count', 'purchase':'sum', 'price':'sum'}).reset_index()"
      ],
      "id": "female-numbers",
      "execution_count": 24,
      "outputs": []
    },
    {
      "cell_type": "code",
      "metadata": {
        "id": "exclusive-squad"
      },
      "source": [
        "# для удобства переименуем столбцы\n",
        "df_daily = df_daily.rename({'user_id':'users'}, axis=1)"
      ],
      "id": "exclusive-squad",
      "execution_count": 25,
      "outputs": []
    },
    {
      "cell_type": "code",
      "metadata": {
        "id": "clear-racing",
        "outputId": "8628a47c-e9fe-43f8-b83c-99f96956a28b",
        "colab": {
          "base_uri": "https://localhost:8080/",
          "height": 206
        }
      },
      "source": [
        "df_daily.head()"
      ],
      "id": "clear-racing",
      "execution_count": 26,
      "outputs": [
        {
          "output_type": "execute_result",
          "data": {
            "text/plain": [
              "        date group  users  purchase     price\n",
              "0 2021-01-02     A   2854       359  29410000\n",
              "1 2021-01-02     B   2861       345  29660000\n",
              "2 2021-01-03     A   6596       748  62000000\n",
              "3 2021-01-03     B   6619       754  65960000\n",
              "4 2021-01-04     A   6566       799  64250000"
            ],
            "text/html": [
              "\n",
              "  <div id=\"df-a2afa313-4ce1-428f-86e1-6f00a5304aa9\">\n",
              "    <div class=\"colab-df-container\">\n",
              "      <div>\n",
              "<style scoped>\n",
              "    .dataframe tbody tr th:only-of-type {\n",
              "        vertical-align: middle;\n",
              "    }\n",
              "\n",
              "    .dataframe tbody tr th {\n",
              "        vertical-align: top;\n",
              "    }\n",
              "\n",
              "    .dataframe thead th {\n",
              "        text-align: right;\n",
              "    }\n",
              "</style>\n",
              "<table border=\"1\" class=\"dataframe\">\n",
              "  <thead>\n",
              "    <tr style=\"text-align: right;\">\n",
              "      <th></th>\n",
              "      <th>date</th>\n",
              "      <th>group</th>\n",
              "      <th>users</th>\n",
              "      <th>purchase</th>\n",
              "      <th>price</th>\n",
              "    </tr>\n",
              "  </thead>\n",
              "  <tbody>\n",
              "    <tr>\n",
              "      <th>0</th>\n",
              "      <td>2021-01-02</td>\n",
              "      <td>A</td>\n",
              "      <td>2854</td>\n",
              "      <td>359</td>\n",
              "      <td>29410000</td>\n",
              "    </tr>\n",
              "    <tr>\n",
              "      <th>1</th>\n",
              "      <td>2021-01-02</td>\n",
              "      <td>B</td>\n",
              "      <td>2861</td>\n",
              "      <td>345</td>\n",
              "      <td>29660000</td>\n",
              "    </tr>\n",
              "    <tr>\n",
              "      <th>2</th>\n",
              "      <td>2021-01-03</td>\n",
              "      <td>A</td>\n",
              "      <td>6596</td>\n",
              "      <td>748</td>\n",
              "      <td>62000000</td>\n",
              "    </tr>\n",
              "    <tr>\n",
              "      <th>3</th>\n",
              "      <td>2021-01-03</td>\n",
              "      <td>B</td>\n",
              "      <td>6619</td>\n",
              "      <td>754</td>\n",
              "      <td>65960000</td>\n",
              "    </tr>\n",
              "    <tr>\n",
              "      <th>4</th>\n",
              "      <td>2021-01-04</td>\n",
              "      <td>A</td>\n",
              "      <td>6566</td>\n",
              "      <td>799</td>\n",
              "      <td>64250000</td>\n",
              "    </tr>\n",
              "  </tbody>\n",
              "</table>\n",
              "</div>\n",
              "      <button class=\"colab-df-convert\" onclick=\"convertToInteractive('df-a2afa313-4ce1-428f-86e1-6f00a5304aa9')\"\n",
              "              title=\"Convert this dataframe to an interactive table.\"\n",
              "              style=\"display:none;\">\n",
              "        \n",
              "  <svg xmlns=\"http://www.w3.org/2000/svg\" height=\"24px\"viewBox=\"0 0 24 24\"\n",
              "       width=\"24px\">\n",
              "    <path d=\"M0 0h24v24H0V0z\" fill=\"none\"/>\n",
              "    <path d=\"M18.56 5.44l.94 2.06.94-2.06 2.06-.94-2.06-.94-.94-2.06-.94 2.06-2.06.94zm-11 1L8.5 8.5l.94-2.06 2.06-.94-2.06-.94L8.5 2.5l-.94 2.06-2.06.94zm10 10l.94 2.06.94-2.06 2.06-.94-2.06-.94-.94-2.06-.94 2.06-2.06.94z\"/><path d=\"M17.41 7.96l-1.37-1.37c-.4-.4-.92-.59-1.43-.59-.52 0-1.04.2-1.43.59L10.3 9.45l-7.72 7.72c-.78.78-.78 2.05 0 2.83L4 21.41c.39.39.9.59 1.41.59.51 0 1.02-.2 1.41-.59l7.78-7.78 2.81-2.81c.8-.78.8-2.07 0-2.86zM5.41 20L4 18.59l7.72-7.72 1.47 1.35L5.41 20z\"/>\n",
              "  </svg>\n",
              "      </button>\n",
              "      \n",
              "  <style>\n",
              "    .colab-df-container {\n",
              "      display:flex;\n",
              "      flex-wrap:wrap;\n",
              "      gap: 12px;\n",
              "    }\n",
              "\n",
              "    .colab-df-convert {\n",
              "      background-color: #E8F0FE;\n",
              "      border: none;\n",
              "      border-radius: 50%;\n",
              "      cursor: pointer;\n",
              "      display: none;\n",
              "      fill: #1967D2;\n",
              "      height: 32px;\n",
              "      padding: 0 0 0 0;\n",
              "      width: 32px;\n",
              "    }\n",
              "\n",
              "    .colab-df-convert:hover {\n",
              "      background-color: #E2EBFA;\n",
              "      box-shadow: 0px 1px 2px rgba(60, 64, 67, 0.3), 0px 1px 3px 1px rgba(60, 64, 67, 0.15);\n",
              "      fill: #174EA6;\n",
              "    }\n",
              "\n",
              "    [theme=dark] .colab-df-convert {\n",
              "      background-color: #3B4455;\n",
              "      fill: #D2E3FC;\n",
              "    }\n",
              "\n",
              "    [theme=dark] .colab-df-convert:hover {\n",
              "      background-color: #434B5C;\n",
              "      box-shadow: 0px 1px 3px 1px rgba(0, 0, 0, 0.15);\n",
              "      filter: drop-shadow(0px 1px 2px rgba(0, 0, 0, 0.3));\n",
              "      fill: #FFFFFF;\n",
              "    }\n",
              "  </style>\n",
              "\n",
              "      <script>\n",
              "        const buttonEl =\n",
              "          document.querySelector('#df-a2afa313-4ce1-428f-86e1-6f00a5304aa9 button.colab-df-convert');\n",
              "        buttonEl.style.display =\n",
              "          google.colab.kernel.accessAllowed ? 'block' : 'none';\n",
              "\n",
              "        async function convertToInteractive(key) {\n",
              "          const element = document.querySelector('#df-a2afa313-4ce1-428f-86e1-6f00a5304aa9');\n",
              "          const dataTable =\n",
              "            await google.colab.kernel.invokeFunction('convertToInteractive',\n",
              "                                                     [key], {});\n",
              "          if (!dataTable) return;\n",
              "\n",
              "          const docLinkHtml = 'Like what you see? Visit the ' +\n",
              "            '<a target=\"_blank\" href=https://colab.research.google.com/notebooks/data_table.ipynb>data table notebook</a>'\n",
              "            + ' to learn more about interactive tables.';\n",
              "          element.innerHTML = '';\n",
              "          dataTable['output_type'] = 'display_data';\n",
              "          await google.colab.output.renderOutput(dataTable, element);\n",
              "          const docLink = document.createElement('div');\n",
              "          docLink.innerHTML = docLinkHtml;\n",
              "          element.appendChild(docLink);\n",
              "        }\n",
              "      </script>\n",
              "    </div>\n",
              "  </div>\n",
              "  "
            ]
          },
          "metadata": {},
          "execution_count": 26
        }
      ]
    },
    {
      "cell_type": "code",
      "metadata": {
        "id": "fifteen-contract"
      },
      "source": [
        "# Рассчитаем по дням средний чек и конверсию:\n",
        "df_daily['ave_price'] = round(df_daily['price'] / df_daily['purchase'], 2)\n",
        "df_daily['conversion'] = round(df_daily['purchase'] / df_daily['users'], 2)"
      ],
      "id": "fifteen-contract",
      "execution_count": 27,
      "outputs": []
    },
    {
      "cell_type": "code",
      "metadata": {
        "id": "expanded-raising",
        "outputId": "d61ee236-ef9b-43a7-d073-bab79de6d365",
        "colab": {
          "base_uri": "https://localhost:8080/",
          "height": 206
        }
      },
      "source": [
        "df_daily.head()"
      ],
      "id": "expanded-raising",
      "execution_count": 28,
      "outputs": [
        {
          "output_type": "execute_result",
          "data": {
            "text/plain": [
              "        date group  users  purchase     price  ave_price  conversion\n",
              "0 2021-01-02     A   2854       359  29410000   81922.01        0.13\n",
              "1 2021-01-02     B   2861       345  29660000   85971.01        0.12\n",
              "2 2021-01-03     A   6596       748  62000000   82887.70        0.11\n",
              "3 2021-01-03     B   6619       754  65960000   87480.11        0.11\n",
              "4 2021-01-04     A   6566       799  64250000   80413.02        0.12"
            ],
            "text/html": [
              "\n",
              "  <div id=\"df-726fd295-55ef-469a-807d-bf49d98c4302\">\n",
              "    <div class=\"colab-df-container\">\n",
              "      <div>\n",
              "<style scoped>\n",
              "    .dataframe tbody tr th:only-of-type {\n",
              "        vertical-align: middle;\n",
              "    }\n",
              "\n",
              "    .dataframe tbody tr th {\n",
              "        vertical-align: top;\n",
              "    }\n",
              "\n",
              "    .dataframe thead th {\n",
              "        text-align: right;\n",
              "    }\n",
              "</style>\n",
              "<table border=\"1\" class=\"dataframe\">\n",
              "  <thead>\n",
              "    <tr style=\"text-align: right;\">\n",
              "      <th></th>\n",
              "      <th>date</th>\n",
              "      <th>group</th>\n",
              "      <th>users</th>\n",
              "      <th>purchase</th>\n",
              "      <th>price</th>\n",
              "      <th>ave_price</th>\n",
              "      <th>conversion</th>\n",
              "    </tr>\n",
              "  </thead>\n",
              "  <tbody>\n",
              "    <tr>\n",
              "      <th>0</th>\n",
              "      <td>2021-01-02</td>\n",
              "      <td>A</td>\n",
              "      <td>2854</td>\n",
              "      <td>359</td>\n",
              "      <td>29410000</td>\n",
              "      <td>81922.01</td>\n",
              "      <td>0.13</td>\n",
              "    </tr>\n",
              "    <tr>\n",
              "      <th>1</th>\n",
              "      <td>2021-01-02</td>\n",
              "      <td>B</td>\n",
              "      <td>2861</td>\n",
              "      <td>345</td>\n",
              "      <td>29660000</td>\n",
              "      <td>85971.01</td>\n",
              "      <td>0.12</td>\n",
              "    </tr>\n",
              "    <tr>\n",
              "      <th>2</th>\n",
              "      <td>2021-01-03</td>\n",
              "      <td>A</td>\n",
              "      <td>6596</td>\n",
              "      <td>748</td>\n",
              "      <td>62000000</td>\n",
              "      <td>82887.70</td>\n",
              "      <td>0.11</td>\n",
              "    </tr>\n",
              "    <tr>\n",
              "      <th>3</th>\n",
              "      <td>2021-01-03</td>\n",
              "      <td>B</td>\n",
              "      <td>6619</td>\n",
              "      <td>754</td>\n",
              "      <td>65960000</td>\n",
              "      <td>87480.11</td>\n",
              "      <td>0.11</td>\n",
              "    </tr>\n",
              "    <tr>\n",
              "      <th>4</th>\n",
              "      <td>2021-01-04</td>\n",
              "      <td>A</td>\n",
              "      <td>6566</td>\n",
              "      <td>799</td>\n",
              "      <td>64250000</td>\n",
              "      <td>80413.02</td>\n",
              "      <td>0.12</td>\n",
              "    </tr>\n",
              "  </tbody>\n",
              "</table>\n",
              "</div>\n",
              "      <button class=\"colab-df-convert\" onclick=\"convertToInteractive('df-726fd295-55ef-469a-807d-bf49d98c4302')\"\n",
              "              title=\"Convert this dataframe to an interactive table.\"\n",
              "              style=\"display:none;\">\n",
              "        \n",
              "  <svg xmlns=\"http://www.w3.org/2000/svg\" height=\"24px\"viewBox=\"0 0 24 24\"\n",
              "       width=\"24px\">\n",
              "    <path d=\"M0 0h24v24H0V0z\" fill=\"none\"/>\n",
              "    <path d=\"M18.56 5.44l.94 2.06.94-2.06 2.06-.94-2.06-.94-.94-2.06-.94 2.06-2.06.94zm-11 1L8.5 8.5l.94-2.06 2.06-.94-2.06-.94L8.5 2.5l-.94 2.06-2.06.94zm10 10l.94 2.06.94-2.06 2.06-.94-2.06-.94-.94-2.06-.94 2.06-2.06.94z\"/><path d=\"M17.41 7.96l-1.37-1.37c-.4-.4-.92-.59-1.43-.59-.52 0-1.04.2-1.43.59L10.3 9.45l-7.72 7.72c-.78.78-.78 2.05 0 2.83L4 21.41c.39.39.9.59 1.41.59.51 0 1.02-.2 1.41-.59l7.78-7.78 2.81-2.81c.8-.78.8-2.07 0-2.86zM5.41 20L4 18.59l7.72-7.72 1.47 1.35L5.41 20z\"/>\n",
              "  </svg>\n",
              "      </button>\n",
              "      \n",
              "  <style>\n",
              "    .colab-df-container {\n",
              "      display:flex;\n",
              "      flex-wrap:wrap;\n",
              "      gap: 12px;\n",
              "    }\n",
              "\n",
              "    .colab-df-convert {\n",
              "      background-color: #E8F0FE;\n",
              "      border: none;\n",
              "      border-radius: 50%;\n",
              "      cursor: pointer;\n",
              "      display: none;\n",
              "      fill: #1967D2;\n",
              "      height: 32px;\n",
              "      padding: 0 0 0 0;\n",
              "      width: 32px;\n",
              "    }\n",
              "\n",
              "    .colab-df-convert:hover {\n",
              "      background-color: #E2EBFA;\n",
              "      box-shadow: 0px 1px 2px rgba(60, 64, 67, 0.3), 0px 1px 3px 1px rgba(60, 64, 67, 0.15);\n",
              "      fill: #174EA6;\n",
              "    }\n",
              "\n",
              "    [theme=dark] .colab-df-convert {\n",
              "      background-color: #3B4455;\n",
              "      fill: #D2E3FC;\n",
              "    }\n",
              "\n",
              "    [theme=dark] .colab-df-convert:hover {\n",
              "      background-color: #434B5C;\n",
              "      box-shadow: 0px 1px 3px 1px rgba(0, 0, 0, 0.15);\n",
              "      filter: drop-shadow(0px 1px 2px rgba(0, 0, 0, 0.3));\n",
              "      fill: #FFFFFF;\n",
              "    }\n",
              "  </style>\n",
              "\n",
              "      <script>\n",
              "        const buttonEl =\n",
              "          document.querySelector('#df-726fd295-55ef-469a-807d-bf49d98c4302 button.colab-df-convert');\n",
              "        buttonEl.style.display =\n",
              "          google.colab.kernel.accessAllowed ? 'block' : 'none';\n",
              "\n",
              "        async function convertToInteractive(key) {\n",
              "          const element = document.querySelector('#df-726fd295-55ef-469a-807d-bf49d98c4302');\n",
              "          const dataTable =\n",
              "            await google.colab.kernel.invokeFunction('convertToInteractive',\n",
              "                                                     [key], {});\n",
              "          if (!dataTable) return;\n",
              "\n",
              "          const docLinkHtml = 'Like what you see? Visit the ' +\n",
              "            '<a target=\"_blank\" href=https://colab.research.google.com/notebooks/data_table.ipynb>data table notebook</a>'\n",
              "            + ' to learn more about interactive tables.';\n",
              "          element.innerHTML = '';\n",
              "          dataTable['output_type'] = 'display_data';\n",
              "          await google.colab.output.renderOutput(dataTable, element);\n",
              "          const docLink = document.createElement('div');\n",
              "          docLink.innerHTML = docLinkHtml;\n",
              "          element.appendChild(docLink);\n",
              "        }\n",
              "      </script>\n",
              "    </div>\n",
              "  </div>\n",
              "  "
            ]
          },
          "metadata": {},
          "execution_count": 28
        }
      ]
    },
    {
      "cell_type": "code",
      "metadata": {
        "id": "wired-protein",
        "outputId": "cf5f8ba6-da33-45b7-d645-42e211137565",
        "colab": {
          "base_uri": "https://localhost:8080/",
          "height": 319
        }
      },
      "source": [
        "# график среднего чека по дням\n",
        "plt.plot(df_daily[df_daily['group'] == 'A']['date'], df_daily[df_daily['group'] == 'A']['ave_price'], label='A')\n",
        "plt.plot(df_daily[df_daily['group'] == 'B']['date'], df_daily[df_daily['group'] == 'B']['ave_price'], label='B')\n",
        "plt.title('График Среднего Чека по дням') #Название графика\n",
        "plt.xticks(rotation = 45) # Разворот названия дат на оси X на 45 градусов\n",
        "plt.legend() \n",
        "plt.show() \n"
      ],
      "id": "wired-protein",
      "execution_count": 29,
      "outputs": [
        {
          "output_type": "display_data",
          "data": {
            "text/plain": [
              "<Figure size 432x288 with 1 Axes>"
            ],
            "image/png": "[encoded data removed]"
          },
          "metadata": {
            "needs_background": "light"
          }
        }
      ]
    },
    {
      "cell_type": "code",
      "metadata": {
        "id": "protecting-accused",
        "outputId": "41a51dfd-b866-4bc0-8fb4-5a13d73dc16c",
        "colab": {
          "base_uri": "https://localhost:8080/",
          "height": 319
        }
      },
      "source": [
        "# график конверсии по дням\n",
        "plt.plot(df_daily[df_daily['group'] == 'A']['date'], df_daily[df_daily['group'] == 'A']['conversion'], label='A')\n",
        "plt.plot(df_daily[df_daily['group'] == 'B']['date'], df_daily[df_daily['group'] == 'B']['conversion'], label='B')\n",
        "plt.title('График Конверсии по дням') #Название графика\n",
        "plt.xticks(rotation = 45) # Разворот названия дат на оси X на 45 градусов\n",
        "plt.legend() \n",
        "plt.show() \n",
        "\n"
      ],
      "id": "protecting-accused",
      "execution_count": 30,
      "outputs": [
        {
          "output_type": "display_data",
          "data": {
            "text/plain": [
              "<Figure size 432x288 with 1 Axes>"
            ],
            "image/png": "[encoded data removed]"
          },
          "metadata": {
            "needs_background": "light"
          }
        }
      ]
    },
    {
      "cell_type": "markdown",
      "metadata": {
        "id": "distinct-manhattan"
      },
      "source": [
        "Средний чек и конверсия по дням сильно скачут. Но каких-то выбросов не замечено."
      ],
      "id": "distinct-manhattan"
    },
    {
      "cell_type": "code",
      "metadata": {
        "id": "political-patent"
      },
      "source": [
        "# Напишем функцию для создания куммулятивной таблицы\n",
        "def cummulative_table(data, group): \n",
        "    df_cumm = [] \n",
        "    for i in data['date'].unique(): \n",
        "        out = data[(data['date'] <= i) & (data['group'] == group)].groupby('group')\\\n",
        "                .agg({'date':'max', 'users':'sum', 'purchase':'sum', 'price':'sum'}) \n",
        "        df_cumm.append(out) \n",
        "    return pd.concat(df_cumm).reset_index() "
      ],
      "id": "political-patent",
      "execution_count": 31,
      "outputs": []
    },
    {
      "cell_type": "code",
      "metadata": {
        "id": "fluid-welcome"
      },
      "source": [
        "cumm_a = cummulative_table(df_daily, 'A') \n",
        "cumm_b = cummulative_table(df_daily, 'B') "
      ],
      "id": "fluid-welcome",
      "execution_count": 32,
      "outputs": []
    },
    {
      "cell_type": "code",
      "metadata": {
        "id": "visible-principle"
      },
      "source": [
        "cumm_a['ave_price'] = round(cumm_a['price'] / cumm_a['purchase'], 2)\n",
        "cumm_a['conversion'] = round(cumm_a['purchase'] / cumm_a['users'], 5)\n",
        "\n",
        "cumm_b['ave_price'] = round(cumm_b['price'] / cumm_b['purchase'], 2)\n",
        "cumm_b['conversion'] = round(cumm_b['purchase'] / cumm_b['users'], 5)"
      ],
      "id": "visible-principle",
      "execution_count": 33,
      "outputs": []
    },
    {
      "cell_type": "code",
      "metadata": {
        "id": "north-wesley",
        "outputId": "ecb01529-8691-4e11-d738-50be0ca78aad",
        "colab": {
          "base_uri": "https://localhost:8080/",
          "height": 319
        }
      },
      "source": [
        "# Куммулятивный график среднего чека по дням\n",
        "plt.plot(cumm_a['date'], cumm_a['ave_price'], label='A')\n",
        "plt.plot(cumm_b['date'], cumm_b['ave_price'], label='B')\n",
        "plt.title('График куммулятивного Среднего Чека по дням') #Название графика\n",
        "plt.xticks(rotation = 45) # Разворот названия дат на оси X на 45 градусов\n",
        "plt.legend() \n",
        "plt.show() \n",
        "\n"
      ],
      "id": "north-wesley",
      "execution_count": 34,
      "outputs": [
        {
          "output_type": "display_data",
          "data": {
            "text/plain": [
              "<Figure size 432x288 with 1 Axes>"
            ],
            "image/png": "[encoded data removed]"
          },
          "metadata": {
            "needs_background": "light"
          }
        }
      ]
    },
    {
      "cell_type": "markdown",
      "metadata": {
        "id": "appreciated-expansion"
      },
      "source": [
        "Средний чек группы Б стабильно выше чека группы А. В начале были колебания, но потом данные стабилизировались."
      ],
      "id": "appreciated-expansion"
    },
    {
      "cell_type": "code",
      "metadata": {
        "id": "coordinate-moisture",
        "outputId": "091180a8-35ae-4bb7-963b-63761a4770b6",
        "colab": {
          "base_uri": "https://localhost:8080/",
          "height": 319
        }
      },
      "source": [
        "# Куммулятивный график среднего чека по дням\n",
        "plt.plot(cumm_a['date'], cumm_a['conversion'], label='A')\n",
        "plt.plot(cumm_b['date'], cumm_b['conversion'], label='B')\n",
        "plt.title('График куммулятивной конверсии по дням') #Название графика\n",
        "plt.xticks(rotation = 45) # Разворот названия дат на оси X на 45 градусов\n",
        "plt.legend() \n",
        "plt.show() \n",
        "\n"
      ],
      "id": "coordinate-moisture",
      "execution_count": 35,
      "outputs": [
        {
          "output_type": "display_data",
          "data": {
            "text/plain": [
              "<Figure size 432x288 with 1 Axes>"
            ],
            "image/png": "[encoded data removed]"
          },
          "metadata": {
            "needs_background": "light"
          }
        }
      ]
    },
    {
      "cell_type": "markdown",
      "metadata": {
        "id": "posted-moment"
      },
      "source": [
        "На графике видно, что в начале были скачки, но потом конверсия стабилизировалась. Конверсия группы А стабильно выше группы Б."
      ],
      "id": "posted-moment"
    },
    {
      "cell_type": "markdown",
      "metadata": {
        "id": "conceptual-former"
      },
      "source": [
        "# Проверка гипотезы о равенстве конверсии"
      ],
      "id": "conceptual-former"
    },
    {
      "cell_type": "code",
      "metadata": {
        "id": "varying-hawaiian",
        "outputId": "e4943185-880c-4e81-dda4-34939a8ea2e4",
        "colab": {
          "base_uri": "https://localhost:8080/",
          "height": 283
        }
      },
      "source": [
        "df_daily[df_daily['group'] == 'A']['conversion'].hist()"
      ],
      "id": "varying-hawaiian",
      "execution_count": 37,
      "outputs": [
        {
          "output_type": "execute_result",
          "data": {
            "text/plain": [
              "<matplotlib.axes._subplots.AxesSubplot at 0x7ff224e39050>"
            ]
          },
          "metadata": {},
          "execution_count": 37
        },
        {
          "output_type": "display_data",
          "data": {
            "text/plain": [
              "<Figure size 432x288 with 1 Axes>"
            ],
            "image/png": "[encoded data removed]"
          },
          "metadata": {
            "needs_background": "light"
          }
        }
      ]
    },
    {
      "cell_type": "code",
      "metadata": {
        "scrolled": true,
        "id": "medium-detector",
        "outputId": "00fb4c78-bfc0-4831-b139-900d5d3b5b13",
        "colab": {
          "base_uri": "https://localhost:8080/",
          "height": 283
        }
      },
      "source": [
        "df_daily[df_daily['group'] == 'B']['conversion'].hist()"
      ],
      "id": "medium-detector",
      "execution_count": 38,
      "outputs": [
        {
          "output_type": "execute_result",
          "data": {
            "text/plain": [
              "<matplotlib.axes._subplots.AxesSubplot at 0x7ff224cfdad0>"
            ]
          },
          "metadata": {},
          "execution_count": 38
        },
        {
          "output_type": "display_data",
          "data": {
            "text/plain": [
              "<Figure size 432x288 with 1 Axes>"
            ],
            "image/png": "[encoded data removed]"
          },
          "metadata": {
            "needs_background": "light"
          }
        }
      ]
    },
    {
      "cell_type": "markdown",
      "metadata": {
        "id": "present-indication"
      },
      "source": [
        "Распределение похоже на нормальное. Применим Z-тест"
      ],
      "id": "present-indication"
    },
    {
      "cell_type": "code",
      "metadata": {
        "id": "criminal-shark",
        "outputId": "32f6d95e-1b39-467b-880a-5d826a36963a",
        "colab": {
          "base_uri": "https://localhost:8080/"
        }
      },
      "source": [
        "a = .05\n",
        "\n",
        "x_A = 17487\n",
        "x_B = 17290\n",
        "\n",
        "n_A = 145307\n",
        "n_B = 145381\n",
        "\n",
        "p_A = x_A / n_A\n",
        "\n",
        "p_B = x_B / n_B\n",
        "\n",
        "p = (x_A + x_B) / (n_A + n_B)\n",
        "\n",
        "diff = p_A - p_B\n",
        "\n",
        "z = diff / mth.sqrt(p * (1 - p) * (1/n_A + 1/n_B))\n",
        "\n",
        "distr = st.norm(0, 1)\n",
        "\n",
        "z_p_val = (1 - distr.cdf(abs(z))) * 2\n",
        "print('P-value равен', z_p_val)\n",
        "\n",
        "\n"
      ],
      "id": "criminal-shark",
      "execution_count": 39,
      "outputs": [
        {
          "output_type": "stream",
          "name": "stdout",
          "text": [
            "P-value равен 0.23940749849829834\n"
          ]
        }
      ]
    },
    {
      "cell_type": "code",
      "metadata": {
        "id": "physical-leave",
        "outputId": "6e826b44-4a5a-4849-d795-944be270ba02",
        "colab": {
          "base_uri": "https://localhost:8080/"
        }
      },
      "source": [
        "z_p_val < a"
      ],
      "id": "physical-leave",
      "execution_count": 40,
      "outputs": [
        {
          "output_type": "execute_result",
          "data": {
            "text/plain": [
              "False"
            ]
          },
          "metadata": {},
          "execution_count": 40
        }
      ]
    },
    {
      "cell_type": "markdown",
      "metadata": {
        "id": "charming-thermal"
      },
      "source": [
        "p-value Больше принятого уровня значимости, следовательно статистически значимая разница между конверсиями отсутствует. "
      ],
      "id": "charming-thermal"
    },
    {
      "cell_type": "markdown",
      "metadata": {
        "id": "solid-guess"
      },
      "source": [
        "# Проверка гипотезы о равенстве среднего чека"
      ],
      "id": "solid-guess"
    },
    {
      "cell_type": "markdown",
      "metadata": {
        "id": "available-riverside"
      },
      "source": [
        "Сформулируем нулевую гипотезу:\n",
        "Н0: Средние чеки групп равны\n",
        "Н1: Средние чеки групп не равны"
      ],
      "id": "available-riverside"
    },
    {
      "cell_type": "code",
      "metadata": {
        "scrolled": true,
        "id": "elegant-hartford",
        "outputId": "9ef656b1-d5fd-44b7-a83a-39af58943e00",
        "colab": {
          "base_uri": "https://localhost:8080/",
          "height": 265
        }
      },
      "source": [
        "# Посмотрим на распределение\n",
        "plt.hist(df1[(df1['group'] == 'A') & (df1['purchase'] == 1)]['price'], label='A')\n",
        "plt.hist(df1[(df1['group'] == 'B') & (df1['purchase'] == 1)]['price'], label='B', alpha=0.3)\n",
        "plt.legend() \n",
        "plt.show() \n"
      ],
      "id": "elegant-hartford",
      "execution_count": 41,
      "outputs": [
        {
          "output_type": "display_data",
          "data": {
            "text/plain": [
              "<Figure size 432x288 with 1 Axes>"
            ],
            "image/png": "[encoded data removed]"
          },
          "metadata": {
            "needs_background": "light"
          }
        }
      ]
    },
    {
      "cell_type": "markdown",
      "metadata": {
        "id": "moving-hurricane"
      },
      "source": [
        "Распределение не похоже на нормальное. Применим тест Манна-Уитни"
      ],
      "id": "moving-hurricane"
    },
    {
      "cell_type": "code",
      "metadata": {
        "id": "aquatic-mouth",
        "outputId": "31809adb-6a5a-4851-c8a0-adabc3f1759b",
        "colab": {
          "base_uri": "https://localhost:8080/"
        }
      },
      "source": [
        "alpha = .05\n",
        "\n",
        "results = st.mannwhitneyu(df1[(df1['group'] == 'A') & (df1['purchase'] == 1)]['price'].values, \n",
        "                       df1[(df1['group'] == 'B') & (df1['purchase'] == 1)]['price'].values)\n",
        "\n",
        "print('p-value', results.pvalue)\n",
        "\n",
        "if (results.pvalue < alpha):\n",
        "   print(\"Отвергаем нулевую гипотезы - средние чеки не равны\")\n",
        "else:\n",
        "   print(\"Не отвергаем нулевую гипотезу - Средний чеки обеих групп равны\")"
      ],
      "id": "aquatic-mouth",
      "execution_count": 42,
      "outputs": [
        {
          "output_type": "stream",
          "name": "stdout",
          "text": [
            "p-value 1.412680672643368e-37\n",
            "Отвергаем нулевую гипотезы - средние чеки не равны\n"
          ]
        }
      ]
    },
    {
      "cell_type": "markdown",
      "metadata": {
        "id": "false-cattle"
      },
      "source": [
        "# Проверим средние чеки по дням"
      ],
      "id": "false-cattle"
    },
    {
      "cell_type": "markdown",
      "metadata": {
        "id": "touched-vision"
      },
      "source": [
        "Сформулируем нулевую гипотезу:\n",
        "\n",
        "Н0: Средние чеки групп равны\n",
        "\n",
        "Н1: Средние чеки групп не равны"
      ],
      "id": "touched-vision"
    },
    {
      "cell_type": "code",
      "metadata": {
        "id": "protected-flashing",
        "outputId": "fc3e4a64-08f0-4408-9951-b93fdc4028e5",
        "colab": {
          "base_uri": "https://localhost:8080/",
          "height": 265
        }
      },
      "source": [
        "# Посмотрим на распределение\n",
        "plt.hist(df_daily[df_daily['group'] == 'A']['ave_price'], label='A')\n",
        "plt.hist(df_daily[df_daily['group'] == 'B']['ave_price'], label='B', alpha=0.3)\n",
        "plt.legend() \n",
        "plt.show() \n",
        "\n"
      ],
      "id": "protected-flashing",
      "execution_count": 43,
      "outputs": [
        {
          "output_type": "display_data",
          "data": {
            "text/plain": [
              "<Figure size 432x288 with 1 Axes>"
            ],
            "image/png": "[encoded data removed]"
          },
          "metadata": {
            "needs_background": "light"
          }
        }
      ]
    },
    {
      "cell_type": "code",
      "metadata": {
        "scrolled": true,
        "id": "possible-disease",
        "outputId": "4559ac14-d489-4aae-f8ab-79974927d4e4",
        "colab": {
          "base_uri": "https://localhost:8080/"
        }
      },
      "source": [
        "alpha = .05\n",
        "results = st.ttest_ind(df_daily[df_daily['group'] == 'A']['ave_price'].values, \n",
        "                       df_daily[df_daily['group'] == 'B']['ave_price'].values)\n",
        "\n",
        "print('p-value', results.pvalue)\n",
        "\n",
        "if (results.pvalue < alpha):\n",
        "   print(\"Отвергаем нулевую гипотезы - Между средними чеками есть разница\")\n",
        "else:\n",
        "   print(\"Не отвергаем нулевую гипотезу - разницы нет\")"
      ],
      "id": "possible-disease",
      "execution_count": 44,
      "outputs": [
        {
          "output_type": "stream",
          "name": "stdout",
          "text": [
            "p-value 2.2523650297552113e-12\n",
            "Отвергаем нулевую гипотезы - Между средними чеками есть разница\n"
          ]
        }
      ]
    },
    {
      "cell_type": "markdown",
      "metadata": {
        "id": "removed-faculty"
      },
      "source": [
        "# Вывод"
      ],
      "id": "removed-faculty"
    },
    {
      "cell_type": "markdown",
      "metadata": {
        "id": "dated-grammar"
      },
      "source": [
        "Не смотря на то, что конверсия группы Б ниже, статистической значимости в конверсии не достигнуто, соответственно считать конверсии разными оснований нет.\n",
        "Зато Средний чек группы Б значительно выше, среднего чека группы А. Статистическая значимость достигнута.\n",
        "\n",
        "Рекомендуем признать, что вариант Б, лучше, чем вариант А"
      ],
      "id": "dated-grammar"
    }
  ]
}